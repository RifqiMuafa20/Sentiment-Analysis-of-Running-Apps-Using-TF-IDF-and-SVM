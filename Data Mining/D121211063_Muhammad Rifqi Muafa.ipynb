{
 "cells": [
  {
   "cell_type": "markdown",
   "metadata": {},
   "source": [
    "### Muhammad Rifqi Muafa\n",
    "### D121211063"
   ]
  },
  {
   "cell_type": "code",
   "execution_count": 24,
   "metadata": {},
   "outputs": [],
   "source": [
    "from nltk.corpus import wordnet as wn"
   ]
  },
  {
   "cell_type": "markdown",
   "metadata": {},
   "source": [
    "#### Sinonim"
   ]
  },
  {
   "cell_type": "code",
   "execution_count": 25,
   "metadata": {},
   "outputs": [
    {
     "name": "stdout",
     "output_type": "stream",
     "text": [
      "[Synset('happy.a.01'), Synset('felicitous.s.02'), Synset('glad.s.02'), Synset('happy.s.04')]\n"
     ]
    }
   ],
   "source": [
    "synset = wn.synsets(\"happy\")\n",
    "print(synset)"
   ]
  },
  {
   "cell_type": "code",
   "execution_count": 26,
   "metadata": {},
   "outputs": [
    {
     "name": "stdout",
     "output_type": "stream",
     "text": [
      "happy\n",
      "felicitous\n",
      "happy\n",
      "glad\n",
      "happy\n",
      "happy\n",
      "well-chosen\n"
     ]
    }
   ],
   "source": [
    "for syns in synset:\n",
    "    for word in syns.lemmas():\n",
    "        print(word.name())"
   ]
  },
  {
   "cell_type": "markdown",
   "metadata": {},
   "source": [
    "#### Antonim"
   ]
  },
  {
   "cell_type": "code",
   "execution_count": 27,
   "metadata": {},
   "outputs": [
    {
     "name": "stdout",
     "output_type": "stream",
     "text": [
      "Antonim dari kata 'correct':\n",
      "['falsify', 'wrong', 'incorrect', 'wrong', 'wrong']\n"
     ]
    }
   ],
   "source": [
    "def find_antonyms(word):\n",
    "    antonyms = []\n",
    "\n",
    "    synsets = wn.synsets(word)\n",
    "    for synset in synsets:\n",
    "        for lemma in synset.lemmas():\n",
    "            antonyms.extend(lemma.antonyms())\n",
    "    antonyms = [antonym.name() for antonym in antonyms]\n",
    "\n",
    "    return antonyms\n",
    "\n",
    "word = \"correct\"\n",
    "antonyms = find_antonyms(word)\n",
    "\n",
    "if antonyms:\n",
    "    print(f\"Antonim dari kata '{word}':\")\n",
    "    print(antonyms)\n",
    "else:\n",
    "    print(f\"Tidak ada antonim yang ditemukan untuk kata '{word}'.\")"
   ]
  },
  {
   "cell_type": "markdown",
   "metadata": {},
   "source": [
    "#### Hipernim"
   ]
  },
  {
   "cell_type": "code",
   "execution_count": 28,
   "metadata": {},
   "outputs": [
    {
     "name": "stdout",
     "output_type": "stream",
     "text": [
      "Hypernym for 'cat': [Synset('feline.n.01')]\n"
     ]
    }
   ],
   "source": [
    "print(\"Hypernym for 'cat':\", wn.synset('cat.n.01').hypernyms())"
   ]
  },
  {
   "cell_type": "markdown",
   "metadata": {},
   "source": [
    "#### Hiponim"
   ]
  },
  {
   "cell_type": "code",
   "execution_count": 29,
   "metadata": {},
   "outputs": [
    {
     "name": "stdout",
     "output_type": "stream",
     "text": [
      "Hiponim dari kata 'purple':\n",
      "['reddish_purple', 'violet', 'lavender', 'mauve']\n"
     ]
    }
   ],
   "source": [
    "def find_hyponyms(word):\n",
    "    \"\"\"\n",
    "    Fungsi ini mencari hiponim dari suatu kata menggunakan WordNet.\n",
    "\n",
    "    Args:\n",
    "        word: Kata yang ingin dicari hiponimnya.\n",
    "\n",
    "    Returns:\n",
    "        List of strings: Daftar hiponim dari kata tersebut.\n",
    "    \"\"\"\n",
    "    hyponyms = []  # Inisialisasi list untuk menyimpan hiponim\n",
    "\n",
    "    # Dapatkan semua synset (arti) dari kata yang diberikan\n",
    "    synsets = wn.synsets(word)\n",
    "\n",
    "    # Iterasi melalui setiap synset\n",
    "    for synset in synsets:\n",
    "        # Tambahkan semua hiponim dari synset ke dalam list hyponyms\n",
    "        hyponyms.extend(synset.hyponyms())\n",
    "\n",
    "    # Ambil hanya kata dasarnya dari setiap hiponim\n",
    "    hyponyms = [hyponym.name().split('.')[0] for hyponym in hyponyms]\n",
    "\n",
    "    return hyponyms\n",
    "\n",
    "# Contoh penggunaan\n",
    "word = \"purple\"\n",
    "hyponyms = find_hyponyms(word)\n",
    "\n",
    "if hyponyms:\n",
    "    print(f\"Hiponim dari kata '{word}':\")\n",
    "    print(hyponyms)\n",
    "else:\n",
    "    print(f\"Tidak ada hiponim yang ditemukan untuk kata '{word}'.\")\n"
   ]
  },
  {
   "cell_type": "markdown",
   "metadata": {},
   "source": [
    "#### Meronim"
   ]
  },
  {
   "cell_type": "code",
   "execution_count": 30,
   "metadata": {},
   "outputs": [
    {
     "name": "stdout",
     "output_type": "stream",
     "text": [
      "[Synset('rear_window.n.01'), Synset('buffer.n.06'), Synset('fender.n.01'), Synset('glove_compartment.n.01'), Synset('floorboard.n.02'), Synset('car_window.n.01'), Synset('grille.n.02'), Synset('accelerator.n.01'), Synset('car_mirror.n.01'), Synset('first_gear.n.01'), Synset('stabilizer_bar.n.01'), Synset('bumper.n.02'), Synset('car_door.n.01'), Synset('reverse.n.02'), Synset('car_seat.n.01'), Synset('high_gear.n.01'), Synset('window.n.02'), Synset('tail_fin.n.02'), Synset('third_gear.n.01'), Synset('running_board.n.01'), Synset('air_bag.n.01'), Synset('automobile_engine.n.01'), Synset('hood.n.09'), Synset('luggage_compartment.n.01'), Synset('roof.n.02'), Synset('gasoline_engine.n.01'), Synset('auto_accessory.n.01'), Synset('sunroof.n.01'), Synset('automobile_horn.n.01')]\n"
     ]
    }
   ],
   "source": [
    "car = wn.synset('car.n.01')\n",
    "print(car.part_meronyms())"
   ]
  },
  {
   "cell_type": "markdown",
   "metadata": {},
   "source": [
    "#### Holonim"
   ]
  },
  {
   "cell_type": "code",
   "execution_count": 31,
   "metadata": {},
   "outputs": [
    {
     "name": "stdout",
     "output_type": "stream",
     "text": [
      "Holonim dari 'kitchen':\n",
      "dwelling.n.01\n"
     ]
    }
   ],
   "source": [
    "part_holonyms = wn.synset('kitchen.n.01').part_holonyms()\n",
    "if part_holonyms:\n",
    "    print(\"Holonim dari 'kitchen':\")\n",
    "    for holonym in part_holonyms:\n",
    "        print(holonym.name())\n",
    "else:\n",
    "    print(\"Tidak ada bagian holonim yang ditemukan untuk 'kitchen'.\")"
   ]
  },
  {
   "cell_type": "markdown",
   "metadata": {},
   "source": [
    "#### Troponim"
   ]
  },
  {
   "cell_type": "code",
   "execution_count": 32,
   "metadata": {},
   "outputs": [
    {
     "name": "stdout",
     "output_type": "stream",
     "text": [
      "Troponim dari kata kerja 'walk' adalah:\n",
      "belt_along\n",
      "tram\n",
      "bang\n",
      "fumble\n",
      "rush_along\n",
      "enforce\n",
      "drag\n",
      "take_the_air\n",
      "condemn\n",
      "golf\n",
      "field\n",
      "beetle\n",
      "bully_off\n",
      "put_out\n",
      "caravan\n",
      "drift\n",
      "change\n",
      "roam\n",
      "apply\n",
      "bounce\n",
      "whisk\n",
      "retire\n",
      "spurt\n",
      "lurch\n",
      "overfly\n",
      "seek\n",
      "cricket\n",
      "walk\n",
      "snooker\n",
      "shuttle\n",
      "go_on\n",
      "clamor\n",
      "slither\n",
      "hie\n",
      "equalise\n",
      "island_hop\n",
      "career\n",
      "travel\n",
      "flock\n",
      "raft\n",
      "complete\n",
      "wing\n",
      "err\n",
      "teetertotter\n",
      "single-foot\n",
      "hasten\n",
      "do\n",
      "replay\n",
      "pass_by\n",
      "stray\n",
      "get_about\n",
      "drive\n",
      "cannonball_along\n",
      "hiss\n",
      "move_back\n",
      "proceed\n",
      "crisscross\n",
      "round\n",
      "tag_along\n",
      "return\n",
      "step_on_it\n",
      "bucket_along\n",
      "glide\n",
      "step\n",
      "play_out\n",
      "par\n",
      "hotfoot\n",
      "get\n",
      "get_even\n",
      "automobile\n",
      "vagabond\n",
      "ace\n",
      "go_by\n",
      "thread\n",
      "jaywalk\n",
      "recede\n",
      "follow\n",
      "rove\n",
      "backstop\n",
      "fullback\n",
      "blow\n",
      "pelt_along\n",
      "whistle\n",
      "come_up\n",
      "swing\n",
      "shack\n",
      "force\n",
      "pass\n",
      "crank\n",
      "volley\n",
      "range\n",
      "prance\n",
      "tread\n",
      "escort\n",
      "travel_rapidly\n",
      "pan\n",
      "hurtle\n",
      "hole_up\n",
      "canter\n",
      "ease\n",
      "back\n",
      "bowl\n",
      "squeeze\n",
      "course\n",
      "see\n",
      "go_across\n",
      "precede\n",
      "swim\n",
      "go_forward\n",
      "eagle\n",
      "betake_oneself\n",
      "pass_on\n",
      "derail\n",
      "whine\n",
      "arise\n",
      "slide\n",
      "angle\n",
      "crawl\n",
      "race\n",
      "swan\n",
      "coerce\n",
      "march_on\n",
      "ford\n",
      "nail\n",
      "advance\n",
      "go_down\n",
      "ferry\n",
      "lance\n",
      "repair\n",
      "surpass\n",
      "forge\n",
      "play\n",
      "cast\n",
      "be_adrift\n",
      "weave\n",
      "call\n",
      "catch\n",
      "cruise\n",
      "face_off\n",
      "teeter-totter\n",
      "assert_oneself\n",
      "lift\n",
      "plow\n",
      "ramble\n",
      "motor\n",
      "travel_by\n",
      "tramp\n",
      "pull_back\n",
      "snowshoe\n",
      "whoosh\n",
      "kick\n",
      "misplay\n",
      "swash\n",
      "circle\n",
      "remember_oneself\n",
      "consort\n",
      "hale\n",
      "withdraw\n",
      "come\n",
      "scramble\n",
      "carry\n",
      "draw_back\n",
      "pass_over\n",
      "spread\n",
      "convert\n",
      "putt\n",
      "speed\n",
      "go_past\n",
      "turn\n",
      "float\n",
      "breeze\n",
      "steamer\n",
      "taxi\n",
      "bid\n",
      "rush\n",
      "outflank\n",
      "thrust\n",
      "get_around\n",
      "circulate\n",
      "journey\n",
      "pull_away\n",
      "trundle\n",
      "spirt\n",
      "creep\n",
      "retrograde\n",
      "ascend\n",
      "hurry\n",
      "shoot\n",
      "sit\n",
      "accompany\n",
      "exit\n",
      "pursue\n",
      "ride\n",
      "make\n",
      "unblock\n",
      "zip\n",
      "line_up\n",
      "go_up\n",
      "run\n",
      "go_through\n",
      "transfer\n",
      "ghost\n",
      "wend\n",
      "equalize\n",
      "develop\n",
      "trail\n",
      "continue\n",
      "take\n",
      "bandy\n",
      "jounce\n",
      "meander\n",
      "die\n",
      "impose\n",
      "croquet\n",
      "steam\n",
      "precess\n",
      "curl\n",
      "come_down\n",
      "go_around\n",
      "homer\n",
      "wind\n",
      "sift\n",
      "implement\n",
      "gallop\n",
      "pace\n",
      "jump\n",
      "revoke\n",
      "resort\n",
      "move_up\n",
      "shame\n",
      "progress\n",
      "cradle\n",
      "start\n",
      "wander\n",
      "bridge\n",
      "rack\n",
      "seesaw\n",
      "move_around\n",
      "slice_into\n",
      "retreat\n",
      "travel_purposefully\n",
      "billow\n",
      "have\n",
      "foul\n",
      "fly\n",
      "propagate\n",
      "wheel\n",
      "slice_through\n",
      "stride\n",
      "zoom\n",
      "push\n",
      "swap\n",
      "quarterback\n",
      "travel_along\n",
      "plough\n",
      "uprise\n",
      "zigzag\n",
      "descend\n",
      "lead\n",
      "gamble\n",
      "draw\n",
      "tee_off\n",
      "ski\n",
      "whish\n",
      "move_on\n",
      "roll\n",
      "fall\n",
      "rise\n",
      "hop\n",
      "pressure\n",
      "circuit\n"
     ]
    }
   ],
   "source": [
    "def get_troponyms(verb):\n",
    "    \"\"\"\n",
    "    Mencari troponim (kata kerja yang lebih spesifik) dari kata kerja yang diberikan.\n",
    "\n",
    "    Args:\n",
    "        verb (str): Kata kerja yang ingin dicari troponimnya.\n",
    "\n",
    "    Returns:\n",
    "        Set: Set berisi troponim dari kata kerja tersebut.\n",
    "    \"\"\"\n",
    "    troponyms = set()\n",
    "    \n",
    "    for synset in wn.synsets(verb, pos=wn.VERB):\n",
    "        for hypernym in synset.hypernyms():\n",
    "            for hyponym in hypernym.hyponyms():\n",
    "                troponyms.update(hyponym.lemma_names())\n",
    "    \n",
    "    return troponyms\n",
    "\n",
    "# Kata kerja untuk mencari troponim\n",
    "verb = \"walk\"\n",
    "\n",
    "# Mencari troponim\n",
    "troponyms = get_troponyms(verb)\n",
    "\n",
    "print(f\"Troponim dari kata kerja '{verb}' adalah:\")\n",
    "for troponym in troponyms:\n",
    "    print(troponym)"
   ]
  }
 ],
 "metadata": {
  "kernelspec": {
   "display_name": "Python 3",
   "language": "python",
   "name": "python3"
  },
  "language_info": {
   "codemirror_mode": {
    "name": "ipython",
    "version": 3
   },
   "file_extension": ".py",
   "mimetype": "text/x-python",
   "name": "python",
   "nbconvert_exporter": "python",
   "pygments_lexer": "ipython3",
   "version": "3.11.4"
  }
 },
 "nbformat": 4,
 "nbformat_minor": 2
}
