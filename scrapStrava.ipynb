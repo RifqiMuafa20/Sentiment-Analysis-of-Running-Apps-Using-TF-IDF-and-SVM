{
 "cells": [
  {
   "cell_type": "markdown",
   "metadata": {},
   "source": [
    "#### Import Library"
   ]
  },
  {
   "cell_type": "code",
   "execution_count": 1,
   "metadata": {},
   "outputs": [],
   "source": [
    "from google_play_scraper import app\n",
    "from google_play_scraper import Sort, reviews\n",
    "\n",
    "import pandas as pd\n",
    "import numpy as np\n",
    "import matplotlib.pyplot as plt"
   ]
  },
  {
   "cell_type": "markdown",
   "metadata": {},
   "source": [
    "#### Scrapping Data From Playstore"
   ]
  },
  {
   "cell_type": "code",
   "execution_count": 2,
   "metadata": {},
   "outputs": [],
   "source": [
    "#Scrape desired number of reviews\n",
    "#Run kode ini jika ingin scrape data dengan jumlah tertentu. Ganti (misal, ingin scrape sejumlah 1000, maka ganti kode , count = 1000 )\n",
    "\n",
    "result, continuation_token = reviews(\n",
    "    'com.strava',\n",
    "    lang='id', # defaults to 'en'\n",
    "    country='id', # defaults to 'us'\n",
    "    sort=Sort.MOST_RELEVANT, # defaults to Sort.MOST_RELEVANT you can use Sort.NEWEST to get newst reviews\n",
    "    count=350, # defaults to 100\n",
    "    filter_score_with=None # defaults to None(means all score) Use 1 or 2 or 3 or 4 or 5 to select certain score\n",
    ")"
   ]
  },
  {
   "cell_type": "markdown",
   "metadata": {},
   "source": [
    "#### Change data to Data Frame"
   ]
  },
  {
   "cell_type": "code",
   "execution_count": 3,
   "metadata": {},
   "outputs": [
    {
     "data": {
      "text/html": [
       "<div>\n",
       "<style scoped>\n",
       "    .dataframe tbody tr th:only-of-type {\n",
       "        vertical-align: middle;\n",
       "    }\n",
       "\n",
       "    .dataframe tbody tr th {\n",
       "        vertical-align: top;\n",
       "    }\n",
       "\n",
       "    .dataframe thead th {\n",
       "        text-align: right;\n",
       "    }\n",
       "</style>\n",
       "<table border=\"1\" class=\"dataframe\">\n",
       "  <thead>\n",
       "    <tr style=\"text-align: right;\">\n",
       "      <th></th>\n",
       "      <th>reviewId</th>\n",
       "      <th>userName</th>\n",
       "      <th>userImage</th>\n",
       "      <th>content</th>\n",
       "      <th>score</th>\n",
       "      <th>thumbsUpCount</th>\n",
       "      <th>reviewCreatedVersion</th>\n",
       "      <th>at</th>\n",
       "      <th>replyContent</th>\n",
       "      <th>repliedAt</th>\n",
       "      <th>appVersion</th>\n",
       "    </tr>\n",
       "  </thead>\n",
       "  <tbody>\n",
       "    <tr>\n",
       "      <th>0</th>\n",
       "      <td>61187307-deb6-48da-b8bf-acf281628ab2</td>\n",
       "      <td>Adaman Chess</td>\n",
       "      <td>https://play-lh.googleusercontent.com/a-/ALV-U...</td>\n",
       "      <td>Aplikasi yang membantu untuk merekam aktivitas...</td>\n",
       "      <td>5</td>\n",
       "      <td>2</td>\n",
       "      <td>376.10</td>\n",
       "      <td>2024-09-29 04:37:20</td>\n",
       "      <td>None</td>\n",
       "      <td>None</td>\n",
       "      <td>376.10</td>\n",
       "    </tr>\n",
       "    <tr>\n",
       "      <th>1</th>\n",
       "      <td>fd05477e-f2dc-4318-a6bc-2c7a26304783</td>\n",
       "      <td>Muhammad Hanif hamdani</td>\n",
       "      <td>https://play-lh.googleusercontent.com/a-/ALV-U...</td>\n",
       "      <td>Overall udah bagus bgt fiturnya, bisa dibawa l...</td>\n",
       "      <td>5</td>\n",
       "      <td>2</td>\n",
       "      <td>376.10</td>\n",
       "      <td>2024-09-29 20:25:43</td>\n",
       "      <td>None</td>\n",
       "      <td>None</td>\n",
       "      <td>376.10</td>\n",
       "    </tr>\n",
       "    <tr>\n",
       "      <th>2</th>\n",
       "      <td>4617f3d8-6912-4e2e-862a-899f59af22fc</td>\n",
       "      <td>Andy Cahya</td>\n",
       "      <td>https://play-lh.googleusercontent.com/a-/ALV-U...</td>\n",
       "      <td>Gak sengaja nutup app ini, pas mau dibuka ulan...</td>\n",
       "      <td>1</td>\n",
       "      <td>14</td>\n",
       "      <td>372.12</td>\n",
       "      <td>2024-08-16 16:14:46</td>\n",
       "      <td>None</td>\n",
       "      <td>None</td>\n",
       "      <td>372.12</td>\n",
       "    </tr>\n",
       "    <tr>\n",
       "      <th>3</th>\n",
       "      <td>4e15e4c5-7aa9-41f7-9ae1-403f162b384d</td>\n",
       "      <td>Sarliy pw</td>\n",
       "      <td>https://play-lh.googleusercontent.com/a-/ALV-U...</td>\n",
       "      <td>Aplikasinya sangat bagus, sangat recommended b...</td>\n",
       "      <td>5</td>\n",
       "      <td>51</td>\n",
       "      <td>371.10</td>\n",
       "      <td>2024-08-11 22:58:16</td>\n",
       "      <td>None</td>\n",
       "      <td>None</td>\n",
       "      <td>371.10</td>\n",
       "    </tr>\n",
       "    <tr>\n",
       "      <th>4</th>\n",
       "      <td>a92e77c3-6faa-4cbe-a4d7-80f644cd5bc2</td>\n",
       "      <td>Daukhan Permana</td>\n",
       "      <td>https://play-lh.googleusercontent.com/a-/ALV-U...</td>\n",
       "      <td>Ride Auto-Pause tidak berfungsi sesuai yg diha...</td>\n",
       "      <td>4</td>\n",
       "      <td>30</td>\n",
       "      <td>376.10</td>\n",
       "      <td>2024-09-27 13:08:15</td>\n",
       "      <td>None</td>\n",
       "      <td>None</td>\n",
       "      <td>376.10</td>\n",
       "    </tr>\n",
       "  </tbody>\n",
       "</table>\n",
       "</div>"
      ],
      "text/plain": [
       "                               reviewId                userName  \\\n",
       "0  61187307-deb6-48da-b8bf-acf281628ab2            Adaman Chess   \n",
       "1  fd05477e-f2dc-4318-a6bc-2c7a26304783  Muhammad Hanif hamdani   \n",
       "2  4617f3d8-6912-4e2e-862a-899f59af22fc              Andy Cahya   \n",
       "3  4e15e4c5-7aa9-41f7-9ae1-403f162b384d               Sarliy pw   \n",
       "4  a92e77c3-6faa-4cbe-a4d7-80f644cd5bc2         Daukhan Permana   \n",
       "\n",
       "                                           userImage  \\\n",
       "0  https://play-lh.googleusercontent.com/a-/ALV-U...   \n",
       "1  https://play-lh.googleusercontent.com/a-/ALV-U...   \n",
       "2  https://play-lh.googleusercontent.com/a-/ALV-U...   \n",
       "3  https://play-lh.googleusercontent.com/a-/ALV-U...   \n",
       "4  https://play-lh.googleusercontent.com/a-/ALV-U...   \n",
       "\n",
       "                                             content  score  thumbsUpCount  \\\n",
       "0  Aplikasi yang membantu untuk merekam aktivitas...      5              2   \n",
       "1  Overall udah bagus bgt fiturnya, bisa dibawa l...      5              2   \n",
       "2  Gak sengaja nutup app ini, pas mau dibuka ulan...      1             14   \n",
       "3  Aplikasinya sangat bagus, sangat recommended b...      5             51   \n",
       "4  Ride Auto-Pause tidak berfungsi sesuai yg diha...      4             30   \n",
       "\n",
       "  reviewCreatedVersion                  at replyContent repliedAt appVersion  \n",
       "0               376.10 2024-09-29 04:37:20         None      None     376.10  \n",
       "1               376.10 2024-09-29 20:25:43         None      None     376.10  \n",
       "2               372.12 2024-08-16 16:14:46         None      None     372.12  \n",
       "3               371.10 2024-08-11 22:58:16         None      None     371.10  \n",
       "4               376.10 2024-09-27 13:08:15         None      None     376.10  "
      ]
     },
     "execution_count": 3,
     "metadata": {},
     "output_type": "execute_result"
    }
   ],
   "source": [
    "df_busu = pd.DataFrame(np.array(result),columns=['review'])\n",
    "\n",
    "df_busu = df_busu.join(pd.DataFrame(df_busu.pop('review').tolist()))\n",
    "\n",
    "df_busu.drop_duplicates(subset = [\"content\"])\n",
    "\n",
    "df_busu.head()"
   ]
  },
  {
   "cell_type": "code",
   "execution_count": 4,
   "metadata": {},
   "outputs": [
    {
     "data": {
      "text/plain": [
       "350"
      ]
     },
     "execution_count": 4,
     "metadata": {},
     "output_type": "execute_result"
    }
   ],
   "source": [
    "len(df_busu.index) #count the number of data we got"
   ]
  },
  {
   "cell_type": "markdown",
   "metadata": {},
   "source": [
    "#### Select the Columns and Sort the Data"
   ]
  },
  {
   "cell_type": "code",
   "execution_count": 6,
   "metadata": {},
   "outputs": [
    {
     "data": {
      "text/html": [
       "<div>\n",
       "<style scoped>\n",
       "    .dataframe tbody tr th:only-of-type {\n",
       "        vertical-align: middle;\n",
       "    }\n",
       "\n",
       "    .dataframe tbody tr th {\n",
       "        vertical-align: top;\n",
       "    }\n",
       "\n",
       "    .dataframe thead th {\n",
       "        text-align: right;\n",
       "    }\n",
       "</style>\n",
       "<table border=\"1\" class=\"dataframe\">\n",
       "  <thead>\n",
       "    <tr style=\"text-align: right;\">\n",
       "      <th></th>\n",
       "      <th>userName</th>\n",
       "      <th>score</th>\n",
       "      <th>content</th>\n",
       "    </tr>\n",
       "  </thead>\n",
       "  <tbody>\n",
       "    <tr>\n",
       "      <th>0</th>\n",
       "      <td>Adaman Chess</td>\n",
       "      <td>5</td>\n",
       "      <td>Aplikasi yang membantu untuk merekam aktivitas...</td>\n",
       "    </tr>\n",
       "    <tr>\n",
       "      <th>1</th>\n",
       "      <td>Muhammad Hanif hamdani</td>\n",
       "      <td>5</td>\n",
       "      <td>Overall udah bagus bgt fiturnya, bisa dibawa l...</td>\n",
       "    </tr>\n",
       "    <tr>\n",
       "      <th>2</th>\n",
       "      <td>Andy Cahya</td>\n",
       "      <td>1</td>\n",
       "      <td>Gak sengaja nutup app ini, pas mau dibuka ulan...</td>\n",
       "    </tr>\n",
       "    <tr>\n",
       "      <th>3</th>\n",
       "      <td>Sarliy pw</td>\n",
       "      <td>5</td>\n",
       "      <td>Aplikasinya sangat bagus, sangat recommended b...</td>\n",
       "    </tr>\n",
       "    <tr>\n",
       "      <th>4</th>\n",
       "      <td>Daukhan Permana</td>\n",
       "      <td>4</td>\n",
       "      <td>Ride Auto-Pause tidak berfungsi sesuai yg diha...</td>\n",
       "    </tr>\n",
       "  </tbody>\n",
       "</table>\n",
       "</div>"
      ],
      "text/plain": [
       "                 userName  score  \\\n",
       "0            Adaman Chess      5   \n",
       "1  Muhammad Hanif hamdani      5   \n",
       "2              Andy Cahya      1   \n",
       "3               Sarliy pw      5   \n",
       "4         Daukhan Permana      4   \n",
       "\n",
       "                                             content  \n",
       "0  Aplikasi yang membantu untuk merekam aktivitas...  \n",
       "1  Overall udah bagus bgt fiturnya, bisa dibawa l...  \n",
       "2  Gak sengaja nutup app ini, pas mau dibuka ulan...  \n",
       "3  Aplikasinya sangat bagus, sangat recommended b...  \n",
       "4  Ride Auto-Pause tidak berfungsi sesuai yg diha...  "
      ]
     },
     "execution_count": 6,
     "metadata": {},
     "output_type": "execute_result"
    }
   ],
   "source": [
    "#Run This Code to Sort the Data By Date \n",
    "\n",
    "new_df = df_busu[['userName', 'score', 'content']] #select the columns you want\n",
    "new_df.head()"
   ]
  },
  {
   "cell_type": "markdown",
   "metadata": {},
   "source": [
    "#### Save the Data to xlsx file"
   ]
  },
  {
   "cell_type": "code",
   "execution_count": 7,
   "metadata": {},
   "outputs": [],
   "source": [
    "new_df.to_excel(\"scrapped_data_strava.xlsx\", index = False)  #Save the file as excel , to download: click the folder icon on the left. the excel file should be there."
   ]
  },
  {
   "cell_type": "markdown",
   "metadata": {},
   "source": [
    "#### Show Diagram"
   ]
  },
  {
   "cell_type": "code",
   "execution_count": 4,
   "metadata": {},
   "outputs": [
    {
     "data": {
      "image/png": "[encoded data removed]",
      "text/plain": [
       "<Figure size 600x400 with 1 Axes>"
      ]
     },
     "metadata": {},
     "output_type": "display_data"
    }
   ],
   "source": [
    "# Load the dataset from the Excel file\n",
    "file_path = 'scrapped_data_strava.xlsx'  # Update this path\n",
    "data = pd.read_excel(file_path)\n",
    "\n",
    "# Count the occurrences of each label\n",
    "label_counts = data['Label'].value_counts().sort_index()\n",
    "\n",
    "# Create a bar plot for the label counts\n",
    "plt.figure(figsize=(6, 4))\n",
    "bars = plt.bar(label_counts.index, label_counts.values, color=['red', 'gray', 'green'])\n",
    "plt.xticks([0, 1, 2], ['Negatif (0)', 'Netral (1)', 'Positif (2)'])\n",
    "plt.ylabel('Jumlah')\n",
    "plt.title('Perbandingan Total Tiap Label Sentimen')\n",
    "plt.grid(axis='y', linestyle='--', alpha=0.7)\n",
    "\n",
    "for bar in bars:\n",
    "    yval = bar.get_height()\n",
    "    plt.text(bar.get_x() + bar.get_width()/2, yval, int(yval), ha='center', va='bottom')\n",
    "\n",
    "# Show the plot\n",
    "plt.tight_layout()\n",
    "plt.show()"
   ]
  }
 ],
 "metadata": {
  "kernelspec": {
   "display_name": "Python 3",
   "language": "python",
   "name": "python3"
  },
  "language_info": {
   "codemirror_mode": {
    "name": "ipython",
    "version": 3
   },
   "file_extension": ".py",
   "mimetype": "text/x-python",
   "name": "python",
   "nbconvert_exporter": "python",
   "pygments_lexer": "ipython3",
   "version": "3.11.4"
  }
 },
 "nbformat": 4,
 "nbformat_minor": 2
}
