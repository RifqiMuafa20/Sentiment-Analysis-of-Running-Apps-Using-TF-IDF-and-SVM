{
 "cells": [
  {
   "cell_type": "markdown",
   "metadata": {},
   "source": [
    "#### Import Library"
   ]
  },
  {
   "cell_type": "code",
   "execution_count": 3,
   "metadata": {},
   "outputs": [],
   "source": [
    "from google_play_scraper import app\n",
    "from google_play_scraper import Sort, reviews\n",
    "\n",
    "import pandas as pd\n",
    "import numpy as np"
   ]
  },
  {
   "cell_type": "markdown",
   "metadata": {},
   "source": [
    "#### Scrapping Data From Playstore"
   ]
  },
  {
   "cell_type": "code",
   "execution_count": 4,
   "metadata": {},
   "outputs": [],
   "source": [
    "#Scrape desired number of reviews\n",
    "#Run kode ini jika ingin scrape data dengan jumlah tertentu. Ganti (misal, ingin scrape sejumlah 1000, maka ganti kode , count = 1000 )\n",
    "\n",
    "result, continuation_token = reviews(\n",
    "    'com.strava',\n",
    "    lang='id', # defaults to 'en'\n",
    "    country='id', # defaults to 'us'\n",
    "    sort=Sort.MOST_RELEVANT, # defaults to Sort.MOST_RELEVANT you can use Sort.NEWEST to get newst reviews\n",
    "    count=300, # defaults to 100\n",
    "    filter_score_with=None # defaults to None(means all score) Use 1 or 2 or 3 or 4 or 5 to select certain score\n",
    ")"
   ]
  },
  {
   "cell_type": "markdown",
   "metadata": {},
   "source": [
    "#### Change data to Data Frame"
   ]
  },
  {
   "cell_type": "code",
   "execution_count": 16,
   "metadata": {},
   "outputs": [
    {
     "data": {
      "text/html": [
       "<div>\n",
       "<style scoped>\n",
       "    .dataframe tbody tr th:only-of-type {\n",
       "        vertical-align: middle;\n",
       "    }\n",
       "\n",
       "    .dataframe tbody tr th {\n",
       "        vertical-align: top;\n",
       "    }\n",
       "\n",
       "    .dataframe thead th {\n",
       "        text-align: right;\n",
       "    }\n",
       "</style>\n",
       "<table border=\"1\" class=\"dataframe\">\n",
       "  <thead>\n",
       "    <tr style=\"text-align: right;\">\n",
       "      <th></th>\n",
       "      <th>reviewId</th>\n",
       "      <th>userName</th>\n",
       "      <th>userImage</th>\n",
       "      <th>content</th>\n",
       "      <th>score</th>\n",
       "      <th>thumbsUpCount</th>\n",
       "      <th>reviewCreatedVersion</th>\n",
       "      <th>at</th>\n",
       "      <th>replyContent</th>\n",
       "      <th>repliedAt</th>\n",
       "      <th>appVersion</th>\n",
       "    </tr>\n",
       "  </thead>\n",
       "  <tbody>\n",
       "    <tr>\n",
       "      <th>0</th>\n",
       "      <td>4617f3d8-6912-4e2e-862a-899f59af22fc</td>\n",
       "      <td>Andy Cahya</td>\n",
       "      <td>https://play-lh.googleusercontent.com/a-/ALV-U...</td>\n",
       "      <td>Gak sengaja nutup app ini, pas mau dibuka ulan...</td>\n",
       "      <td>1</td>\n",
       "      <td>8</td>\n",
       "      <td>372.12</td>\n",
       "      <td>2024-08-16 16:14:46</td>\n",
       "      <td>None</td>\n",
       "      <td>None</td>\n",
       "      <td>372.12</td>\n",
       "    </tr>\n",
       "    <tr>\n",
       "      <th>1</th>\n",
       "      <td>4e15e4c5-7aa9-41f7-9ae1-403f162b384d</td>\n",
       "      <td>Sarliy pw</td>\n",
       "      <td>https://play-lh.googleusercontent.com/a-/ALV-U...</td>\n",
       "      <td>Aplikasinya sangat bagus, sangat recommended b...</td>\n",
       "      <td>5</td>\n",
       "      <td>27</td>\n",
       "      <td>371.10</td>\n",
       "      <td>2024-08-11 22:58:16</td>\n",
       "      <td>None</td>\n",
       "      <td>None</td>\n",
       "      <td>371.10</td>\n",
       "    </tr>\n",
       "    <tr>\n",
       "      <th>2</th>\n",
       "      <td>1beb5983-1ee4-419d-b832-6bec8f23d1c8</td>\n",
       "      <td>Ade Noor Prasadrian - PT. Sido Agung Farm Mage...</td>\n",
       "      <td>https://play-lh.googleusercontent.com/a-/ALV-U...</td>\n",
       "      <td>Kenapa maps di aplikasi strava tidak mau muncu...</td>\n",
       "      <td>2</td>\n",
       "      <td>0</td>\n",
       "      <td>374.11</td>\n",
       "      <td>2024-09-05 23:39:58</td>\n",
       "      <td>None</td>\n",
       "      <td>None</td>\n",
       "      <td>374.11</td>\n",
       "    </tr>\n",
       "    <tr>\n",
       "      <th>3</th>\n",
       "      <td>61876ff2-5996-4a2e-8576-af6e1f7c7ad7</td>\n",
       "      <td>xii radi</td>\n",
       "      <td>https://play-lh.googleusercontent.com/a/ACg8oc...</td>\n",
       "      <td>Segera di Perbarui untuk peletakan tools, masa...</td>\n",
       "      <td>2</td>\n",
       "      <td>2</td>\n",
       "      <td>371.10</td>\n",
       "      <td>2024-08-14 07:39:05</td>\n",
       "      <td>None</td>\n",
       "      <td>None</td>\n",
       "      <td>371.10</td>\n",
       "    </tr>\n",
       "    <tr>\n",
       "      <th>4</th>\n",
       "      <td>99cddfde-850e-411e-9576-a7381c0b005c</td>\n",
       "      <td>Muhamad Anugrah</td>\n",
       "      <td>https://play-lh.googleusercontent.com/a-/ALV-U...</td>\n",
       "      <td>Sepertinya map di aplikasi masih versi tahun l...</td>\n",
       "      <td>4</td>\n",
       "      <td>6</td>\n",
       "      <td>371.10</td>\n",
       "      <td>2024-08-12 21:26:31</td>\n",
       "      <td>None</td>\n",
       "      <td>None</td>\n",
       "      <td>371.10</td>\n",
       "    </tr>\n",
       "  </tbody>\n",
       "</table>\n",
       "</div>"
      ],
      "text/plain": [
       "                               reviewId  \\\n",
       "0  4617f3d8-6912-4e2e-862a-899f59af22fc   \n",
       "1  4e15e4c5-7aa9-41f7-9ae1-403f162b384d   \n",
       "2  1beb5983-1ee4-419d-b832-6bec8f23d1c8   \n",
       "3  61876ff2-5996-4a2e-8576-af6e1f7c7ad7   \n",
       "4  99cddfde-850e-411e-9576-a7381c0b005c   \n",
       "\n",
       "                                            userName  \\\n",
       "0                                         Andy Cahya   \n",
       "1                                          Sarliy pw   \n",
       "2  Ade Noor Prasadrian - PT. Sido Agung Farm Mage...   \n",
       "3                                           xii radi   \n",
       "4                                    Muhamad Anugrah   \n",
       "\n",
       "                                           userImage  \\\n",
       "0  https://play-lh.googleusercontent.com/a-/ALV-U...   \n",
       "1  https://play-lh.googleusercontent.com/a-/ALV-U...   \n",
       "2  https://play-lh.googleusercontent.com/a-/ALV-U...   \n",
       "3  https://play-lh.googleusercontent.com/a/ACg8oc...   \n",
       "4  https://play-lh.googleusercontent.com/a-/ALV-U...   \n",
       "\n",
       "                                             content  score  thumbsUpCount  \\\n",
       "0  Gak sengaja nutup app ini, pas mau dibuka ulan...      1              8   \n",
       "1  Aplikasinya sangat bagus, sangat recommended b...      5             27   \n",
       "2  Kenapa maps di aplikasi strava tidak mau muncu...      2              0   \n",
       "3  Segera di Perbarui untuk peletakan tools, masa...      2              2   \n",
       "4  Sepertinya map di aplikasi masih versi tahun l...      4              6   \n",
       "\n",
       "  reviewCreatedVersion                  at replyContent repliedAt appVersion  \n",
       "0               372.12 2024-08-16 16:14:46         None      None     372.12  \n",
       "1               371.10 2024-08-11 22:58:16         None      None     371.10  \n",
       "2               374.11 2024-09-05 23:39:58         None      None     374.11  \n",
       "3               371.10 2024-08-14 07:39:05         None      None     371.10  \n",
       "4               371.10 2024-08-12 21:26:31         None      None     371.10  "
      ]
     },
     "execution_count": 16,
     "metadata": {},
     "output_type": "execute_result"
    }
   ],
   "source": [
    "df_busu = pd.DataFrame(np.array(result),columns=['review'])\n",
    "\n",
    "df_busu = df_busu.join(pd.DataFrame(df_busu.pop('review').tolist()))\n",
    "\n",
    "df_busu.drop_duplicates(subset = [\"content\"])\n",
    "\n",
    "df_busu.head()"
   ]
  },
  {
   "cell_type": "code",
   "execution_count": 17,
   "metadata": {},
   "outputs": [
    {
     "data": {
      "text/plain": [
       "300"
      ]
     },
     "execution_count": 17,
     "metadata": {},
     "output_type": "execute_result"
    }
   ],
   "source": [
    "len(df_busu.index) #count the number of data we got"
   ]
  },
  {
   "cell_type": "markdown",
   "metadata": {},
   "source": [
    "#### Select the Columns and Sort the Data"
   ]
  },
  {
   "cell_type": "code",
   "execution_count": 9,
   "metadata": {},
   "outputs": [
    {
     "data": {
      "text/html": [
       "<div>\n",
       "<style scoped>\n",
       "    .dataframe tbody tr th:only-of-type {\n",
       "        vertical-align: middle;\n",
       "    }\n",
       "\n",
       "    .dataframe tbody tr th {\n",
       "        vertical-align: top;\n",
       "    }\n",
       "\n",
       "    .dataframe thead th {\n",
       "        text-align: right;\n",
       "    }\n",
       "</style>\n",
       "<table border=\"1\" class=\"dataframe\">\n",
       "  <thead>\n",
       "    <tr style=\"text-align: right;\">\n",
       "      <th></th>\n",
       "      <th>userName</th>\n",
       "      <th>score</th>\n",
       "      <th>at</th>\n",
       "      <th>content</th>\n",
       "    </tr>\n",
       "  </thead>\n",
       "  <tbody>\n",
       "    <tr>\n",
       "      <th>248</th>\n",
       "      <td>Aadinath Rauf</td>\n",
       "      <td>1</td>\n",
       "      <td>2024-09-10 19:52:43</td>\n",
       "      <td>dikata error errar error, pw email udah bener,...</td>\n",
       "    </tr>\n",
       "    <tr>\n",
       "      <th>117</th>\n",
       "      <td>Gloria Audia</td>\n",
       "      <td>1</td>\n",
       "      <td>2024-09-08 19:57:15</td>\n",
       "      <td>Ini kenapa ya punya saya error hadehh tpi puny...</td>\n",
       "    </tr>\n",
       "    <tr>\n",
       "      <th>152</th>\n",
       "      <td>Samsul Salam</td>\n",
       "      <td>5</td>\n",
       "      <td>2024-09-08 08:42:34</td>\n",
       "      <td>Alat ukur yang sangat bagus.</td>\n",
       "    </tr>\n",
       "    <tr>\n",
       "      <th>155</th>\n",
       "      <td>Najmil Pawaz</td>\n",
       "      <td>5</td>\n",
       "      <td>2024-09-07 09:15:46</td>\n",
       "      <td>Salam olah raga sehat selalj</td>\n",
       "    </tr>\n",
       "    <tr>\n",
       "      <th>153</th>\n",
       "      <td>yosafat soelya</td>\n",
       "      <td>5</td>\n",
       "      <td>2024-09-07 08:45:28</td>\n",
       "      <td>Saran agar bisa synchronize dgn Nike Run</td>\n",
       "    </tr>\n",
       "  </tbody>\n",
       "</table>\n",
       "</div>"
      ],
      "text/plain": [
       "           userName  score                  at  \\\n",
       "248   Aadinath Rauf      1 2024-09-10 19:52:43   \n",
       "117    Gloria Audia      1 2024-09-08 19:57:15   \n",
       "152    Samsul Salam      5 2024-09-08 08:42:34   \n",
       "155    Najmil Pawaz      5 2024-09-07 09:15:46   \n",
       "153  yosafat soelya      5 2024-09-07 08:45:28   \n",
       "\n",
       "                                               content  \n",
       "248  dikata error errar error, pw email udah bener,...  \n",
       "117  Ini kenapa ya punya saya error hadehh tpi puny...  \n",
       "152                       Alat ukur yang sangat bagus.  \n",
       "155                       Salam olah raga sehat selalj  \n",
       "153           Saran agar bisa synchronize dgn Nike Run  "
      ]
     },
     "execution_count": 9,
     "metadata": {},
     "output_type": "execute_result"
    }
   ],
   "source": [
    "#Run This Code to Sort the Data By Date \n",
    "\n",
    "new_df = df_busu[['userName', 'score','at', 'content']] #select the columns you want\n",
    "sorted_df = new_df.sort_values(by='at', ascending=False) #Sort by Newst, change to True if you want to sort by Oldest.\n",
    "sorted_df.head()"
   ]
  },
  {
   "cell_type": "markdown",
   "metadata": {},
   "source": [
    "#### Save the Data to xlsx file"
   ]
  },
  {
   "cell_type": "code",
   "execution_count": 14,
   "metadata": {},
   "outputs": [],
   "source": [
    "sorted_df.to_excel(\"scrapped_data_strava.xlsx\", index = False)  #Save the file as excel , to download: click the folder icon on the left. the excel file should be there."
   ]
  }
 ],
 "metadata": {
  "kernelspec": {
   "display_name": "Python 3",
   "language": "python",
   "name": "python3"
  },
  "language_info": {
   "codemirror_mode": {
    "name": "ipython",
    "version": 3
   },
   "file_extension": ".py",
   "mimetype": "text/x-python",
   "name": "python",
   "nbconvert_exporter": "python",
   "pygments_lexer": "ipython3",
   "version": "3.11.4"
  }
 },
 "nbformat": 4,
 "nbformat_minor": 2
}
