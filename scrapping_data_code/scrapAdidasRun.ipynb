{
 "cells": [
  {
   "cell_type": "markdown",
   "metadata": {},
   "source": [
    "#### Import Library"
   ]
  },
  {
   "cell_type": "code",
   "execution_count": 1,
   "metadata": {},
   "outputs": [],
   "source": [
    "from google_play_scraper import app\n",
    "from google_play_scraper import Sort, reviews\n",
    "\n",
    "import pandas as pd\n",
    "import matplotlib.pyplot as plt\n",
    "import numpy as np"
   ]
  },
  {
   "cell_type": "markdown",
   "metadata": {},
   "source": [
    "#### Scrapping Data From Playstore"
   ]
  },
  {
   "cell_type": "code",
   "execution_count": 2,
   "metadata": {},
   "outputs": [],
   "source": [
    "#Scrape desired number of reviews\n",
    "#Run kode ini jika ingin scrape data dengan jumlah tertentu. Ganti (misal, ingin scrape sejumlah 1000, maka ganti kode , count = 1000 )\n",
    "\n",
    "result, continuation_token = reviews(\n",
    "    'com.runtastic.android',\n",
    "    lang='id', # defaults to 'en'\n",
    "    country='id', # defaults to 'us'\n",
    "    sort=Sort.MOST_RELEVANT, # defaults to Sort.MOST_RELEVANT you can use Sort.NEWEST to get newst reviews\n",
    "    count=350, # defaults to 100\n",
    "    filter_score_with=None # defaults to None(means all score) Use 1 or 2 or 3 or 4 or 5 to select certain score\n",
    ")"
   ]
  },
  {
   "cell_type": "markdown",
   "metadata": {},
   "source": [
    "#### Change data to Data Frame"
   ]
  },
  {
   "cell_type": "code",
   "execution_count": 3,
   "metadata": {},
   "outputs": [
    {
     "data": {
      "text/html": [
       "<div>\n",
       "<style scoped>\n",
       "    .dataframe tbody tr th:only-of-type {\n",
       "        vertical-align: middle;\n",
       "    }\n",
       "\n",
       "    .dataframe tbody tr th {\n",
       "        vertical-align: top;\n",
       "    }\n",
       "\n",
       "    .dataframe thead th {\n",
       "        text-align: right;\n",
       "    }\n",
       "</style>\n",
       "<table border=\"1\" class=\"dataframe\">\n",
       "  <thead>\n",
       "    <tr style=\"text-align: right;\">\n",
       "      <th></th>\n",
       "      <th>reviewId</th>\n",
       "      <th>userName</th>\n",
       "      <th>userImage</th>\n",
       "      <th>content</th>\n",
       "      <th>score</th>\n",
       "      <th>thumbsUpCount</th>\n",
       "      <th>reviewCreatedVersion</th>\n",
       "      <th>at</th>\n",
       "      <th>replyContent</th>\n",
       "      <th>repliedAt</th>\n",
       "      <th>appVersion</th>\n",
       "    </tr>\n",
       "  </thead>\n",
       "  <tbody>\n",
       "    <tr>\n",
       "      <th>0</th>\n",
       "      <td>196f7dc4-e0fe-41fe-b701-c911511fee3b</td>\n",
       "      <td>Kias Ygy (Iyasss)</td>\n",
       "      <td>https://play-lh.googleusercontent.com/a-/ALV-U...</td>\n",
       "      <td>aplikasi ini sangat berguna untuk menghitung P...</td>\n",
       "      <td>5</td>\n",
       "      <td>1</td>\n",
       "      <td>13.46</td>\n",
       "      <td>2024-09-27 16:19:18</td>\n",
       "      <td>None</td>\n",
       "      <td>None</td>\n",
       "      <td>13.46</td>\n",
       "    </tr>\n",
       "    <tr>\n",
       "      <th>1</th>\n",
       "      <td>60609141-9509-46db-904e-d465addde75f</td>\n",
       "      <td>Muhammad Aji Saputra</td>\n",
       "      <td>https://play-lh.googleusercontent.com/a-/ALV-U...</td>\n",
       "      <td>aplikasinya sudah bagus tapi ada kendala saat ...</td>\n",
       "      <td>3</td>\n",
       "      <td>2</td>\n",
       "      <td>13.40</td>\n",
       "      <td>2024-07-30 20:34:15</td>\n",
       "      <td>None</td>\n",
       "      <td>None</td>\n",
       "      <td>13.40</td>\n",
       "    </tr>\n",
       "    <tr>\n",
       "      <th>2</th>\n",
       "      <td>52ee494b-4d00-475d-bd11-ce925a796572</td>\n",
       "      <td>Ikmal Arif Septiawan</td>\n",
       "      <td>https://play-lh.googleusercontent.com/a-/ALV-U...</td>\n",
       "      <td>Dua harian ini eror min aplikasinya. Trackingn...</td>\n",
       "      <td>3</td>\n",
       "      <td>12</td>\n",
       "      <td>13.39</td>\n",
       "      <td>2024-07-16 13:54:17</td>\n",
       "      <td>None</td>\n",
       "      <td>None</td>\n",
       "      <td>13.39</td>\n",
       "    </tr>\n",
       "    <tr>\n",
       "      <th>3</th>\n",
       "      <td>9d9e8589-5956-4d0e-8299-ff2f17688761</td>\n",
       "      <td>Ika Yulaichah</td>\n",
       "      <td>https://play-lh.googleusercontent.com/a-/ALV-U...</td>\n",
       "      <td>Menjadi acuan kita meningkatkan semangat berol...</td>\n",
       "      <td>5</td>\n",
       "      <td>4</td>\n",
       "      <td>13.46</td>\n",
       "      <td>2024-09-21 09:47:13</td>\n",
       "      <td>None</td>\n",
       "      <td>None</td>\n",
       "      <td>13.46</td>\n",
       "    </tr>\n",
       "    <tr>\n",
       "      <th>4</th>\n",
       "      <td>9ad95b2e-7f50-4483-b2a1-93e265bac787</td>\n",
       "      <td>wahyu enjang waskito</td>\n",
       "      <td>https://play-lh.googleusercontent.com/a/ACg8oc...</td>\n",
       "      <td>Saya lari keliling lapangan bola 6x hanya terd...</td>\n",
       "      <td>1</td>\n",
       "      <td>2</td>\n",
       "      <td>13.46</td>\n",
       "      <td>2024-09-22 10:44:44</td>\n",
       "      <td>None</td>\n",
       "      <td>None</td>\n",
       "      <td>13.46</td>\n",
       "    </tr>\n",
       "  </tbody>\n",
       "</table>\n",
       "</div>"
      ],
      "text/plain": [
       "                               reviewId              userName  \\\n",
       "0  196f7dc4-e0fe-41fe-b701-c911511fee3b     Kias Ygy (Iyasss)   \n",
       "1  60609141-9509-46db-904e-d465addde75f  Muhammad Aji Saputra   \n",
       "2  52ee494b-4d00-475d-bd11-ce925a796572  Ikmal Arif Septiawan   \n",
       "3  9d9e8589-5956-4d0e-8299-ff2f17688761         Ika Yulaichah   \n",
       "4  9ad95b2e-7f50-4483-b2a1-93e265bac787  wahyu enjang waskito   \n",
       "\n",
       "                                           userImage  \\\n",
       "0  https://play-lh.googleusercontent.com/a-/ALV-U...   \n",
       "1  https://play-lh.googleusercontent.com/a-/ALV-U...   \n",
       "2  https://play-lh.googleusercontent.com/a-/ALV-U...   \n",
       "3  https://play-lh.googleusercontent.com/a-/ALV-U...   \n",
       "4  https://play-lh.googleusercontent.com/a/ACg8oc...   \n",
       "\n",
       "                                             content  score  thumbsUpCount  \\\n",
       "0  aplikasi ini sangat berguna untuk menghitung P...      5              1   \n",
       "1  aplikasinya sudah bagus tapi ada kendala saat ...      3              2   \n",
       "2  Dua harian ini eror min aplikasinya. Trackingn...      3             12   \n",
       "3  Menjadi acuan kita meningkatkan semangat berol...      5              4   \n",
       "4  Saya lari keliling lapangan bola 6x hanya terd...      1              2   \n",
       "\n",
       "  reviewCreatedVersion                  at replyContent repliedAt appVersion  \n",
       "0                13.46 2024-09-27 16:19:18         None      None      13.46  \n",
       "1                13.40 2024-07-30 20:34:15         None      None      13.40  \n",
       "2                13.39 2024-07-16 13:54:17         None      None      13.39  \n",
       "3                13.46 2024-09-21 09:47:13         None      None      13.46  \n",
       "4                13.46 2024-09-22 10:44:44         None      None      13.46  "
      ]
     },
     "execution_count": 3,
     "metadata": {},
     "output_type": "execute_result"
    }
   ],
   "source": [
    "df_busu = pd.DataFrame(np.array(result),columns=['review'])\n",
    "\n",
    "df_busu = df_busu.join(pd.DataFrame(df_busu.pop('review').tolist()))\n",
    "\n",
    "df_busu.drop_duplicates(subset = [\"content\"])\n",
    "\n",
    "df_busu.head()"
   ]
  },
  {
   "cell_type": "code",
   "execution_count": 4,
   "metadata": {},
   "outputs": [
    {
     "data": {
      "text/plain": [
       "350"
      ]
     },
     "execution_count": 4,
     "metadata": {},
     "output_type": "execute_result"
    }
   ],
   "source": [
    "len(df_busu.index) #count the number of data we got"
   ]
  },
  {
   "cell_type": "markdown",
   "metadata": {},
   "source": [
    "#### Select the Columns and Sort the Data"
   ]
  },
  {
   "cell_type": "code",
   "execution_count": 5,
   "metadata": {},
   "outputs": [
    {
     "data": {
      "text/html": [
       "<div>\n",
       "<style scoped>\n",
       "    .dataframe tbody tr th:only-of-type {\n",
       "        vertical-align: middle;\n",
       "    }\n",
       "\n",
       "    .dataframe tbody tr th {\n",
       "        vertical-align: top;\n",
       "    }\n",
       "\n",
       "    .dataframe thead th {\n",
       "        text-align: right;\n",
       "    }\n",
       "</style>\n",
       "<table border=\"1\" class=\"dataframe\">\n",
       "  <thead>\n",
       "    <tr style=\"text-align: right;\">\n",
       "      <th></th>\n",
       "      <th>userName</th>\n",
       "      <th>score</th>\n",
       "      <th>content</th>\n",
       "    </tr>\n",
       "  </thead>\n",
       "  <tbody>\n",
       "    <tr>\n",
       "      <th>0</th>\n",
       "      <td>Kias Ygy (Iyasss)</td>\n",
       "      <td>5</td>\n",
       "      <td>aplikasi ini sangat berguna untuk menghitung P...</td>\n",
       "    </tr>\n",
       "    <tr>\n",
       "      <th>1</th>\n",
       "      <td>Muhammad Aji Saputra</td>\n",
       "      <td>3</td>\n",
       "      <td>aplikasinya sudah bagus tapi ada kendala saat ...</td>\n",
       "    </tr>\n",
       "    <tr>\n",
       "      <th>2</th>\n",
       "      <td>Ikmal Arif Septiawan</td>\n",
       "      <td>3</td>\n",
       "      <td>Dua harian ini eror min aplikasinya. Trackingn...</td>\n",
       "    </tr>\n",
       "    <tr>\n",
       "      <th>3</th>\n",
       "      <td>Ika Yulaichah</td>\n",
       "      <td>5</td>\n",
       "      <td>Menjadi acuan kita meningkatkan semangat berol...</td>\n",
       "    </tr>\n",
       "    <tr>\n",
       "      <th>4</th>\n",
       "      <td>wahyu enjang waskito</td>\n",
       "      <td>1</td>\n",
       "      <td>Saya lari keliling lapangan bola 6x hanya terd...</td>\n",
       "    </tr>\n",
       "  </tbody>\n",
       "</table>\n",
       "</div>"
      ],
      "text/plain": [
       "               userName  score  \\\n",
       "0     Kias Ygy (Iyasss)      5   \n",
       "1  Muhammad Aji Saputra      3   \n",
       "2  Ikmal Arif Septiawan      3   \n",
       "3         Ika Yulaichah      5   \n",
       "4  wahyu enjang waskito      1   \n",
       "\n",
       "                                             content  \n",
       "0  aplikasi ini sangat berguna untuk menghitung P...  \n",
       "1  aplikasinya sudah bagus tapi ada kendala saat ...  \n",
       "2  Dua harian ini eror min aplikasinya. Trackingn...  \n",
       "3  Menjadi acuan kita meningkatkan semangat berol...  \n",
       "4  Saya lari keliling lapangan bola 6x hanya terd...  "
      ]
     },
     "execution_count": 5,
     "metadata": {},
     "output_type": "execute_result"
    }
   ],
   "source": [
    "#Run This Code to Sort the Data By Date \n",
    "\n",
    "new_df = df_busu[['userName', 'score', 'content']] #select the columns you want\n",
    "new_df.head()"
   ]
  },
  {
   "cell_type": "markdown",
   "metadata": {},
   "source": [
    "#### Save the Data to xlsx file"
   ]
  },
  {
   "cell_type": "code",
   "execution_count": null,
   "metadata": {},
   "outputs": [],
   "source": [
    "new_df.to_excel(\"../scrapped_data/scrapped_data_adidas.xlsx\", index = False)  #Save the file as excel , to download: click the folder icon on the left. the excel file should be there."
   ]
  },
  {
   "cell_type": "markdown",
   "metadata": {},
   "source": [
    "#### Show Diagram"
   ]
  },
  {
   "cell_type": "code",
   "execution_count": null,
   "metadata": {},
   "outputs": [
    {
     "data": {
      "image/png": "[encoded data removed]",
      "text/plain": [
       "<Figure size 600x400 with 1 Axes>"
      ]
     },
     "metadata": {},
     "output_type": "display_data"
    }
   ],
   "source": [
    "# Load the dataset from the Excel file\n",
    "file_path = '../scrapped_data/scrapped_data_adidas.xlsx'  # Update this path\n",
    "data = pd.read_excel(file_path)\n",
    "\n",
    "# Count the occurrences of each label\n",
    "label_counts = data['Label'].value_counts().sort_index()\n",
    "\n",
    "# Create a bar plot for the label counts\n",
    "plt.figure(figsize=(6, 4))\n",
    "bars = plt.bar(label_counts.index, label_counts.values, color=['red', 'gray', 'green'])\n",
    "plt.xticks([0, 1, 2], ['Negatif (0)', 'Netral (1)', 'Positif (2)'])\n",
    "plt.ylabel('Jumlah')\n",
    "plt.title('Perbandingan Total Tiap Label Sentimen')\n",
    "plt.grid(axis='y', linestyle='--', alpha=0.7)\n",
    "\n",
    "for bar in bars:\n",
    "    yval = bar.get_height()\n",
    "    plt.text(bar.get_x() + bar.get_width()/2, yval, int(yval), ha='center', va='bottom')\n",
    "\n",
    "# Show the plot\n",
    "plt.tight_layout()\n",
    "plt.show()"
   ]
  }
 ],
 "metadata": {
  "kernelspec": {
   "display_name": "Python 3",
   "language": "python",
   "name": "python3"
  },
  "language_info": {
   "codemirror_mode": {
    "name": "ipython",
    "version": 3
   },
   "file_extension": ".py",
   "mimetype": "text/x-python",
   "name": "python",
   "nbconvert_exporter": "python",
   "pygments_lexer": "ipython3",
   "version": "3.11.4"
  }
 },
 "nbformat": 4,
 "nbformat_minor": 2
}
