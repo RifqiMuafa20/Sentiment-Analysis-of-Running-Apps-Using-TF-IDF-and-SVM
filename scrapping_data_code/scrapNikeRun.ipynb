{
 "cells": [
  {
   "cell_type": "markdown",
   "metadata": {},
   "source": [
    "#### Import Library"
   ]
  },
  {
   "cell_type": "code",
   "execution_count": 2,
   "metadata": {},
   "outputs": [],
   "source": [
    "from google_play_scraper import app\n",
    "from google_play_scraper import Sort, reviews\n",
    "\n",
    "import pandas as pd\n",
    "import matplotlib.pyplot as plt\n",
    "import numpy as np"
   ]
  },
  {
   "cell_type": "markdown",
   "metadata": {},
   "source": [
    "#### Scrapping Data From Playstore"
   ]
  },
  {
   "cell_type": "code",
   "execution_count": 2,
   "metadata": {},
   "outputs": [],
   "source": [
    "#Scrape desired number of reviews\n",
    "#Run kode ini jika ingin scrape data dengan jumlah tertentu. Ganti (misal, ingin scrape sejumlah 1000, maka ganti kode , count = 1000 )\n",
    "\n",
    "result, continuation_token = reviews(\n",
    "    'com.nike.plusgps',\n",
    "    lang='id', # defaults to 'en'\n",
    "    country='id', # defaults to 'us'\n",
    "    sort=Sort.MOST_RELEVANT, # defaults to Sort.MOST_RELEVANT you can use Sort.NEWEST to get newst reviews\n",
    "    count=350, # defaults to 100\n",
    "    filter_score_with=None # defaults to None(means all score) Use 1 or 2 or 3 or 4 or 5 to select certain score\n",
    ")"
   ]
  },
  {
   "cell_type": "markdown",
   "metadata": {},
   "source": [
    "#### Change data to Data Frame"
   ]
  },
  {
   "cell_type": "code",
   "execution_count": 3,
   "metadata": {},
   "outputs": [
    {
     "data": {
      "text/html": [
       "<div>\n",
       "<style scoped>\n",
       "    .dataframe tbody tr th:only-of-type {\n",
       "        vertical-align: middle;\n",
       "    }\n",
       "\n",
       "    .dataframe tbody tr th {\n",
       "        vertical-align: top;\n",
       "    }\n",
       "\n",
       "    .dataframe thead th {\n",
       "        text-align: right;\n",
       "    }\n",
       "</style>\n",
       "<table border=\"1\" class=\"dataframe\">\n",
       "  <thead>\n",
       "    <tr style=\"text-align: right;\">\n",
       "      <th></th>\n",
       "      <th>reviewId</th>\n",
       "      <th>userName</th>\n",
       "      <th>userImage</th>\n",
       "      <th>content</th>\n",
       "      <th>score</th>\n",
       "      <th>thumbsUpCount</th>\n",
       "      <th>reviewCreatedVersion</th>\n",
       "      <th>at</th>\n",
       "      <th>replyContent</th>\n",
       "      <th>repliedAt</th>\n",
       "      <th>appVersion</th>\n",
       "    </tr>\n",
       "  </thead>\n",
       "  <tbody>\n",
       "    <tr>\n",
       "      <th>0</th>\n",
       "      <td>32c8e301-a70e-4eaf-9b9a-c0f1fbe54f70</td>\n",
       "      <td>Rhamlie Stront</td>\n",
       "      <td>https://play-lh.googleusercontent.com/a-/ALV-U...</td>\n",
       "      <td>Gak tau ini app nge bug ato gimana, soalnya ad...</td>\n",
       "      <td>1</td>\n",
       "      <td>3</td>\n",
       "      <td>4.40.0</td>\n",
       "      <td>2024-09-27 14:37:47</td>\n",
       "      <td>None</td>\n",
       "      <td>None</td>\n",
       "      <td>4.40.0</td>\n",
       "    </tr>\n",
       "    <tr>\n",
       "      <th>1</th>\n",
       "      <td>aded607f-cff8-421d-b522-7398487a5535</td>\n",
       "      <td>Pengguna Google</td>\n",
       "      <td>https://play-lh.googleusercontent.com/EGemoI2N...</td>\n",
       "      <td>Sangat membantu jarak waktu dan kecepatan lari...</td>\n",
       "      <td>4</td>\n",
       "      <td>0</td>\n",
       "      <td>4.39.0</td>\n",
       "      <td>2024-09-06 06:54:44</td>\n",
       "      <td>None</td>\n",
       "      <td>None</td>\n",
       "      <td>4.39.0</td>\n",
       "    </tr>\n",
       "    <tr>\n",
       "      <th>2</th>\n",
       "      <td>924f5f6b-4fda-4d13-9d92-89afabe80806</td>\n",
       "      <td>Ahmad udin</td>\n",
       "      <td>https://play-lh.googleusercontent.com/a-/ALV-U...</td>\n",
       "      <td>Untuk masuk undangan tantangan tdak bisa trs ....</td>\n",
       "      <td>2</td>\n",
       "      <td>1</td>\n",
       "      <td>4.38.0</td>\n",
       "      <td>2024-08-19 10:19:09</td>\n",
       "      <td>None</td>\n",
       "      <td>None</td>\n",
       "      <td>4.38.0</td>\n",
       "    </tr>\n",
       "    <tr>\n",
       "      <th>3</th>\n",
       "      <td>ef6345fd-2961-4334-a933-53ac6d545e05</td>\n",
       "      <td>anella lisna</td>\n",
       "      <td>https://play-lh.googleusercontent.com/a/ACg8oc...</td>\n",
       "      <td>Aplikasi ini klu 2 hari saja gk di buka suka e...</td>\n",
       "      <td>1</td>\n",
       "      <td>19</td>\n",
       "      <td>4.38.0</td>\n",
       "      <td>2024-08-01 07:58:53</td>\n",
       "      <td>None</td>\n",
       "      <td>None</td>\n",
       "      <td>4.38.0</td>\n",
       "    </tr>\n",
       "    <tr>\n",
       "      <th>4</th>\n",
       "      <td>b5b2ca4d-7713-4e74-9a89-0b34ffb82154</td>\n",
       "      <td>Ga Me</td>\n",
       "      <td>https://play-lh.googleusercontent.com/a-/ALV-U...</td>\n",
       "      <td>Masih sering error, padahal versi terbaru dan ...</td>\n",
       "      <td>1</td>\n",
       "      <td>22</td>\n",
       "      <td>4.35.0</td>\n",
       "      <td>2024-06-08 07:21:14</td>\n",
       "      <td>None</td>\n",
       "      <td>None</td>\n",
       "      <td>4.35.0</td>\n",
       "    </tr>\n",
       "  </tbody>\n",
       "</table>\n",
       "</div>"
      ],
      "text/plain": [
       "                               reviewId         userName  \\\n",
       "0  32c8e301-a70e-4eaf-9b9a-c0f1fbe54f70   Rhamlie Stront   \n",
       "1  aded607f-cff8-421d-b522-7398487a5535  Pengguna Google   \n",
       "2  924f5f6b-4fda-4d13-9d92-89afabe80806       Ahmad udin   \n",
       "3  ef6345fd-2961-4334-a933-53ac6d545e05     anella lisna   \n",
       "4  b5b2ca4d-7713-4e74-9a89-0b34ffb82154            Ga Me   \n",
       "\n",
       "                                           userImage  \\\n",
       "0  https://play-lh.googleusercontent.com/a-/ALV-U...   \n",
       "1  https://play-lh.googleusercontent.com/EGemoI2N...   \n",
       "2  https://play-lh.googleusercontent.com/a-/ALV-U...   \n",
       "3  https://play-lh.googleusercontent.com/a/ACg8oc...   \n",
       "4  https://play-lh.googleusercontent.com/a-/ALV-U...   \n",
       "\n",
       "                                             content  score  thumbsUpCount  \\\n",
       "0  Gak tau ini app nge bug ato gimana, soalnya ad...      1              3   \n",
       "1  Sangat membantu jarak waktu dan kecepatan lari...      4              0   \n",
       "2  Untuk masuk undangan tantangan tdak bisa trs ....      2              1   \n",
       "3  Aplikasi ini klu 2 hari saja gk di buka suka e...      1             19   \n",
       "4  Masih sering error, padahal versi terbaru dan ...      1             22   \n",
       "\n",
       "  reviewCreatedVersion                  at replyContent repliedAt appVersion  \n",
       "0               4.40.0 2024-09-27 14:37:47         None      None     4.40.0  \n",
       "1               4.39.0 2024-09-06 06:54:44         None      None     4.39.0  \n",
       "2               4.38.0 2024-08-19 10:19:09         None      None     4.38.0  \n",
       "3               4.38.0 2024-08-01 07:58:53         None      None     4.38.0  \n",
       "4               4.35.0 2024-06-08 07:21:14         None      None     4.35.0  "
      ]
     },
     "execution_count": 3,
     "metadata": {},
     "output_type": "execute_result"
    }
   ],
   "source": [
    "df_busu = pd.DataFrame(np.array(result),columns=['review'])\n",
    "\n",
    "df_busu = df_busu.join(pd.DataFrame(df_busu.pop('review').tolist()))\n",
    "\n",
    "df_busu.drop_duplicates(subset = [\"content\"])\n",
    "\n",
    "df_busu.head()"
   ]
  },
  {
   "cell_type": "code",
   "execution_count": 4,
   "metadata": {},
   "outputs": [
    {
     "data": {
      "text/plain": [
       "350"
      ]
     },
     "execution_count": 4,
     "metadata": {},
     "output_type": "execute_result"
    }
   ],
   "source": [
    "len(df_busu.index) #count the number of data we got"
   ]
  },
  {
   "cell_type": "markdown",
   "metadata": {},
   "source": [
    "#### Select the Columns and Sort the Data"
   ]
  },
  {
   "cell_type": "code",
   "execution_count": 5,
   "metadata": {},
   "outputs": [
    {
     "data": {
      "text/html": [
       "<div>\n",
       "<style scoped>\n",
       "    .dataframe tbody tr th:only-of-type {\n",
       "        vertical-align: middle;\n",
       "    }\n",
       "\n",
       "    .dataframe tbody tr th {\n",
       "        vertical-align: top;\n",
       "    }\n",
       "\n",
       "    .dataframe thead th {\n",
       "        text-align: right;\n",
       "    }\n",
       "</style>\n",
       "<table border=\"1\" class=\"dataframe\">\n",
       "  <thead>\n",
       "    <tr style=\"text-align: right;\">\n",
       "      <th></th>\n",
       "      <th>userName</th>\n",
       "      <th>score</th>\n",
       "      <th>content</th>\n",
       "    </tr>\n",
       "  </thead>\n",
       "  <tbody>\n",
       "    <tr>\n",
       "      <th>0</th>\n",
       "      <td>Rhamlie Stront</td>\n",
       "      <td>1</td>\n",
       "      <td>Gak tau ini app nge bug ato gimana, soalnya ad...</td>\n",
       "    </tr>\n",
       "    <tr>\n",
       "      <th>1</th>\n",
       "      <td>Pengguna Google</td>\n",
       "      <td>4</td>\n",
       "      <td>Sangat membantu jarak waktu dan kecepatan lari...</td>\n",
       "    </tr>\n",
       "    <tr>\n",
       "      <th>2</th>\n",
       "      <td>Ahmad udin</td>\n",
       "      <td>2</td>\n",
       "      <td>Untuk masuk undangan tantangan tdak bisa trs ....</td>\n",
       "    </tr>\n",
       "    <tr>\n",
       "      <th>3</th>\n",
       "      <td>anella lisna</td>\n",
       "      <td>1</td>\n",
       "      <td>Aplikasi ini klu 2 hari saja gk di buka suka e...</td>\n",
       "    </tr>\n",
       "    <tr>\n",
       "      <th>4</th>\n",
       "      <td>Ga Me</td>\n",
       "      <td>1</td>\n",
       "      <td>Masih sering error, padahal versi terbaru dan ...</td>\n",
       "    </tr>\n",
       "  </tbody>\n",
       "</table>\n",
       "</div>"
      ],
      "text/plain": [
       "          userName  score                                            content\n",
       "0   Rhamlie Stront      1  Gak tau ini app nge bug ato gimana, soalnya ad...\n",
       "1  Pengguna Google      4  Sangat membantu jarak waktu dan kecepatan lari...\n",
       "2       Ahmad udin      2  Untuk masuk undangan tantangan tdak bisa trs ....\n",
       "3     anella lisna      1  Aplikasi ini klu 2 hari saja gk di buka suka e...\n",
       "4            Ga Me      1  Masih sering error, padahal versi terbaru dan ..."
      ]
     },
     "execution_count": 5,
     "metadata": {},
     "output_type": "execute_result"
    }
   ],
   "source": [
    "#Run This Code to Sort the Data By Date \n",
    "\n",
    "new_df = df_busu[['userName', 'score', 'content']] #select the columns you want\n",
    "new_df.head()"
   ]
  },
  {
   "cell_type": "markdown",
   "metadata": {},
   "source": [
    "#### Save the Data to xlsx file"
   ]
  },
  {
   "cell_type": "code",
   "execution_count": null,
   "metadata": {},
   "outputs": [],
   "source": [
    "new_df.to_excel(\"../scrapped_data/scrapped_data_nike.xlsx\", index = False)  #Save the file as excel , to download: click the folder icon on the left. the excel file should be there."
   ]
  },
  {
   "cell_type": "markdown",
   "metadata": {},
   "source": [
    "#### Show Diagram"
   ]
  },
  {
   "cell_type": "code",
   "execution_count": null,
   "metadata": {},
   "outputs": [
    {
     "data": {
      "image/png": "[encoded data removed]",
      "text/plain": [
       "<Figure size 600x400 with 1 Axes>"
      ]
     },
     "metadata": {},
     "output_type": "display_data"
    }
   ],
   "source": [
    "# Load the dataset from the Excel file\n",
    "file_path = '../scrapped_data/scrapped_data_nike.xlsx'  # Update this path\n",
    "data = pd.read_excel(file_path)\n",
    "\n",
    "# Count the occurrences of each label\n",
    "label_counts = data['Label'].value_counts().sort_index()\n",
    "\n",
    "# Create a bar plot for the label counts\n",
    "plt.figure(figsize=(6, 4))\n",
    "bars = plt.bar(label_counts.index, label_counts.values, color=['red', 'gray', 'green'])\n",
    "plt.xticks([0, 1, 2], ['Negatif (0)', 'Netral (1)', 'Positif (2)'])\n",
    "plt.ylabel('Jumlah')\n",
    "plt.title('Perbandingan Total Tiap Label Sentimen')\n",
    "plt.grid(axis='y', linestyle='--', alpha=0.7)\n",
    "\n",
    "for bar in bars:\n",
    "    yval = bar.get_height()\n",
    "    plt.text(bar.get_x() + bar.get_width()/2, yval, int(yval), ha='center', va='bottom')\n",
    "\n",
    "# Show the plot\n",
    "plt.tight_layout()\n",
    "plt.show()"
   ]
  }
 ],
 "metadata": {
  "kernelspec": {
   "display_name": "Python 3",
   "language": "python",
   "name": "python3"
  },
  "language_info": {
   "codemirror_mode": {
    "name": "ipython",
    "version": 3
   },
   "file_extension": ".py",
   "mimetype": "text/x-python",
   "name": "python",
   "nbconvert_exporter": "python",
   "pygments_lexer": "ipython3",
   "version": "3.11.4"
  }
 },
 "nbformat": 4,
 "nbformat_minor": 2
}
