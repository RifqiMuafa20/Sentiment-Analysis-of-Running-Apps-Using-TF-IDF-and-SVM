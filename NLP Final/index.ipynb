{
 "cells": [
  {
   "cell_type": "markdown",
   "metadata": {},
   "source": [
    "## Natural Language Processing\n",
    "\n",
    "### Muhammad Rifqi Muafa\n",
    "### D121211063"
   ]
  },
  {
   "cell_type": "markdown",
   "metadata": {},
   "source": [
    "### **BAB 3** - Pengolahan Teks Dasar\n",
    "\n",
    "Bab ini membahas mengenai berbagai konsep dasar dalam pengolahan teks, khususnya untuk Natural Language Processing (NLP), dengan fokus pada implementasi praktis menggunakan Python. "
   ]
  },
  {
   "cell_type": "markdown",
   "metadata": {},
   "source": [
    "#### 1. Tokenization"
   ]
  },
  {
   "cell_type": "code",
   "execution_count": 1,
   "metadata": {},
   "outputs": [
    {
     "name": "stdout",
     "output_type": "stream",
     "text": [
      "Word Tokenization: ['Hope', ',', 'is', 'the', 'only', 'thing', 'stronger', 'than', 'fear', '!', '#', 'Hope']\n",
      "Sentence Tokenization: ['Hope, is the only thing stronger than fear!', '#Hope']\n",
      "Word Punct Tokenization: ['Hope', ',', 'is', 'the', 'only', 'thing', 'stronger', 'than', 'fear', '!', '#', 'Hope']\n",
      "Treebank Tokenization: ['What', 'you', 'do', \"n't\", 'want', 'to', 'be', 'done', 'to', 'yorself', ',', 'do', \"n't\", 'do', 'to', 'others', '...']\n",
      "Tweet Tokenizer: [\"Don't\", 'take', 'cryptocurrency', 'advice', 'from', 'people', 'on', 'twitter', '@user', '#crypto', '.']\n",
      "MWE Tokenizer: ['Natural', 'language', 'processing_tools', 'are', 'essential', 'for', 'nlp', 'tasks.']\n"
     ]
    }
   ],
   "source": [
    "# Importing necessary libraries\n",
    "from nltk.tokenize import word_tokenize, sent_tokenize, wordpunct_tokenize, TweetTokenizer, MWETokenizer\n",
    "from nltk.tokenize.treebank import TreebankWordTokenizer\n",
    "\n",
    "# Sentence, word, and punctuation tokenization\n",
    "text = \"Hope, is the only thing stronger than fear! #Hope\"\n",
    "print(\"Word Tokenization:\", word_tokenize(text))\n",
    "print(\"Sentence Tokenization:\", sent_tokenize(text))\n",
    "print(\"Word Punct Tokenization:\", wordpunct_tokenize(text))\n",
    "\n",
    "# Treebank tokenization\n",
    "text2 = \"What you don't want to be done to yorself, don't do to others...\"\n",
    "treebank_tokenizer = TreebankWordTokenizer()\n",
    "print(\"Treebank Tokenization:\", treebank_tokenizer.tokenize(text2))\n",
    "\n",
    "# Tweet Tokenizer\n",
    "tweet = \"Don't take cryptocurrency advice from people on twitter @user #crypto.\"\n",
    "tweet_tokenizer = TweetTokenizer()\n",
    "print(\"Tweet Tokenizer:\", tweet_tokenizer.tokenize(tweet))\n",
    "\n",
    "# Multi-word Expression Tokenizer\n",
    "mwe_tokenizer = MWETokenizer([('natural', 'language'), ('processing', 'tools')])\n",
    "text3 = \"Natural language processing tools are essential for nlp tasks.\"\n",
    "print(\"MWE Tokenizer:\", mwe_tokenizer.tokenize(text3.split()))"
   ]
  },
  {
   "cell_type": "markdown",
   "metadata": {},
   "source": [
    "#### 2. Stopwords Removal"
   ]
  },
  {
   "cell_type": "code",
   "execution_count": 2,
   "metadata": {},
   "outputs": [
    {
     "name": "stdout",
     "output_type": "stream",
     "text": [
      "Filtered Sentence: example sentence demonstrating removal stopwords .\n"
     ]
    }
   ],
   "source": [
    "# Example of stopword removal\n",
    "from nltk.corpus import stopwords\n",
    "\n",
    "# Define stopwords\n",
    "stop_words = set(stopwords.words('english'))\n",
    "text = \"This is an example sentence demonstrating the removal of stopwords.\"\n",
    "words = word_tokenize(text)\n",
    "\n",
    "# Removing stopwords\n",
    "filtered_words = [word for word in words if word.lower() not in stop_words]\n",
    "print(\"Filtered Sentence:\", ' '.join(filtered_words))   "
   ]
  },
  {
   "cell_type": "markdown",
   "metadata": {},
   "source": [
    "#### 3. Stemming and Lemmatization"
   ]
  },
  {
   "cell_type": "code",
   "execution_count": 3,
   "metadata": {},
   "outputs": [
    {
     "name": "stdout",
     "output_type": "stream",
     "text": [
      "Original Words: ['Studies', 'studying', 'studied']\n",
      "Stemmed Words: ['studi', 'studi', 'studi']\n",
      "Lemmatized Words: ['Studies', 'studying', 'studied']\n"
     ]
    }
   ],
   "source": [
    "from nltk.stem import PorterStemmer, WordNetLemmatizer\n",
    "\n",
    "# Initialize stemmer and lemmatizer\n",
    "stemmer = PorterStemmer()\n",
    "lemmatizer = WordNetLemmatizer()\n",
    "\n",
    "# Example text\n",
    "text = \"Studies studying studied\"\n",
    "words = word_tokenize(text)\n",
    "\n",
    "# Apply stemming and lemmatization\n",
    "stemmed_words = [stemmer.stem(word) for word in words]\n",
    "lemmatized_words = [lemmatizer.lemmatize(word) for word in words]\n",
    "\n",
    "print(\"Original Words:\", words)\n",
    "print(\"Stemmed Words:\", stemmed_words)\n",
    "print(\"Lemmatized Words:\", lemmatized_words)"
   ]
  },
  {
   "cell_type": "markdown",
   "metadata": {},
   "source": [
    "### **BAB 4** - Representasi Teks\n",
    "\n",
    "Bab ini membahas mengenai konsep-konsep penting dalam representasi teks, yang merupakan langkah mendasar dalam pemrosesan bahasa alami (NLP). "
   ]
  },
  {
   "cell_type": "markdown",
   "metadata": {},
   "source": [
    "#### 1. Implementasi Word2Vec untuk Representasi dan Plot Vektor Kata"
   ]
  },
  {
   "cell_type": "code",
   "execution_count": 4,
   "metadata": {},
   "outputs": [],
   "source": [
    "import gensim\n",
    "import numpy as np\n",
    "import os\n",
    "import matplotlib.pyplot as plt\n",
    "\n",
    "from sklearn.decomposition import PCA, KernelPCA"
   ]
  },
  {
   "cell_type": "code",
   "execution_count": 5,
   "metadata": {},
   "outputs": [],
   "source": [
    "class MySentences(object):\n",
    "    def __init__(self, dirname):\n",
    "        self.dirname = dirname\n",
    "\n",
    "    def __iter__(self):\n",
    "        # untuk setiap file\n",
    "        for fname in os.listdir(self.dirname):\n",
    "            # untuk setiap baris\n",
    "            for line in open(os.path.join(self.dirname, fname)):\n",
    "                yield line.split()"
   ]
  },
  {
   "cell_type": "code",
   "execution_count": 6,
   "metadata": {},
   "outputs": [],
   "source": [
    "sentences = [\n",
    "    ['saya', 'suka', 'makan', 'pie', 'untuk', 'desert'],\n",
    "    ['saya', 'tidak', 'mengendarai', 'mobil', 'cepat'],\n",
    "    ['data', 'sains', 'itu', 'menyenangkan'],\n",
    "    ['cokelat', 'adalah', 'makanan', 'favorit', 'saya'],\n",
    "    ['film', 'favorit', 'saya', 'adalah', 'predator']\n",
    "]"
   ]
  },
  {
   "cell_type": "code",
   "execution_count": 7,
   "metadata": {},
   "outputs": [],
   "source": [
    "# sg = 0 -> CBOW, sg = 1 -> skip-gram\n",
    "# size: dimensionality dari vektor kata yang dihasilkan\n",
    "# min_count: banyaknya frekuensi minimal sebuah kata, jika ingin dipertimbangkan dalam proses\n",
    "# window: range antara kata-kata konteks dengan posisi current word\n",
    "model = gensim.models.Word2Vec(sentences, vector_size=32, sg=0, min_count=1, window=5, epochs=10)"
   ]
  },
  {
   "cell_type": "code",
   "execution_count": 8,
   "metadata": {},
   "outputs": [
    {
     "name": "stdout",
     "output_type": "stream",
     "text": [
      "[-0.00465011 -0.00858896  0.02811499  0.01630316 -0.006763   -0.02959915\n",
      " -0.02321228 -0.00333367 -0.00249164 -0.00800791  0.03025439 -0.00143112\n",
      "  0.01834997 -0.02327615 -0.00782909 -0.01733728 -0.02231288  0.00387878\n",
      " -0.02243645 -0.00701406  0.01163498  0.01823118  0.00373941  0.00657593\n",
      " -0.01284802  0.0225772  -0.01971202  0.01452604 -0.02569924  0.00636079\n",
      " -0.01556912 -0.01328289]\n",
      "0.016764611\n",
      "[('saya', 0.36814987659454346), ('pie', 0.32074183225631714), ('sains', 0.246831476688385), ('cepat', 0.23897457122802734), ('suka', 0.23293167352676392), ('itu', 0.22976239025592804), ('untuk', 0.14131926000118256), ('predator', 0.09881935268640518), ('adalah', 0.024016039445996284), ('menyenangkan', 0.016764607280492783)]\n"
     ]
    }
   ],
   "source": [
    "# Mendapatkan representasi vektor dari sebuah kata\n",
    "print(model.wv['film'])\n",
    "\n",
    "# Menghitung similarity vektor antara dua kata\n",
    "print(model.wv.similarity('film', 'menyenangkan'))\n",
    "\n",
    "# Mencari top-N similar words\n",
    "print(model.wv.similar_by_word('film', topn=10, restrict_vocab=None))"
   ]
  },
  {
   "cell_type": "code",
   "execution_count": 9,
   "metadata": {},
   "outputs": [],
   "source": [
    "# Kata-kata yang ingin kita plot vektornya\n",
    "word_list = ['sains', 'cepat', 'pie', 'desert', 'cokelat']\n",
    "\n",
    "# Daftar vektor dari kata-kata tersebut\n",
    "word_vectors = np.array([model.wv[w] for w in word_list])"
   ]
  },
  {
   "cell_type": "code",
   "execution_count": 10,
   "metadata": {},
   "outputs": [],
   "source": [
    "# Reduksi dimensi vektor ke 2D agar bisa di-plot pada bidang 2D\n",
    "dimred = PCA(n_components=2, copy=False, whiten=True)\n",
    "red_word_vectors = dimred.fit_transform(word_vectors)"
   ]
  },
  {
   "cell_type": "code",
   "execution_count": 11,
   "metadata": {},
   "outputs": [
    {
     "data": {
      "image/png": "[encoded data removed]",
      "text/plain": [
       "<Figure size 640x480 with 1 Axes>"
      ]
     },
     "metadata": {},
     "output_type": "display_data"
    }
   ],
   "source": [
    "# Fungsi untuk membuat plot\n",
    "def plot(datas, labels, fc='yellow'):\n",
    "    # Plot the dots\n",
    "    plt.subplots_adjust(bottom=0.1)\n",
    "    plt.scatter(datas[:, 0], datas[:, 1], marker='o')\n",
    "    \n",
    "    # Annotate labels\n",
    "    for label, x, y in zip(labels, datas[:, 0], datas[:, 1]):\n",
    "        plt.annotate(\n",
    "            label,\n",
    "            xy=(x, y), xytext=(-15, 15),\n",
    "            textcoords='offset points', ha='right', va='bottom',\n",
    "            bbox=dict(boxstyle='round,pad=0.3', fc=fc, alpha=0.5),\n",
    "            arrowprops=dict(arrowstyle='->', connectionstyle='arc3,rad=0'))\n",
    "    \n",
    "    plt.show()\n",
    "\n",
    "# Membuat plot vektor\n",
    "plot(red_word_vectors, word_list)"
   ]
  },
  {
   "cell_type": "markdown",
   "metadata": {},
   "source": [
    "#### 2. Implementasi Word2Vec dengan Data dari Artikel Wikipedia"
   ]
  },
  {
   "cell_type": "code",
   "execution_count": 12,
   "metadata": {},
   "outputs": [],
   "source": [
    "from bs4 import BeautifulSoup as bs\n",
    "import urllib.request\n",
    "import re\n",
    "import nltk\n",
    "from nltk.corpus import stopwords\n",
    "from gensim.models import Word2Vec\n",
    "\n",
    "# Load the data from Wikipedia\n",
    "scrapped_data = urllib.request.urlopen('https://en.wikipedia.org/wiki/Artificial_intelligence')\n",
    "article = scrapped_data.read()\n",
    "\n",
    "# Parse the HTML using BeautifulSoup\n",
    "parsed_article = bs(article, 'html.parser')\n",
    "\n",
    "# Find all paragraphs\n",
    "paragraphs = parsed_article.find_all('p')\n",
    "\n",
    "# Combine paragraphs into one string\n",
    "article_text = \"\"\n",
    "for p in paragraphs:\n",
    "    article_text += p.text"
   ]
  },
  {
   "cell_type": "code",
   "execution_count": 13,
   "metadata": {},
   "outputs": [
    {
     "name": "stdout",
     "output_type": "stream",
     "text": [
      "['ai', 'intelligence', 'learning', 'used', 'data', 'machine', 'human', 'artificial', 'use', 'research', 'may', 'problems', 'many', 'power', 'problem', 'knowledge', 'models', 'networks', 'search', 'neural', 'reasoning', 'large', 'also', 'including', 'applications', 'systems', 'make', 'deep', 'would', 'using', 'nuclear', 'researchers', 'field', 'us', 'machines', 'computer', 'world', 'decision', 'google', 'logic', 'goals', 'include', 'called', 'agent', 'developed', 'people', 'program', 'however', 'information', 'general', 'agents', 'u', 'programs', 'could', 'solve', 'language', 'early', 'risks', 'tools', 'algorithms', 'system', 'specific', 'generative', 'possible', 'technology', 'e', 'trained', 'based', 'example', 'first', 'companies', 'real', 'g', 'risk', 'several', 'even', 'one', 'like', 'symbolic', 'decisions', 'fairness', 'well', 'new', 'intelligent', 'mind', 'processing', 'ability', 'energy', 'two', 'autonomous', 'training', 'text', 'go', 'future', 'goal', 'set', 'action', 'tasks', 'methods', 'humans', 'network', 'theory', 'making', 'difficult', 'important', 'rather', 'computing', 'process', 'mathematical', 'term', 'centers', 'experts', 'recognition', 'time', 'others', 'question', 'began', 'actions', 'development', 'way', 'space', 'since', 'techniques', 'input', 'model', 'solutions', 'formal', 'capable', 'identify', 'whether', 'states', 'turing', 'rights', 'must', 'work', 'potential', 'laws', 'solving', 'algorithm', 'ethical', 'uses', 'widely', 'form', 'different', 'number', 'open', 'funding', 'known', 'find', 'misinformation', 'level', 'among', 'processes', 'high', 'improve', 'available', 'able', 'gpt', 'amazon', 'scale', 'analysis', 'state', 'often', 'bias', 'game', 'learned', 'makes', 'electric', 'step', 'argued', 'especially', 'given', 'playing', 'jobs', 'require', 'know', 'order', 'defined', 'increase', 'bad', 'take', 'without', 'safety', 'study', 'another', 'microsoft', 'output', 'medical', 'privacy', 'perception', 'neurons', 'typically', 'certain', 'behavior', 'planning', 'layers', 'united', 'local', 'choose', 'image', 'particular', 'outputs', 'computational', 'solution', 'content', 'generation', 'inspired', 'body', 'discovery', 'areas', 'robot', 'languages', 'plant', 'person', 'years', 'objects', 'see', 'related', 'users', 'according', 'exactly', 'policy', 'part', 'test', 'sub', 'actors', 'true', 'robots', 'learn', 'situations', 'need', 'become', 'cost', 'ethics', 'software', 'philosophy', 'long', 'robotics', 'right', 'various', 'easy', 'became', 'feel', 'designed', 'speech', 'programming', 'deepmind', 'regulatory', 'images', 'widespread', 'optimization', 'amounts', 'nodes', 'issue', 'science', 'global', 'becomes', 'performance', 'useful', 'common', 'physical', 'successful', 'services', 'function', 'russell', 'eventually', 'released', 'particularly', 'representation', 'natural', 'center', 'sense', 'reinforcement', 'produced', 'surveillance', 'reach', 'although', 'electricity', 'developers', 'understanding', 'projects', 'good', 'view', 'environment', 'modern', 'advanced', 'success', 'works', 'classification', 'type', 'inputs', 'argue', 'government', 'vehicles', 'society', 'provide', 'approach', 'relevant', 'patterns', 'games', 'leading', 'chess', 'humanity', 'means', 'facts', 'multiple', 'described', 'capabilities', 'approaches', 'creating', 'classifiers', 'ensure', 'introduced', 'things', 'difficulty', 'military', 'countries', 'much', 'thus', 'actually', 'help', 'growth', 'utility', 'governments', 'measures', 'uncertain', 'experience', 'statement', 'reported', 'premises', 'showed', 'academic', 'expected', 'race', 'late', 'better', 'notably', 'proving', 'internet', 'commercial', 'classify', 'tests', 'products', 'proof', 'low', 'word', 'likely', 'inference', 'due', 'therefore', 'far', 'position', 'vast', 'video', 'computation', 'show', 'pre', 'mathematics', 'specialized', 'big', 'get', 'within', 'virtual', 'white', 'assistants', 'next', 'weight', 'facebook', 'define', 'self', 'apple', 'face', 'increasing', 'class', 'nations', 'application', 'international', 'similar', 'care', 'achieve', 'november', 'design', 'technique', 'social', 'simple', 'higher', 'sensors', 'k', 'alpha', 'control', 'survey', 'analyze', 'target', 'law', 'technologies', 'tree', 'object', 'fine', 'identified', 'joint', 'popular', 'current', 'consciousness', 'domains', 'range', 'impossible', 'engineering', 'allow', 'compas', 'black', 'feature', 'agree', 'biased', 'authoritarian', 'benefit', 'superintelligence', 'computers', 'led', 'union', 'anything', 'preferences', 'soft', 'existential', 'proposed', 'situation', 'japan', 'past', 'probability', 'made', 'recommendations', 'european', 'architecture', 'increased', 'interest', 'agreed', 'asthma', 'passed', 'concerns', 'weapons', 'effects', 'explain', 'founded', 'conscious', 'notions', 'upon', 'economics', 'china', 'operations', 'incomplete', 'definition', 'concepts', 'outcome', 'previous', 'effect', 'maximize', 'chatgpt', 'principles', 'firms', 'might', 'demand', 'beings', 'tech', 'requires', 'grid', 'main', 'adopted', 'predict', 'still', 'necessary', 'created', 'types', 'electrical', 'beginning', 'three', 'strategy', 'argues', 'found', 'billion', 'value', 'industry', 'commission', 'j', 'studies', 'examples', 'testing', 'critics', 'tuned', 'loss', 'idea', 'determine', 'match', 'winter', 'observation', 'pattern', 'asimov', 'hand', 'around', 'hidden', 'token', 'usually', 'short', 'layer', 'fields', 'features', 'brain', 'symbol', 'equal', 'least', 'youtube', 'hard', 'wide', 'task', 'similarly', 'improved', 'relationships', 'recommendation', 'support', 'considers', 'something', 'enough', 'fold', 'gpus', 'perceive', 'allows', 'philosophical', 'finding', 'sensitive', 'facial', 'throughout', 'describes', 'simulate', 'markov', 'evaluate', 'r', 'vision', 'variety', 'probabilistic', 'occur', 'outcomes', 'british', 'searches', 'includes', 'signals', 'bayesian', 'directly', 'meaning', 'required', 'structure', 'gained', 'transformers', 'classified', 'deduce', 'kinds', 'generate', 'answers', 'labeling', 'supervised', 'predictions', 'consider', 'automated', 'happen', 'obtaining', 'thinking', 'benefits', 'discussions', 'case', 'horn', 'free', 'solved', 'century', 'statements', 'handle', 'st', 'complex', 'operate', 'boom', 'billions', 'received', 'labelled', 'attention', 'logical', 'focus', 'swarm', 'narrow', 'rarely', 'efficient', 'minsky', 'relations', 'choices', 'rules', 'commonsense', 'result', 'knows', 'enormous', 'americans', 'back', 'ceo', 'user', 'wrote', 'copyrighted', 'market', 'authors', 'john', 'protection', 'meta', 'cloud', 'report', 'consumption', 'additional', 'responsible', 'concern', 'matter', 'source', 'sources', 'said', 'constellation', 'almost', 'terms', 'transparency', 'march', 'potentially', 'four', 'response', 'produce', 'results', 'thousands', 'summit', 'declaration', 'legal', 'stable', 'generated', 'photos', 'hardware', 'institutions', 'thought', 'supply', 'forecasting', 'sometimes', 'serious', 'access', 'approval', 'ban', 'tended', 'major', 'job', 'powerful', 'fiction', 'sentience', 'scenarios', 'philosopher', 'stuart', 'values', 'believe', 'freely', 'less', 'longer', 'developing', 'moral', 'framework', 'alan', 'frameworks', 'public', 'strategies', 'chinese', 'employment', 'unemployment', 'racist', 'writing', 'geoffrey', 'hinton', 'leaders', 'prevent', 'chance', 'gender', 'area', 'statistical', 'economists', 'considered', 'machinery', 'published', 'cannot', 'regulation', 'provides', 'convention', 'ways', 'player', 'textbooks', 'central', 'champion', 'quality', 'drug', 'videos', 'generating', 'beat', 'suggested', 'significant', 'online', 'automation', 'patients', 'founder', 'llama', 'months', 'issues', 'subjectivity', 'conference', 'expect', 'tries', 'trend', 'scope', 'double', 'traits', 'describe', 'publications', 'compensate', 'simulating', 'groups', 'agi', 'puzzles', 'verifiable', 'focuses', 'deductions', 'beliefs', 'depend', 'seoul', 'purpose', 'presented', 'nevertheless', 'external', 'unit', 'misleading', 'transformer', 'unlikely', 'norvig', 'pneumonia', 'dollars', 'invested', 'dying', 'ruler', 'tendency', 'strong', 'unintended', 'thinks', 'consequences', 'harms', 'raised', 'cases', 'operating', 'exist', 'amount', 'digits', 'discuss', 'policies', 'mistakes', 'recommend', 'engineers', 'definitions', 'criticism', 'hope', 'ipsos', 'algorithmic', 'memory', 'discrimination', 'cause', 'harm', 'properties', 'domain', 'seriously', 'represent', 'exists', 'co', 'events', 'expressed', 'recurrent', 'biases', 'marvin', 'default', 'assume', 'pioneer', 'told', 'changing', 'aspects', 'propaganda', 'signal', 'breadth', 'films', 'create', 'needed', 'represented', 'base', 'moore', 'offend', 'highlighted', 'vastly', 'move', 'convolutional', 'explosion', 'history', 'exponentially', 'focussed', 'address', 'imitate', 'perceptrons', 'plans', 'fast', 'unsolved', 'june', 'named', 'blacks', 'mental', 'questions', 'intelligently', 'project', 'simulated', 'whites', 'fact', 'retrieval', 'scene', 'book', 'gorilla', 'explicit', 'explainable', 'noted', 'neats', 'institute', 'predicting', 'engines', 'pretraining', 'lead', 'irrelevant', 'warn', 'scruffies', 'away', 'measure', 'netflix', 'interacting', 'via', 'provably', 'regulators', 'siri', 'alexa', 'llms', 'attempts', 'creative', 'friendly', 'lecun', 'play', 'yann', 'chatbots', 'lives', 'dystopian', 'imagenet', 'blind', 'red', 'hallucinations', 'computationalism', 'governance', 'culture', 'openai', 'exhibited', 'darwin', 'regulate', 'evolution', 'calling', 'granting', 'welfare', 'launched', 'develops', 'rlhf', 'alone', 'emerging', 'enable', 'uk', 'suffer', 'sentient', 'managers', 'scientists', 'implications', 'chances', 'achieving', 'affect', 'searle', 'relationship', 'priority', 'moravec', 'edge', 'eliminated', 'generally', 'integrated', 'total', 'factors', 'increasingly', 'redundancies', 'theoretical', 'previously', 'citizens', 'defines', 'easier', 'mccarthy', 'pigeons', 'statistics', 'kill', 'b', 'internal', 'reliably', 'warfare', 'conventional', 'mass', 'develop', 'targets', 'followed', 'reason', 'correctly', 'established', 'units', 'stated', 'extinction', 'collar', 'issued', 'impacts', 'gemini', 'superintelligent', 'concerned', 'benchmark', 'stories', 'labeled', 'second', 'subfields', 'datasets', 'morality', 'curated', 'factory', 'sufficiently', 'gives', 'claude', 'awareness', 'speed', 'hawking', 'stephen', 'complete', 'graphics', 'performed', 'done', 'arguments', 'possibility', 'harmful', 'extreme', 'trust', 'commitments', 'programmed', 'speak', 'reduce', 'interaction', 'facilitate', 'diffusion', 'existing', 'successes', 'blue', 'sentiment', 'multimodal', 'subject', 'responding', 'searching', 'disease', 'tool', 'incorporated', 'identification', 'threat', 'try', 'coordination', 'trees', 'logistics', 'innovation', 'wave', 'sufficient', 'pension', 'never', 'aggregation', 'usage', 'philosophers', 'industrial', 'words', 'millions', 'mechanism', 'operation', 'activities', 'activity', 'treatments', 'antiquity', 'mainly', 'astronomy', 'diseases', 'conduct', 'media', 'evacuation', 'management', 'diamond', 'active', 'aim', 'divided', 'behaviour', 'enabling', 'simplest', 'resources', 'affective', 'constraints', 'comprises', 'recognize', 'jeopardy', 'tens', 'financial', 'mistral', 'sentences', 'devised', 'whose', 'node', 'autonomously', 'defeated', 'clauses', 'challenges', 'turismo', 'single', 'gran', 'rule', 'involves', 'negation', 'challenging', 'intractable', 'best', 'prolog', 'competitive', 'fuzzy', 'degree', 'truth', 'professional', 'vague', 'non', 'becoming', 'alphago', 'contrast', 'precise', 'highly', 'included', 'advice', 'looking', 'winning', 'investment', 'banking', 'incrementally', 'gradient', 'descent', 'parameters', 'minimize', 'train', 'deployed', 'sectors', 'aims', 'survive', 'growing', 'distributed', 'finance', 'dynamic', 'prompts', 'ant', 'forms', 'operates', 'every', 'x', 'theorems', 'dedicated', 'deepfakes', 'basis', 'convinced', 'september', 'investing', 'michigan', 'act', 'contained', 'estimated', 'guess', 'opening', 'reactor', 'partial', 'island', 'mile', 'weights', 'announced', 'exploratory', 'parkinson', 'targeting', 'dick', 'nvidia', 'opposed', 'seen', 'paper', 'poll', 'driving', 'deployment', 'associates', 'carbon', 'recognise', 'japanese', 'classical', 'maximum', 'essential', 'october', 'express', 'versions', 'acquisition', 'improvements', 'c', 'predicted', 'watching', 'takes', 'rational', 'keep', 'business', 'l', 'simon', 'rejected', 'federal', 'near', 'avoid', 'assigns', 'ubitus', 'company', 'plants', 'backpropagation', 'algebra', 'taiwan', 'faster', 'exelon', 'crane', 'electronic', 'medicine', 'biological', 'allowed', 'audio', 'chosen', 'guided', 'adequate', 'assess', 'complexity', 'sample', 'third', 'nlp', 'helped', 'personal', 'english', 'devices', 'translation', 'powered', 'answering', 'factor', 'noam', 'chomsky', 'grammar', 'semantic', 'hopes', 'restricted', 'small', 'hassabis', 'demis', 'key', 'build', 'applied', 'professionals', 'symbols', 'iea', 'collection', 'already', 'inc', 'neighbor', 'discussed', 'nearest', 'demonstrated', 'character', 'courts', 'comes', 'disagree', 'fair', 'rationale', 'approximate', 'hours', 'category', 'protein', 'regression', 'begun', 'numeric', 'valuable', 'responses', 'deliver', 'ones', 'clearly', 'opinions', 'phase']\n"
     ]
    }
   ],
   "source": [
    "# Clean the text\n",
    "processed_article = article_text.lower()\n",
    "processed_article = re.sub('[^a-zA-Z]', ' ', processed_article)\n",
    "processed_article = re.sub(r'\\s+', ' ', processed_article)\n",
    "\n",
    "# Tokenize sentences\n",
    "all_sentences = nltk.sent_tokenize(processed_article)\n",
    "\n",
    "# Tokenize words and remove stopwords\n",
    "processed_sentences = [\n",
    "    [word for word in re.sub('[^a-zA-Z]', ' ', sent.lower()).split() if word not in stopwords.words('english')]\n",
    "    for sent in all_sentences\n",
    "]\n",
    "\n",
    "# Train Word2Vec model\n",
    "word2vec = Word2Vec(sentences=processed_sentences, min_count=2)\n",
    "\n",
    "# Print the words in the model's vocabulary\n",
    "index_to_key = word2vec.wv.index_to_key\n",
    "print(index_to_key)"
   ]
  },
  {
   "cell_type": "code",
   "execution_count": 14,
   "metadata": {},
   "outputs": [
    {
     "name": "stdout",
     "output_type": "stream",
     "text": [
      "[('ai', 0.7102029919624329), ('problems', 0.6201801300048828), ('search', 0.583128809928894), ('power', 0.5784744620323181), ('u', 0.5762763023376465), ('used', 0.574601411819458), ('networks', 0.5590240955352783), ('human', 0.551002025604248), ('field', 0.5508899688720703), ('machine', 0.5468079447746277)]\n"
     ]
    }
   ],
   "source": [
    "sim_words = word2vec.wv.most_similar('intelligence')\n",
    "print(sim_words)"
   ]
  },
  {
   "cell_type": "code",
   "execution_count": 15,
   "metadata": {},
   "outputs": [
    {
     "name": "stdout",
     "output_type": "stream",
     "text": [
      "similarity between science and artificial intelligence:  0.096547894\n"
     ]
    }
   ],
   "source": [
    "similarity_score = word2vec.wv.similarity('science', 'artificial')\n",
    "print('similarity between science and artificial intelligence: ', similarity_score)"
   ]
  },
  {
   "cell_type": "markdown",
   "metadata": {},
   "source": [
    "#### 3. Penggunaan Word2Vec menggunakan Gensim dan NLTK"
   ]
  },
  {
   "cell_type": "code",
   "execution_count": 16,
   "metadata": {},
   "outputs": [
    {
     "name": "stdout",
     "output_type": "stream",
     "text": [
      "Vektor representasi kata 'embeddings':  [-8.7274825e-03  2.1301615e-03 -8.7354420e-04 -9.3190884e-03\n",
      " -9.4281426e-03 -1.4107180e-03  4.4324086e-03  3.7040710e-03\n",
      " -6.4986930e-03 -6.8730675e-03 -4.9994122e-03 -2.2868442e-03\n",
      " -7.2502876e-03 -9.6033178e-03 -2.7436293e-03 -8.3628409e-03\n",
      " -6.0388758e-03 -5.6709289e-03 -2.3441375e-03 -1.7069972e-03\n",
      " -8.9569986e-03 -7.3519943e-04  8.1525063e-03  7.6904297e-03\n",
      " -7.2061159e-03 -3.6668312e-03  3.1185520e-03 -9.5707225e-03\n",
      "  1.4764392e-03  6.5244664e-03  5.7464195e-03 -8.7630618e-03\n",
      " -4.5171441e-03 -8.1401607e-03  4.5956374e-05  9.2636338e-03\n",
      "  5.9733056e-03  5.0673080e-03  5.0610625e-03 -3.2429171e-03\n",
      "  9.5521836e-03 -7.3564244e-03 -7.2703874e-03 -2.2653891e-03\n",
      " -7.7856064e-04 -3.2161034e-03 -5.9258583e-04  7.4888230e-03\n",
      " -6.9751858e-04 -1.6249407e-03  2.7443992e-03 -8.3591007e-03\n",
      "  7.8558037e-03  8.5361041e-03 -9.5840869e-03  2.4462664e-03\n",
      "  9.9049713e-03 -7.6658037e-03 -6.9669187e-03 -7.7365171e-03\n",
      "  8.3959233e-03 -6.8133592e-04  9.1444086e-03 -8.1582209e-03\n",
      "  3.7430846e-03  2.6350426e-03  7.4271322e-04  2.3276759e-03\n",
      " -7.4690939e-03 -9.3583735e-03  2.3545765e-03  6.1484552e-03\n",
      "  7.9856887e-03  5.7358947e-03 -7.7733636e-04  8.3061643e-03\n",
      " -9.3363142e-03  3.4061326e-03  2.6675343e-04  3.8572443e-03\n",
      "  7.3857834e-03 -6.7251669e-03  5.5844807e-03 -9.5222248e-03\n",
      " -8.0445886e-04 -8.6887367e-03 -5.0986730e-03  9.2892265e-03\n",
      " -1.8582619e-03  2.9144264e-03  9.0712793e-03  8.9381328e-03\n",
      " -8.2084350e-03 -3.0123137e-03  9.8866057e-03  5.1044310e-03\n",
      " -1.5880871e-03 -8.6920215e-03  2.9615164e-03 -6.6758976e-03]\n",
      "Kata-kata yang paling mirip dengan 'semantic':  [('embeddings', 0.13149002194404602), ('of', 0.06797593086957932), ('word', 0.04157734289765358), ('meanings', -0.013514931313693523), ('capture', -0.04461710527539253), ('words', -0.1116705983877182)]\n"
     ]
    }
   ],
   "source": [
    "# Berikan contoh penggunaan word2vec\n",
    "from gensim.models import Word2Vec\n",
    "from nltk.tokenize import word_tokenize\n",
    "\n",
    "# Contoh corpus teks\n",
    "corpus = [\n",
    "    \"Word embeddings capture semantic meanings of words\"\n",
    "]\n",
    "\n",
    "# Tokenisasi setiap kalimat dalam corpus\n",
    "tokenized_corpus = [word_tokenize(sentence.lower()) for sentence in corpus]\n",
    "\n",
    "# Membangun model Word2Vec\n",
    "model = Word2Vec(tokenized_corpus, vector_size=100, window=5, min_count=1, workers=4)\n",
    "\n",
    "# Melihat vektor representasi kata \"embeddings\"\n",
    "print(\"Vektor representasi kata 'embeddings': \", model.wv['embeddings'])\n",
    "\n",
    "# Melihat kata-kata yang paling mirip dengan \"semantic\"\n",
    "print(\"Kata-kata yang paling mirip dengan 'semantic': \", model.wv.most_similar('semantic'))"
   ]
  },
  {
   "cell_type": "markdown",
   "metadata": {},
   "source": [
    "#### 4. Implementasi Word2Vec dengan beberapa teks"
   ]
  },
  {
   "cell_type": "code",
   "execution_count": 17,
   "metadata": {},
   "outputs": [
    {
     "name": "stdout",
     "output_type": "stream",
     "text": [
      "Vektor representasi kata 'machine':  [ 5.6267120e-03  5.4973708e-03  1.8291199e-03  5.7494068e-03\n",
      " -8.9680776e-03  6.5593575e-03  9.2259916e-03 -4.2071473e-03\n",
      "  1.6075504e-03 -5.2338815e-03  1.0582185e-03  2.7701687e-03\n",
      "  8.1607364e-03  5.4401276e-04  2.5570584e-03  1.2977350e-03\n",
      "  8.4025227e-03 -5.7077026e-03 -6.2618302e-03 -3.6275184e-03\n",
      " -2.3005498e-03  5.0410628e-03 -8.1203571e-03 -2.8335357e-03\n",
      " -8.1974268e-03  5.1497100e-03 -2.5680638e-03 -9.0671070e-03\n",
      "  4.0717293e-03  9.0173231e-03 -3.0376601e-03 -5.8385395e-03\n",
      "  3.0198884e-03 -4.3584823e-04 -9.9794362e-03  8.4177041e-03\n",
      " -7.3388875e-03 -4.9304068e-03 -2.6570810e-03 -5.4523144e-03\n",
      "  1.7165100e-03  9.7128144e-03  4.5722723e-03  8.0886027e-03\n",
      " -4.7045827e-04  6.4492342e-04 -2.6683521e-03 -8.7795611e-03\n",
      "  3.4313034e-03  2.0933736e-03 -9.4218543e-03 -4.9684369e-03\n",
      " -9.7340988e-03 -5.7197916e-03  4.0645422e-03  8.6428607e-03\n",
      "  4.1116499e-03  2.3884643e-03  8.1447782e-03 -1.1192096e-03\n",
      " -1.3977134e-03 -8.7468233e-03 -1.2579202e-04 -2.5675725e-03\n",
      "  3.8607715e-04  7.2796619e-03 -7.0414604e-03 -3.9464748e-03\n",
      " -6.6646053e-03 -3.5441148e-03 -3.3158315e-03  2.1371210e-03\n",
      "  3.3281683e-03 -4.9571870e-03 -4.5462907e-03  1.1386942e-03\n",
      "  5.4534827e-03  5.3736498e-03 -2.9685367e-03 -4.2665256e-03\n",
      " -5.6166472e-03 -5.4498314e-04  1.9463730e-03  1.5253461e-03\n",
      "  7.3525296e-03 -2.7333724e-03 -6.5923930e-05 -5.5276332e-03\n",
      " -1.1700654e-03 -7.7119637e-03 -9.5932960e-04  1.3096749e-03\n",
      " -8.5947439e-03  8.7485835e-03 -9.2078662e-03 -9.6246768e-03\n",
      " -8.5116243e-03  7.3132683e-03  5.4655685e-03  9.2494618e-03]\n",
      "Kata-kata yang paling mirip dengan 'learning':  [('component', 0.2528938949108124), ('words', 0.17018885910511017), ('key', 0.15019769966602325), ('the', 0.13887980580329895), ('embeddings', 0.10849687457084656), ('future', 0.034764934331178665), ('semantic', 0.033080000430345535), ('word', 0.016019975766539574), ('is', 0.004503022879362106), ('a', -0.005846627522259951)]\n"
     ]
    }
   ],
   "source": [
    "# Berikan contoh penggunaan word2vec\n",
    "from gensim.models import Word2Vec\n",
    "from nltk.tokenize import word_tokenize\n",
    "\n",
    "# Contoh corpus teks\n",
    "corpus = [\n",
    "    \"Machine learning is the future of technology\",\n",
    "    \"Natural language processing is a key component of AI\",\n",
    "    \"Word embeddings capture semantic meanings of words\"\n",
    "]\n",
    "\n",
    "# Tokenisasi setiap kalimat dalam corpus\n",
    "tokenized_corpus = [word_tokenize(sentence.lower()) for sentence in corpus]\n",
    "\n",
    "# Membangun model Word2Vec\n",
    "model = Word2Vec(tokenized_corpus, vector_size=100, window=5, min_count=1, workers=4)\n",
    "\n",
    "# Melihat vektor representasi kata \"machine\"\n",
    "print(\"Vektor representasi kata 'machine': \", model.wv['machine'])\n",
    "\n",
    "# Melihat kata-kata yang paling mirip dengan \"learning\"\n",
    "print(\"Kata-kata yang paling mirip dengan 'learning': \", model.wv.most_similar('learning'))\n"
   ]
  },
  {
   "cell_type": "markdown",
   "metadata": {},
   "source": [
    "#### 5. Membangun Model Word2Vec untuk Representasi Kata pada Suatu Paragraf"
   ]
  },
  {
   "cell_type": "code",
   "execution_count": 18,
   "metadata": {},
   "outputs": [
    {
     "name": "stdout",
     "output_type": "stream",
     "text": [
      "Vektor representasi kata 'embeddings':  [ 1.3313340e-03  6.5407827e-03  9.9867228e-03  9.0589058e-03\n",
      " -7.9996884e-03  6.4453450e-03 -5.6673912e-03 -9.3592633e-04\n",
      "  4.6744553e-04  6.5733893e-03  4.4537163e-03  4.5681088e-03\n",
      "  9.4859200e-03  3.9996358e-04 -6.0236221e-03 -6.3407845e-03\n",
      "  6.4427364e-03 -5.2493741e-03 -2.8649226e-03  4.0514935e-03\n",
      " -2.2305122e-03 -6.0040699e-03 -2.2948147e-03  1.1982255e-03\n",
      "  2.1994023e-03  6.0771084e-03 -5.2495138e-03  3.0885194e-03\n",
      "  7.2308956e-03  2.1991157e-03  5.4345778e-03 -4.8267650e-03\n",
      "  6.1865845e-03 -7.6482198e-03  3.5156123e-03 -9.2701297e-03\n",
      " -2.5768087e-03 -9.0754861e-03 -1.5928260e-03 -5.3744074e-03\n",
      " -3.9526881e-03  1.1090942e-03  2.8095979e-03 -1.5332899e-03\n",
      " -8.1418641e-03 -5.9037958e-03  8.2088792e-04 -3.9365431e-03\n",
      " -9.4012581e-03 -7.6765881e-04  6.6885212e-03  5.9561105e-03\n",
      " -9.9278586e-03  3.1075773e-03 -5.9863143e-03 -9.1641098e-03\n",
      "  1.9778781e-04 -3.6572301e-04 -6.9913957e-03 -6.2687085e-03\n",
      " -2.4404924e-03  7.0861457e-03 -7.5423913e-03  7.7037131e-03\n",
      " -4.6125666e-04  1.1472414e-03  9.4937673e-03  4.7500557e-03\n",
      " -3.6178892e-03  3.8083885e-03  3.5007366e-03  6.3366424e-03\n",
      "  9.5887721e-05 -4.4078478e-03  1.3562260e-03 -5.4435385e-03\n",
      "  1.4092708e-03  4.9248799e-03  5.1634395e-03  9.1817565e-03\n",
      " -7.5608254e-03 -5.4026232e-03  6.4290282e-03  1.3680795e-03\n",
      " -6.6104196e-03  8.5803977e-04  2.7172288e-03 -2.5256507e-03\n",
      " -4.9253232e-03  5.0406833e-03  9.6714888e-03 -7.3857466e-03\n",
      " -1.1331908e-04 -2.5908002e-03 -6.3343258e-03 -1.3889687e-03\n",
      " -5.2317469e-03  9.0336949e-03 -5.8094724e-03  3.6597003e-03]\n"
     ]
    }
   ],
   "source": [
    "from gensim.models import Word2Vec\n",
    "from nltk.tokenize import word_tokenize\n",
    "\n",
    "# Contoh corpus teks\n",
    "corpus = [\n",
    "    '''Word embeddings capture semantic meanings of words by representing each\n",
    "    word as a dense vector in a high-dimensional space,\n",
    "    where the positioning of words is determined by their contextual relationships.\n",
    "    Through techniques like Word2Vec,\n",
    "    words with similar meanings or usage patterns tend to have vectors that are closer\n",
    "    to each other in this space.\n",
    "    This enables algorithms to understand the semantic nuances of language more effectively,\n",
    "    as words with related meanings are encoded with similar numerical representations.\n",
    "    Consequently, word embeddings have become a foundational component in natural language processing\n",
    "    tasks such as sentiment analysis, machine translation, and document classification.\n",
    "    They empower machine learning models to grasp the subtle semantic nuances inherent in human language,\n",
    "    enhancing their ability to comprehend and generate text with greater accuracy and contextuality.'''\n",
    "]\n",
    "\n",
    "# Tokenisasi setiap kalimat dalam corpus\n",
    "tokenized_corpus = [word_tokenize(sentence.lower()) for sentence in corpus]\n",
    "\n",
    "# Membangun model Word2Vec\n",
    "model = Word2Vec(tokenized_corpus, vector_size=100, window=5, min_count=1, workers=4)\n",
    "\n",
    "# Melihat vektor representasi kata \"embeddings\"\n",
    "print(\"Vektor representasi kata 'embeddings': \", model.wv['embeddings'])"
   ]
  },
  {
   "cell_type": "markdown",
   "metadata": {},
   "source": [
    "#### 6. Transformasi Teks"
   ]
  },
  {
   "cell_type": "code",
   "execution_count": 19,
   "metadata": {},
   "outputs": [
    {
     "name": "stdout",
     "output_type": "stream",
     "text": [
      "Tokens setelah transformasi teks:\n",
      "['transformasi', 'tek', 'adalah', 'langkah', 'awal', 'yang', 'pent', 'dalam', 'pemrosesan', 'bahasa', 'alami', '', 'nlp', '', '', 'ini', 'melibatkan', 'serangkaian', 'langkahlangkah', 'seperti', 'tokenisasi', '', 'pembersihan', '', 'normalisasi', '', 'dan', 'representasi', 'numerik', '']\n"
     ]
    }
   ],
   "source": [
    "import re\n",
    "from nltk.tokenize import word_tokenize\n",
    "from nltk.corpus import stopwords\n",
    "from nltk.stem import PorterStemmer, WordNetLemmatizer\n",
    "\n",
    "# Contoh teks mentah\n",
    "raw_text = '''Transformasi teks adalah langkah awal yang penting dalam pemrosesan bahasa alami (NLP).\n",
    "Ini melibatkan serangkaian langkah-langkah seperti tokenisasi, pembersihan, normalisasi, dan representasi numerik.'''\n",
    "\n",
    "# Tokenisasi\n",
    "tokens = word_tokenize(raw_text)\n",
    "\n",
    "# Lowercasing\n",
    "tokens = [token.lower() for token in tokens]\n",
    "\n",
    "# Pembersihan Teks\n",
    "cleaned_tokens = [re.sub(r'[^\\w\\s]', '', token) for token in tokens]\n",
    "\n",
    "# Stop Word Removal\n",
    "stop_words = set(stopwords.words('english'))\n",
    "filtered_tokens = [token for token in cleaned_tokens if token not in stop_words]\n",
    "\n",
    "# Stemming\n",
    "stemmer = PorterStemmer()\n",
    "stemmed_tokens = [stemmer.stem(token) for token in filtered_tokens]\n",
    "\n",
    "# Lemmatization\n",
    "lemmatizer = WordNetLemmatizer()\n",
    "lemmatized_tokens = [lemmatizer.lemmatize(token) for token in stemmed_tokens]\n",
    "\n",
    "print(\"Tokens setelah transformasi teks:\")\n",
    "print(lemmatized_tokens)"
   ]
  },
  {
   "cell_type": "markdown",
   "metadata": {},
   "source": [
    "#### 7. Implementasi One-Hot Encoding"
   ]
  },
  {
   "cell_type": "code",
   "execution_count": 20,
   "metadata": {},
   "outputs": [
    {
     "name": "stdout",
     "output_type": "stream",
     "text": [
      "\n",
      "Values:  ['can', 'eat', 'i', 'pizza', 'the']\n",
      "\n",
      "Integer encoded:  [0, 2, 1, 4, 3]\n",
      "\n",
      "MATRIX:\n",
      "[[1 0 0 0 0]\n",
      " [0 0 1 0 0]\n",
      " [0 1 0 0 0]\n",
      " [0 0 0 0 1]\n",
      " [0 0 0 1 0]]\n"
     ]
    }
   ],
   "source": [
    "# One-hot encoding using numpy\n",
    "import numpy as np\n",
    "\n",
    "docs = \"Can I eat the Pizza\".lower().split()\n",
    "doc1 = set(docs)\n",
    "doc1 = sorted(doc1)\n",
    "print(\"\\nValues: \", doc1)\n",
    "\n",
    "integer_encoded = []\n",
    "for i in docs:\n",
    "    v = np.where(np.array(doc1) == i)[0][0]\n",
    "    integer_encoded.append(v)\n",
    "print(\"\\nInteger encoded: \", integer_encoded)\n",
    "\n",
    "def get_vec(len_doc, word):\n",
    "    empty_vector = [0] * len_doc\n",
    "    find = np.where(np.array(doc1) == word)[0][0]\n",
    "    empty_vector[find] = 1\n",
    "    return empty_vector\n",
    "\n",
    "def get_matrix(doc1):\n",
    "    mat = []\n",
    "    len_doc = len(doc1)\n",
    "    for i in docs:\n",
    "        vec = get_vec(len_doc, i)\n",
    "        mat.append(vec)\n",
    "    return np.asarray(mat)\n",
    "\n",
    "print(\"\\nMATRIX:\")\n",
    "print(get_matrix(doc1))"
   ]
  },
  {
   "cell_type": "code",
   "execution_count": 21,
   "metadata": {},
   "outputs": [
    {
     "name": "stdout",
     "output_type": "stream",
     "text": [
      "['eat' 'can' 'you' 'pizza' 'i' 'the']\n",
      "[1 0 5 3 2 4]\n",
      "[[0. 1. 0. 0. 0. 0.]\n",
      " [1. 0. 0. 0. 0. 0.]\n",
      " [0. 0. 0. 0. 0. 1.]\n",
      " [0. 0. 0. 1. 0. 0.]\n",
      " [0. 0. 1. 0. 0. 0.]\n",
      " [0. 0. 0. 0. 1. 0.]]\n",
      "['eat']\n"
     ]
    },
    {
     "name": "stderr",
     "output_type": "stream",
     "text": [
      "c:\\Users\\ASUS\\AppData\\Local\\Programs\\Python\\Python311\\Lib\\site-packages\\sklearn\\preprocessing\\_encoders.py:975: FutureWarning: `sparse` was renamed to `sparse_output` in version 1.2 and will be removed in 1.4. `sparse_output` is ignored unless you leave `sparse` to its default value.\n",
      "  warnings.warn(\n"
     ]
    }
   ],
   "source": [
    "# One-hot encoding using sklearn\n",
    "from numpy import array, argmax\n",
    "from sklearn.preprocessing import LabelEncoder, OneHotEncoder\n",
    "\n",
    "# Define example\n",
    "doc1 = \"Can I eat the Pizza\".lower()\n",
    "doc2 = \"You can eat the Pizza\".lower()\n",
    "doc1 = doc1.split()\n",
    "doc2 = doc2.split()\n",
    "doc1_array = array(doc1)\n",
    "doc2_array = array(doc2)\n",
    "doc3 = doc1 + doc2\n",
    "doc3 = set(doc3)\n",
    "data = list(doc3)\n",
    "\n",
    "values = array(data)\n",
    "print(values)\n",
    "\n",
    "# Integer encode\n",
    "label_encoder = LabelEncoder()\n",
    "integer_encoded = label_encoder.fit_transform(values)\n",
    "print(integer_encoded)\n",
    "\n",
    "# Binary encode\n",
    "onehot_encoder = OneHotEncoder(sparse=False)\n",
    "integer_encoded = integer_encoded.reshape(len(integer_encoded), 1)\n",
    "onehot_encoded = onehot_encoder.fit_transform(integer_encoded)\n",
    "print(onehot_encoded)\n",
    "\n",
    "# Invert first example\n",
    "inverted = label_encoder.inverse_transform([argmax(onehot_encoded[0, :])])\n",
    "print(inverted)"
   ]
  },
  {
   "cell_type": "code",
   "execution_count": 22,
   "metadata": {},
   "outputs": [
    {
     "name": "stdout",
     "output_type": "stream",
     "text": [
      "===Using TensorFlow Keras Tokenizer for OneHotEncoding===\n",
      "[[0. 1. 0. 0. 0. 0.]\n",
      " [0. 0. 1. 0. 0. 0.]\n",
      " [0. 0. 0. 1. 0. 0.]\n",
      " [0. 0. 0. 0. 1. 0.]\n",
      " [0. 0. 0. 0. 0. 1.]]\n",
      "===Using to_categorical for OneHotEncoding===\n",
      "[[1. 0. 0. 0. 0.]\n",
      " [0. 0. 1. 0. 0.]\n",
      " [0. 1. 0. 0. 0.]\n",
      " [0. 0. 0. 0. 1.]\n",
      " [0. 0. 0. 1. 0.]]\n",
      "Inverted Encoding: can\n"
     ]
    }
   ],
   "source": [
    "# One-hot encoding using TensorFlow Keras\n",
    "from tensorflow.keras.preprocessing.text import Tokenizer\n",
    "from tensorflow.keras.utils import to_categorical\n",
    "from numpy import array, argmax\n",
    "from sklearn.preprocessing import LabelEncoder\n",
    "\n",
    "doc = \"Can I eat the Pizza\".lower().split()\n",
    "\n",
    "def using_tokenizer(doc):\n",
    "    # Create the tokenizer\n",
    "    t = Tokenizer()\n",
    "    # Fit the tokenizer on the documents\n",
    "    t.fit_on_texts(doc)\n",
    "    # Integer encode documents\n",
    "    encoded_docs = t.texts_to_matrix(doc, mode='count')\n",
    "    return encoded_docs, t  # Return both encoded_docs and tokenizer object\n",
    "\n",
    "def using_to_categorical(doc):\n",
    "    label_encoder = LabelEncoder()\n",
    "    data = label_encoder.fit_transform(doc)\n",
    "    data = array(data)\n",
    "    # One-hot encode\n",
    "    encoded = to_categorical(data)\n",
    "    return encoded\n",
    "\n",
    "def invert_encoding(tokenizer, onehot_encoded, row_num):  \n",
    "    # Pass tokenizer as an argument\n",
    "    inverted_index = argmax(onehot_encoded[row_num, :]) \n",
    "    inverted_word = tokenizer.index_word[inverted_index + 1]  # Adjust index by adding 1\n",
    "    return inverted_word\n",
    "\n",
    "print(\"===Using TensorFlow Keras Tokenizer for OneHotEncoding===\")\n",
    "encoded_docs, tokenizer = using_tokenizer(doc)  # Store tokenizer object\n",
    "print(encoded_docs)\n",
    "\n",
    "print(\"===Using to_categorical for OneHotEncoding===\")\n",
    "onehot_encoded = using_to_categorical(doc)\n",
    "print(onehot_encoded)\n",
    "\n",
    "label_encoder = LabelEncoder()  # Create LabelEncoder object\n",
    "print(\"Inverted Encoding:\", invert_encoding(tokenizer, onehot_encoded, 0))  # Pass tokenizer object"
   ]
  },
  {
   "cell_type": "markdown",
   "metadata": {},
   "source": [
    "#### 8. Implementasi One-Hot Encoding dan Plot Vector Word Embedding"
   ]
  },
  {
   "cell_type": "code",
   "execution_count": 23,
   "metadata": {},
   "outputs": [
    {
     "name": "stdout",
     "output_type": "stream",
     "text": [
      "    ID  City_Bandung  City_Jakarta  City_Jayapura  City_Makassar  City_Medan  \\\n",
      "0  100         False          True          False          False       False   \n",
      "1  101          True         False          False          False       False   \n",
      "2  102         False         False          False          False       False   \n",
      "3  103         False         False          False          False       False   \n",
      "4  104         False         False          False          False        True   \n",
      "5  105         False         False          False           True       False   \n",
      "6  106         False         False           True          False       False   \n",
      "\n",
      "   City_Pontianak  City_Surabaya  \n",
      "0           False          False  \n",
      "1           False          False  \n",
      "2           False           True  \n",
      "3            True          False  \n",
      "4           False          False  \n",
      "5           False          False  \n",
      "6           False          False  \n"
     ]
    }
   ],
   "source": [
    "# One-Hot Encoding\n",
    "import pandas as pd\n",
    "\n",
    "city_id = [100, 101, 102, 103, 104, 105, 106]\n",
    "city_name = ['Jakarta', 'Bandung', 'Surabaya', 'Pontianak', 'Medan', 'Makassar', 'Jayapura']\n",
    "\n",
    "df = pd.DataFrame(list(zip(city_id, city_name)), columns=['ID', 'City'])\n",
    "\n",
    "encoded = pd.get_dummies(df, prefix='City')\n",
    "\n",
    "print(encoded)"
   ]
  },
  {
   "cell_type": "code",
   "execution_count": 24,
   "metadata": {},
   "outputs": [
    {
     "name": "stdout",
     "output_type": "stream",
     "text": [
      "cat:     [1 0 0 0 0]\n",
      "dog:     [0 1 0 0 0]\n",
      "kitten:  [0 0 1 0 0]\n",
      "mouse:   [0 0 0 1 0]\n",
      "puppy:   [0 0 0 0 1]\n"
     ]
    }
   ],
   "source": [
    "import numpy as np\n",
    "\n",
    "def create_vocabulary(training_data):\n",
    "    # Menggabungkan semua kata dalam data pelatihan menjadi satu string.\n",
    "    all_words = ' '.join(training_data).lower()  # Mengubah semua huruf menjadi huruf kecil.\n",
    "    all_words = all_words.replace('.', '')  # Menghapus tanda titik (\".\").\n",
    "    all_words = all_words.split()  # Memisahkan string menjadi kata-kata individual.\n",
    "    vocab = list(set(all_words))  # Menghapus duplikasi kata dengan mengonversi string menjadi set.\n",
    "    vocab.sort()  # Mengurutkan kata-kata dalam daftar.\n",
    "    return vocab\n",
    "\n",
    "def one_hot(word, vocab, vocab_size):\n",
    "    # Membuat vektor dengan panjang vocab_size yang berisi nol.\n",
    "    one_hot = [0] * vocab_size\n",
    "    pos = vocab.index(word)  # Menemukan posisi kata dalam daftar vocab.\n",
    "    one_hot[pos] = 1  # Mengatur elemen ke-pos dalam vektor menjadi 1.\n",
    "    one_hot = np.array(one_hot)  # Mengonversi vektor menjadi array NumPy.\n",
    "    return one_hot\n",
    "\n",
    "def create_vector_word_map(vocab, vocab_size):\n",
    "    \"\"\"\n",
    "    Fungsi ini mengambil daftar kata-kata (vocab) dan ukuran vocab,\n",
    "    dan mengembalikan kamus yang memetakan vektor one-hot kembali ke kata-kata.\n",
    "    \"\"\"\n",
    "    vec_to_word = {str(one_hot(word, vocab, vocab_size)): word for word in vocab}\n",
    "    return vec_to_word\n",
    "\n",
    "# Create some training data\n",
    "training_data = ['cat kitten dog puppy mouse']  # Data Pelatihan\n",
    "vocab = create_vocabulary(training_data)\n",
    "vocab_size = len(vocab)\n",
    "\n",
    "# Print the one-hot encoding for each word\n",
    "for word in vocab:\n",
    "    print(f'{word}: {\" \"*(6-len(word))} {one_hot(word, vocab, vocab_size)}')"
   ]
  },
  {
   "cell_type": "code",
   "execution_count": 25,
   "metadata": {},
   "outputs": [
    {
     "data": {
      "image/png": "[encoded data removed]",
      "text/plain": [
       "<Figure size 640x480 with 1 Axes>"
      ]
     },
     "metadata": {},
     "output_type": "display_data"
    }
   ],
   "source": [
    "import matplotlib.pyplot as plt\n",
    "from mpl_toolkits.mplot3d import Axes3D\n",
    "\n",
    "# Create figure\n",
    "fig = plt.figure()\n",
    "ax = fig.add_subplot(projection='3d')\n",
    "ax.set_title('Example Word Embeddings in 3D')\n",
    "\n",
    "# Word embeddings\n",
    "word_embeddings = [\n",
    "    [5, 3, 1],\n",
    "    [4.5, 4.5, 0.5],\n",
    "    [1, 5, 1],\n",
    "    [1.5, 4.5, 0.5],\n",
    "    [1, 1, 5]\n",
    "]\n",
    "\n",
    "# Labels for plotting\n",
    "labels = ['cat', 'kitten', 'dog', 'puppy', 'mouse']\n",
    "\n",
    "# Create plot\n",
    "for we, label in list(zip(word_embeddings, labels)):\n",
    "    ax.scatter(we[0], we[1], we[2], s=50)\n",
    "    ax.text(we[0] + 0.1, we[1] + 0.1, we[2], label, size=13)\n",
    "\n",
    "# Show the plot\n",
    "plt.show()"
   ]
  },
  {
   "cell_type": "markdown",
   "metadata": {},
   "source": [
    "### **BAB 5** - Pemrosesan Bahasa Alami Dasar\n",
    "\n",
    "Bab ini memberikan pengenalan menyeluruh tentang konsep dasar dalam Natural Language Processing (NLP), dengan fokus pada gramatika formal, struktur sintaksis, dan pembangkitan teks. "
   ]
  },
  {
   "cell_type": "markdown",
   "metadata": {},
   "source": [
    "#### 1. Gramatika Konsektual (Context-Free Grammar -CFG)"
   ]
  },
  {
   "cell_type": "code",
   "execution_count": 26,
   "metadata": {},
   "outputs": [
    {
     "name": "stdout",
     "output_type": "stream",
     "text": [
      "(S\n",
      "  (NP (Det the) (N man))\n",
      "  (VP\n",
      "    (V saw)\n",
      "    (NP (Det a) (N dog))\n",
      "    (PP (P in) (NP (Det the) (N park)))))\n",
      "(S\n",
      "  (NP (Det the) (N man))\n",
      "  (VP\n",
      "    (V saw)\n",
      "    (NP (Det a) (N dog) (PP (P in) (NP (Det the) (N park))))))\n"
     ]
    }
   ],
   "source": [
    "import nltk\n",
    "\n",
    "# Mendefinisikan CFG untuk frasa sederhana\n",
    "grammar = nltk.CFG.fromstring(\"\"\"\n",
    "S -> NP VP\n",
    "NP -> Det N | Det N PP\n",
    "VP -> V NP | V NP PP\n",
    "PP -> P NP\n",
    "Det -> 'the' | 'a'\n",
    "N -> 'dog' | 'cat' | 'man' | 'park'\n",
    "V -> 'chased' | 'saw'\n",
    "P -> 'in' | 'on'\n",
    "\"\"\")\n",
    "\n",
    "# Membuat parser CFG\n",
    "parser = nltk.ChartParser(grammar)\n",
    "\n",
    "# Contoh kalimat untuk dianalisis\n",
    "sentence = \"the man saw a dog in the park\"\n",
    "\n",
    "# Menerapkan parser pada kalimat\n",
    "for tree in parser.parse(sentence.split()):\n",
    "    print(tree)"
   ]
  },
  {
   "cell_type": "markdown",
   "metadata": {},
   "source": [
    "#### 2. Gramatika Aturan-aturan Konteks (Context-Sensitive Grammar) "
   ]
  },
  {
   "cell_type": "code",
   "execution_count": 27,
   "metadata": {},
   "outputs": [
    {
     "name": "stdout",
     "output_type": "stream",
     "text": [
      "String 0010 tidak dapat dihasilkan dari aturan-aturan produksi yang diberikan.\n"
     ]
    }
   ],
   "source": [
    "# Import library yang dibutuhkan\n",
    "import re\n",
    "\n",
    "# Mendefinisikan aturan-aturan produksi untuk Bahasa Post\n",
    "def apply_rule(string, rule):\n",
    "    # Memisahkan aturan produksi menjadi dua bagian\n",
    "    left, right = rule.split(' -> ')\n",
    "    # Mencari posisi konteks dalam string\n",
    "    context_position = string.find(left)\n",
    "    if context_position != -1:\n",
    "        # Memastikan aturan produksi diterapkan pada posisi konteks yang tepat\n",
    "        left_context = string[max(0, context_position - 1):context_position]\n",
    "        right_context = string[context_position + len(left):context_position + len(left) + 1]\n",
    "        # Jika konteks sesuai dengan aturan produksi, aplikasikan aturan tersebut\n",
    "        if left_context == right_context:\n",
    "            return string[:context_position] + right + string[context_position + len(left):]\n",
    "    return None\n",
    "\n",
    "# Mendefinisikan aturan-aturan produksi untuk Bahasa Post\n",
    "rules = ['A -> BB', 'B -> 1A', 'B1 -> 1', 'BB -> 0']\n",
    "\n",
    "# Memeriksa apakah string dapat dihasilkan dari aturan-aturan produksi yang diberikan\n",
    "def generate_string(rules, target):\n",
    "    string = \"1\"\n",
    "    # Menerapkan aturan-aturan produksi secara berulang hingga tidak ada lagi aturan yang dapat diterapkan\n",
    "    while True:\n",
    "        applied = False\n",
    "        for rule in rules:\n",
    "            new_string = apply_rule(string, rule)\n",
    "            if new_string:\n",
    "                string = new_string\n",
    "                applied = True\n",
    "                break\n",
    "        if not applied:\n",
    "            break\n",
    "    # Mengembalikan string yang dihasilkan jika sama dengan target\n",
    "    if string == target:\n",
    "        return True\n",
    "    return False\n",
    "\n",
    "# Contoh penggunaan\n",
    "target = \"0010\"\n",
    "if generate_string(rules, target):\n",
    "    print(f\"String {target} dapat dihasilkan dari aturan-aturan produksi yang diberikan.\")\n",
    "else:\n",
    "    print(f\"String {target} tidak dapat dihasilkan dari aturan-aturan produksi yang diberikan.\")"
   ]
  },
  {
   "cell_type": "markdown",
   "metadata": {},
   "source": [
    "#### 3. Gramatika Dependensi (Dependency Grammar)"
   ]
  },
  {
   "cell_type": "code",
   "execution_count": 28,
   "metadata": {},
   "outputs": [
    {
     "name": "stdout",
     "output_type": "stream",
     "text": [
      "Collecting spacy\n",
      "  Using cached spacy-3.8.2-cp311-cp311-win_amd64.whl.metadata (27 kB)\n",
      "Collecting spacy-legacy<3.1.0,>=3.0.11 (from spacy)\n",
      "  Using cached spacy_legacy-3.0.12-py2.py3-none-any.whl.metadata (2.8 kB)\n",
      "Collecting spacy-loggers<2.0.0,>=1.0.0 (from spacy)\n",
      "  Using cached spacy_loggers-1.0.5-py3-none-any.whl.metadata (23 kB)\n",
      "Collecting murmurhash<1.1.0,>=0.28.0 (from spacy)\n",
      "  Using cached murmurhash-1.0.11-cp311-cp311-win_amd64.whl.metadata (2.0 kB)\n",
      "Collecting cymem<2.1.0,>=2.0.2 (from spacy)\n",
      "  Using cached cymem-2.0.10-cp311-cp311-win_amd64.whl.metadata (8.6 kB)\n",
      "Collecting preshed<3.1.0,>=3.0.2 (from spacy)\n",
      "  Using cached preshed-3.0.9-cp311-cp311-win_amd64.whl.metadata (2.2 kB)\n",
      "Collecting thinc<8.4.0,>=8.3.0 (from spacy)\n",
      "  Using cached thinc-8.3.2-cp311-cp311-win_amd64.whl.metadata (15 kB)\n",
      "Collecting wasabi<1.2.0,>=0.9.1 (from spacy)\n",
      "  Using cached wasabi-1.1.3-py3-none-any.whl.metadata (28 kB)\n",
      "Collecting srsly<3.0.0,>=2.4.3 (from spacy)\n",
      "  Using cached srsly-2.4.8-cp311-cp311-win_amd64.whl.metadata (20 kB)\n",
      "Collecting catalogue<2.1.0,>=2.0.6 (from spacy)\n",
      "  Using cached catalogue-2.0.10-py3-none-any.whl.metadata (14 kB)\n",
      "Collecting weasel<0.5.0,>=0.1.0 (from spacy)\n",
      "  Using cached weasel-0.4.1-py3-none-any.whl.metadata (4.6 kB)\n",
      "Collecting typer<1.0.0,>=0.3.0 (from spacy)\n",
      "  Using cached typer-0.15.1-py3-none-any.whl.metadata (15 kB)\n",
      "Requirement already satisfied: tqdm<5.0.0,>=4.38.0 in c:\\users\\asus\\appdata\\local\\programs\\python\\python311\\lib\\site-packages (from spacy) (4.66.5)\n",
      "Requirement already satisfied: requests<3.0.0,>=2.13.0 in c:\\users\\asus\\appdata\\local\\programs\\python\\python311\\lib\\site-packages (from spacy) (2.31.0)\n",
      "Collecting pydantic!=1.8,!=1.8.1,<3.0.0,>=1.7.4 (from spacy)\n",
      "  Using cached pydantic-2.10.3-py3-none-any.whl.metadata (172 kB)\n",
      "Requirement already satisfied: jinja2 in c:\\users\\asus\\appdata\\local\\programs\\python\\python311\\lib\\site-packages (from spacy) (3.1.2)\n",
      "Requirement already satisfied: setuptools in c:\\users\\asus\\appdata\\local\\programs\\python\\python311\\lib\\site-packages (from spacy) (65.5.0)\n",
      "Requirement already satisfied: packaging>=20.0 in c:\\users\\asus\\appdata\\local\\programs\\python\\python311\\lib\\site-packages (from spacy) (23.1)\n",
      "Collecting langcodes<4.0.0,>=3.2.0 (from spacy)\n",
      "  Using cached langcodes-3.5.0-py3-none-any.whl.metadata (29 kB)\n",
      "Requirement already satisfied: numpy>=1.19.0 in c:\\users\\asus\\appdata\\local\\programs\\python\\python311\\lib\\site-packages (from spacy) (1.26.1)\n",
      "Collecting language-data>=1.2 (from langcodes<4.0.0,>=3.2.0->spacy)\n",
      "  Using cached language_data-1.3.0-py3-none-any.whl.metadata (4.3 kB)\n",
      "Collecting annotated-types>=0.6.0 (from pydantic!=1.8,!=1.8.1,<3.0.0,>=1.7.4->spacy)\n",
      "  Using cached annotated_types-0.7.0-py3-none-any.whl.metadata (15 kB)\n",
      "Collecting pydantic-core==2.27.1 (from pydantic!=1.8,!=1.8.1,<3.0.0,>=1.7.4->spacy)\n",
      "  Using cached pydantic_core-2.27.1-cp311-none-win_amd64.whl.metadata (6.7 kB)\n",
      "Requirement already satisfied: typing-extensions>=4.12.2 in c:\\users\\asus\\appdata\\local\\programs\\python\\python311\\lib\\site-packages (from pydantic!=1.8,!=1.8.1,<3.0.0,>=1.7.4->spacy) (4.12.2)\n",
      "Requirement already satisfied: charset-normalizer<4,>=2 in c:\\users\\asus\\appdata\\local\\programs\\python\\python311\\lib\\site-packages (from requests<3.0.0,>=2.13.0->spacy) (3.2.0)\n",
      "Requirement already satisfied: idna<4,>=2.5 in c:\\users\\asus\\appdata\\local\\programs\\python\\python311\\lib\\site-packages (from requests<3.0.0,>=2.13.0->spacy) (3.4)\n",
      "Requirement already satisfied: urllib3<3,>=1.21.1 in c:\\users\\asus\\appdata\\local\\programs\\python\\python311\\lib\\site-packages (from requests<3.0.0,>=2.13.0->spacy) (2.0.4)\n",
      "Requirement already satisfied: certifi>=2017.4.17 in c:\\users\\asus\\appdata\\local\\programs\\python\\python311\\lib\\site-packages (from requests<3.0.0,>=2.13.0->spacy) (2023.7.22)\n",
      "Collecting blis<1.1.0,>=1.0.0 (from thinc<8.4.0,>=8.3.0->spacy)\n",
      "  Using cached blis-1.0.1-cp311-cp311-win_amd64.whl.metadata (7.8 kB)\n",
      "Collecting confection<1.0.0,>=0.0.1 (from thinc<8.4.0,>=8.3.0->spacy)\n",
      "  Using cached confection-0.1.5-py3-none-any.whl.metadata (19 kB)\n",
      "Collecting numpy>=1.19.0 (from spacy)\n",
      "  Using cached numpy-2.0.2-cp311-cp311-win_amd64.whl.metadata (59 kB)\n",
      "Requirement already satisfied: colorama in c:\\users\\asus\\appdata\\local\\programs\\python\\python311\\lib\\site-packages (from tqdm<5.0.0,>=4.38.0->spacy) (0.4.6)\n",
      "Requirement already satisfied: click>=8.0.0 in c:\\users\\asus\\appdata\\local\\programs\\python\\python311\\lib\\site-packages (from typer<1.0.0,>=0.3.0->spacy) (8.1.7)\n",
      "Collecting shellingham>=1.3.0 (from typer<1.0.0,>=0.3.0->spacy)\n",
      "  Using cached shellingham-1.5.4-py2.py3-none-any.whl.metadata (3.5 kB)\n",
      "Requirement already satisfied: rich>=10.11.0 in c:\\users\\asus\\appdata\\local\\programs\\python\\python311\\lib\\site-packages (from typer<1.0.0,>=0.3.0->spacy) (13.9.3)\n",
      "Collecting cloudpathlib<1.0.0,>=0.7.0 (from weasel<0.5.0,>=0.1.0->spacy)\n",
      "  Using cached cloudpathlib-0.20.0-py3-none-any.whl.metadata (14 kB)\n",
      "Requirement already satisfied: smart-open<8.0.0,>=5.2.1 in c:\\users\\asus\\appdata\\local\\programs\\python\\python311\\lib\\site-packages (from weasel<0.5.0,>=0.1.0->spacy) (7.0.5)\n",
      "Requirement already satisfied: MarkupSafe>=2.0 in c:\\users\\asus\\appdata\\local\\programs\\python\\python311\\lib\\site-packages (from jinja2->spacy) (2.1.3)\n",
      "Collecting marisa-trie>=1.1.0 (from language-data>=1.2->langcodes<4.0.0,>=3.2.0->spacy)\n",
      "  Using cached marisa_trie-1.2.1-cp311-cp311-win_amd64.whl.metadata (9.3 kB)\n",
      "Requirement already satisfied: markdown-it-py>=2.2.0 in c:\\users\\asus\\appdata\\local\\programs\\python\\python311\\lib\\site-packages (from rich>=10.11.0->typer<1.0.0,>=0.3.0->spacy) (3.0.0)\n",
      "Requirement already satisfied: pygments<3.0.0,>=2.13.0 in c:\\users\\asus\\appdata\\local\\programs\\python\\python311\\lib\\site-packages (from rich>=10.11.0->typer<1.0.0,>=0.3.0->spacy) (2.15.1)\n",
      "Requirement already satisfied: wrapt in c:\\users\\asus\\appdata\\local\\programs\\python\\python311\\lib\\site-packages (from smart-open<8.0.0,>=5.2.1->weasel<0.5.0,>=0.1.0->spacy) (1.16.0)\n",
      "Requirement already satisfied: mdurl~=0.1 in c:\\users\\asus\\appdata\\local\\programs\\python\\python311\\lib\\site-packages (from markdown-it-py>=2.2.0->rich>=10.11.0->typer<1.0.0,>=0.3.0->spacy) (0.1.2)\n",
      "Using cached spacy-3.8.2-cp311-cp311-win_amd64.whl (12.2 MB)\n",
      "Using cached catalogue-2.0.10-py3-none-any.whl (17 kB)\n",
      "Using cached cymem-2.0.10-cp311-cp311-win_amd64.whl (39 kB)\n",
      "Using cached langcodes-3.5.0-py3-none-any.whl (182 kB)\n",
      "Using cached murmurhash-1.0.11-cp311-cp311-win_amd64.whl (25 kB)\n",
      "Using cached preshed-3.0.9-cp311-cp311-win_amd64.whl (122 kB)\n",
      "Using cached pydantic-2.10.3-py3-none-any.whl (456 kB)\n",
      "Using cached pydantic_core-2.27.1-cp311-none-win_amd64.whl (2.0 MB)\n",
      "Using cached spacy_legacy-3.0.12-py2.py3-none-any.whl (29 kB)\n",
      "Using cached spacy_loggers-1.0.5-py3-none-any.whl (22 kB)\n",
      "Using cached srsly-2.4.8-cp311-cp311-win_amd64.whl (479 kB)\n",
      "Using cached thinc-8.3.2-cp311-cp311-win_amd64.whl (1.5 MB)\n",
      "Using cached numpy-2.0.2-cp311-cp311-win_amd64.whl (15.9 MB)\n",
      "Using cached typer-0.15.1-py3-none-any.whl (44 kB)\n",
      "Using cached wasabi-1.1.3-py3-none-any.whl (27 kB)\n",
      "Using cached weasel-0.4.1-py3-none-any.whl (50 kB)\n",
      "Using cached annotated_types-0.7.0-py3-none-any.whl (13 kB)\n",
      "Using cached blis-1.0.1-cp311-cp311-win_amd64.whl (6.3 MB)\n",
      "Using cached cloudpathlib-0.20.0-py3-none-any.whl (52 kB)\n",
      "Using cached confection-0.1.5-py3-none-any.whl (35 kB)\n",
      "Using cached language_data-1.3.0-py3-none-any.whl (5.4 MB)\n",
      "Using cached shellingham-1.5.4-py2.py3-none-any.whl (9.8 kB)\n",
      "Using cached marisa_trie-1.2.1-cp311-cp311-win_amd64.whl (152 kB)\n",
      "Installing collected packages: cymem, wasabi, spacy-loggers, spacy-legacy, shellingham, pydantic-core, numpy, murmurhash, marisa-trie, cloudpathlib, catalogue, annotated-types, srsly, pydantic, preshed, language-data, blis, typer, langcodes, confection, weasel, thinc, spacy\n",
      "  Attempting uninstall: numpy\n",
      "    Found existing installation: numpy 1.26.1\n",
      "    Uninstalling numpy-1.26.1:\n",
      "      Successfully uninstalled numpy-1.26.1\n",
      "Successfully installed annotated-types-0.7.0 blis-1.0.1 catalogue-2.0.10 cloudpathlib-0.20.0 confection-0.1.5 cymem-2.0.10 langcodes-3.5.0 language-data-1.3.0 marisa-trie-1.2.1 murmurhash-1.0.11 numpy-2.0.2 preshed-3.0.9 pydantic-2.10.3 pydantic-core-2.27.1 shellingham-1.5.4 spacy-3.8.2 spacy-legacy-3.0.12 spacy-loggers-1.0.5 srsly-2.4.8 thinc-8.3.2 typer-0.15.1 wasabi-1.1.3 weasel-0.4.1\n"
     ]
    },
    {
     "name": "stderr",
     "output_type": "stream",
     "text": [
      "WARNING: Ignoring invalid distribution ~atplotlib (C:\\Users\\ASUS\\AppData\\Local\\Programs\\Python\\Python311\\Lib\\site-packages)\n",
      "WARNING: Ignoring invalid distribution ~atplotlib (C:\\Users\\ASUS\\AppData\\Local\\Programs\\Python\\Python311\\Lib\\site-packages)\n",
      "  WARNING: Failed to remove contents in a temporary directory 'C:\\Users\\ASUS\\AppData\\Local\\Programs\\Python\\Python311\\Lib\\site-packages\\~umpy.libs'.\n",
      "  You can safely remove it manually.\n",
      "  WARNING: Failed to remove contents in a temporary directory 'C:\\Users\\ASUS\\AppData\\Local\\Programs\\Python\\Python311\\Lib\\site-packages\\~umpy'.\n",
      "  You can safely remove it manually.\n",
      "WARNING: Ignoring invalid distribution ~atplotlib (C:\\Users\\ASUS\\AppData\\Local\\Programs\\Python\\Python311\\Lib\\site-packages)\n",
      "ERROR: pip's dependency resolver does not currently take into account all the packages that are installed. This behaviour is the source of the following dependency conflicts.\n",
      "matplotlib 3.8.2 requires numpy<2,>=1.21, but you have numpy 2.0.2 which is incompatible.\n",
      "contourpy 1.1.1 requires numpy<2.0,>=1.16; python_version <= \"3.11\", but you have numpy 2.0.2 which is incompatible.\n",
      "gensim 4.3.3 requires numpy<2.0,>=1.18.5, but you have numpy 2.0.2 which is incompatible.\n",
      "scikit-learn 1.3.2 requires numpy<2.0,>=1.17.3, but you have numpy 2.0.2 which is incompatible.\n",
      "scipy 1.11.3 requires numpy<1.28.0,>=1.21.6, but you have numpy 2.0.2 which is incompatible.\n",
      "\n",
      "[notice] A new release of pip is available: 24.2 -> 24.3.1\n",
      "[notice] To update, run: python.exe -m pip install --upgrade pip\n"
     ]
    },
    {
     "name": "stdout",
     "output_type": "stream",
     "text": [
      "Collecting en-core-web-sm==3.8.0\n",
      "  Downloading https://github.com/explosion/spacy-models/releases/download/en_core_web_sm-3.8.0/en_core_web_sm-3.8.0-py3-none-any.whl (12.8 MB)\n",
      "     ---------------------------------------- 0.0/12.8 MB ? eta -:--:--\n",
      "     ---------------------------------------- 0.0/12.8 MB ? eta -:--:--\n",
      "     - -------------------------------------- 0.5/12.8 MB 2.4 MB/s eta 0:00:06\n",
      "     --- ------------------------------------ 1.0/12.8 MB 2.1 MB/s eta 0:00:06\n",
      "     ---- ----------------------------------- 1.6/12.8 MB 2.5 MB/s eta 0:00:05\n",
      "     ------ --------------------------------- 2.1/12.8 MB 2.4 MB/s eta 0:00:05\n",
      "     --------- ------------------------------ 2.9/12.8 MB 2.7 MB/s eta 0:00:04\n",
      "     ----------- ---------------------------- 3.7/12.8 MB 2.9 MB/s eta 0:00:04\n",
      "     ------------- -------------------------- 4.5/12.8 MB 2.9 MB/s eta 0:00:03\n",
      "     ---------------- ----------------------- 5.2/12.8 MB 3.2 MB/s eta 0:00:03\n",
      "     ------------------ --------------------- 6.0/12.8 MB 3.2 MB/s eta 0:00:03\n",
      "     ---------------------- ----------------- 7.1/12.8 MB 3.4 MB/s eta 0:00:02\n",
      "     ------------------------- -------------- 8.1/12.8 MB 3.5 MB/s eta 0:00:02\n",
      "     --------------------------- ------------ 8.9/12.8 MB 3.5 MB/s eta 0:00:02\n",
      "     ------------------------------- -------- 10.2/12.8 MB 3.7 MB/s eta 0:00:01\n",
      "     --------------------------------- ------ 10.7/12.8 MB 3.6 MB/s eta 0:00:01\n",
      "     ------------------------------------ --- 11.8/12.8 MB 3.7 MB/s eta 0:00:01\n",
      "     ---------------------------------------  12.6/12.8 MB 3.7 MB/s eta 0:00:01\n",
      "     ---------------------------------------- 12.8/12.8 MB 3.7 MB/s eta 0:00:00\n",
      "Installing collected packages: en-core-web-sm\n",
      "Successfully installed en-core-web-sm-3.8.0\n",
      "\u001b[38;5;2m✔ Download and installation successful\u001b[0m\n",
      "You can now load the package via spacy.load('en_core_web_sm')\n"
     ]
    },
    {
     "name": "stderr",
     "output_type": "stream",
     "text": [
      "WARNING: Ignoring invalid distribution ~atplotlib (c:\\Users\\ASUS\\AppData\\Local\\Programs\\Python\\Python311\\Lib\\site-packages)\n",
      "WARNING: Ignoring invalid distribution ~atplotlib (c:\\Users\\ASUS\\AppData\\Local\\Programs\\Python\\Python311\\Lib\\site-packages)\n",
      "WARNING: Ignoring invalid distribution ~atplotlib (c:\\Users\\ASUS\\AppData\\Local\\Programs\\Python\\Python311\\Lib\\site-packages)\n",
      "\n",
      "[notice] A new release of pip is available: 24.2 -> 24.3.1\n",
      "[notice] To update, run: python.exe -m pip install --upgrade pip\n"
     ]
    }
   ],
   "source": [
    "!pip install spacy\n",
    "!python -m spacy download en_core_web_sm"
   ]
  },
  {
   "cell_type": "code",
   "execution_count": 29,
   "metadata": {},
   "outputs": [
    {
     "name": "stdout",
     "output_type": "stream",
     "text": [
      "The --> det --> cat\n",
      "cat --> nsubj --> sits\n",
      "sits --> ROOT --> sits\n",
      "on --> prep --> sits\n",
      "the --> det --> mat\n",
      "mat --> pobj --> on\n",
      ". --> punct --> sits\n"
     ]
    }
   ],
   "source": [
    "# Import library yang dibutuhkan\n",
    "import spacy\n",
    "\n",
    "# Load model Bahasa Inggris dari library Spacy\n",
    "nlp = spacy.load(\"en_core_web_sm\")\n",
    "\n",
    "# Contoh kalimat\n",
    "sentence = \"The cat sits on the mat.\"\n",
    "\n",
    "# Proses parsing kalimat dengan model Spacy\n",
    "doc = nlp(sentence)\n",
    "\n",
    "# Menampilkan hubungan dependensi antara kata-kata dalam kalimat\n",
    "for token in doc:\n",
    "    print(token.text, \"-->\", token.dep_, \"-->\", token.head.text)"
   ]
  },
  {
   "cell_type": "markdown",
   "metadata": {},
   "source": [
    "#### 4. Gramatika Transformasi (Transformation Grammar)"
   ]
  },
  {
   "cell_type": "code",
   "execution_count": 30,
   "metadata": {},
   "outputs": [
    {
     "name": "stdout",
     "output_type": "stream",
     "text": [
      "Kalimat Asli: Saya suka makan bakso di warung.\n",
      "Hasil Transformasi: Saya suka makan bakso di warung.\n"
     ]
    }
   ],
   "source": [
    "# Fungsi untuk mentransformasi kalimat dengan aturan-aturan tertentu\n",
    "def transform_sentence(sentence):\n",
    "    # Aturan transformasi sederhana: mengganti \"saya\" dengan \"dia\"\n",
    "    transformed_sentence = sentence.replace(\"saya\", \"dia\")\n",
    "    return transformed_sentence\n",
    "\n",
    "# Contoh kalimat\n",
    "sentence = \"Saya suka makan bakso di warung.\"\n",
    "\n",
    "# Memanggil fungsi transform_sentence() untuk mentransformasi kalimat\n",
    "transformed_sentence = transform_sentence(sentence)\n",
    "\n",
    "# Menampilkan kalimat asli dan hasil transformasinya\n",
    "print(\"Kalimat Asli:\", sentence)\n",
    "print(\"Hasil Transformasi:\", transformed_sentence)"
   ]
  },
  {
   "cell_type": "markdown",
   "metadata": {},
   "source": [
    "#### 5. Gramatika Probabilistik (Probabilistic Grammar)"
   ]
  },
  {
   "cell_type": "code",
   "execution_count": 31,
   "metadata": {},
   "outputs": [
    {
     "name": "stdout",
     "output_type": "stream",
     "text": [
      "(S (NP (Pronoun I)) (VP (V saw) (NP (Det a) (N dog)))) (p=0.004032)\n"
     ]
    }
   ],
   "source": [
    "import nltk\n",
    "\n",
    "# Mendefinisikan aturan-aturan produksi dengan probabilitas\n",
    "grammar = nltk.PCFG.fromstring(\"\"\"\n",
    "S -> NP VP [1.0]\n",
    "NP -> Det N [0.6] | Pronoun [0.4]\n",
    "VP -> V NP [0.7] | VP PP [0.3]\n",
    "PP -> P NP [1.0]\n",
    "Det -> 'the' [0.8] | 'a' [0.2]\n",
    "N -> 'cat' [0.4] | 'dog' [0.6]\n",
    "Pronoun -> 'I' [0.5] | 'he' [0.3] | 'she' [0.2]\n",
    "V -> 'chased' [0.6] | 'saw' [0.4]\n",
    "P -> 'with' [0.7] | 'in' [0.3]\n",
    "\"\"\")\n",
    "\n",
    "# Membuat parser probabilistik dari grammar\n",
    "parser = nltk.ViterbiParser(grammar)\n",
    "\n",
    "# Contoh kalimat untuk dianalisis\n",
    "sentence = \"I saw a dog\"\n",
    "\n",
    "# Menerapkan parser probabilistik pada kalimat\n",
    "for tree in parser.parse(sentence.split()):\n",
    "    print(tree)"
   ]
  },
  {
   "cell_type": "markdown",
   "metadata": {},
   "source": [
    "#### 6. Natural Language Generation menggunakan NLTK"
   ]
  },
  {
   "cell_type": "code",
   "execution_count": 32,
   "metadata": {},
   "outputs": [
    {
     "name": "stdout",
     "output_type": "stream",
     "text": [
      "Kalimat yang dihasilkan: Cat following mouse.\n"
     ]
    }
   ],
   "source": [
    "import nltk\n",
    "import random\n",
    "\n",
    "# Import wordnet untuk sinonim\n",
    "from nltk.corpus import wordnet\n",
    "\n",
    "# Fungsi untuk menghasilkan kalimat dengan variasi kata\n",
    "def generate_sentence(subject, verb, object):\n",
    "    # Memilih satu dari beberapa sinonim untuk setiap kata\n",
    "    subject_synonyms = wordnet.synsets(subject)\n",
    "    verb_synonyms = wordnet.synsets(verb)\n",
    "    object_synonyms = wordnet.synsets(object)\n",
    "\n",
    "    if subject_synonyms and verb_synonyms and object_synonyms:\n",
    "        # Mengambil kata-kata acak dari daftar sinonim\n",
    "        subject_word = random.choice(subject_synonyms[0].lemma_names())\n",
    "        verb_word = random.choice(verb_synonyms[0].lemma_names())\n",
    "        object_word = random.choice(object_synonyms[0].lemma_names())\n",
    "\n",
    "        # Menghasilkan kalimat dengan kata-kata yang dipilih\n",
    "        sentence = f\"{subject_word.capitalize()} {verb_word} {object_word}.\"\n",
    "        return sentence\n",
    "    else:\n",
    "        return \"Tidak dapat menemukan sinonim untuk semua kata.\"\n",
    "\n",
    "# Contoh data terstruktur\n",
    "subject = \"cat\"\n",
    "verb = \"chase\"\n",
    "object = \"mouse\"\n",
    "\n",
    "# Menghasilkan kalimat dengan menggunakan fungsi generate_sentence\n",
    "sentence = generate_sentence(subject, verb, object)\n",
    "print(\"Kalimat yang dihasilkan:\", sentence)"
   ]
  },
  {
   "cell_type": "markdown",
   "metadata": {},
   "source": [
    "### **BAB 6** - Klasififikasi Teks\n",
    "\n",
    "Bab ini mengulas topik penting dalam Natural Language Processing (NLP), khususnya terkait dengan klasifikasi teks. Pembahasan mencakup konsep klasifikasi biner, langkah-langkah umum, algoritma yang sering digunakan, serta kelebihan dan kekurangan pendekatan ini."
   ]
  },
  {
   "cell_type": "markdown",
   "metadata": {},
   "source": [
    "#### 1. Logistic Regression"
   ]
  },
  {
   "cell_type": "code",
   "execution_count": 42,
   "metadata": {},
   "outputs": [
    {
     "name": "stdout",
     "output_type": "stream",
     "text": [
      "                          precision    recall  f1-score   support\n",
      "\n",
      "             alt.atheism       0.81      0.83      0.82       151\n",
      "           comp.graphics       0.73      0.78      0.75       202\n",
      " comp.os.ms-windows.misc       0.74      0.81      0.77       195\n",
      "comp.sys.ibm.pc.hardware       0.69      0.68      0.69       183\n",
      "   comp.sys.mac.hardware       0.87      0.82      0.84       205\n",
      "          comp.windows.x       0.88      0.82      0.85       215\n",
      "            misc.forsale       0.78      0.81      0.80       193\n",
      "               rec.autos       0.89      0.92      0.91       196\n",
      "         rec.motorcycles       0.94      0.90      0.92       168\n",
      "      rec.sport.baseball       0.92      0.92      0.92       211\n",
      "        rec.sport.hockey       0.93      0.95      0.94       198\n",
      "               sci.crypt       0.97      0.94      0.95       201\n",
      "         sci.electronics       0.81      0.80      0.80       202\n",
      "                 sci.med       0.89      0.90      0.90       194\n",
      "               sci.space       0.90      0.97      0.93       189\n",
      "  soc.religion.christian       0.82      0.96      0.88       202\n",
      "      talk.politics.guns       0.87      0.91      0.89       188\n",
      "   talk.politics.mideast       0.97      0.97      0.97       182\n",
      "      talk.politics.misc       0.89      0.79      0.84       159\n",
      "      talk.religion.misc       0.82      0.51      0.63       136\n",
      "\n",
      "                accuracy                           0.86      3770\n",
      "               macro avg       0.86      0.85      0.85      3770\n",
      "            weighted avg       0.86      0.86      0.85      3770\n",
      "\n"
     ]
    }
   ],
   "source": [
    "from sklearn.datasets import fetch_20newsgroups\n",
    "from sklearn.feature_extraction.text import TfidfVectorizer\n",
    "from sklearn.model_selection import train_test_split\n",
    "from sklearn.linear_model import LogisticRegression\n",
    "from sklearn.metrics import classification_report\n",
    "\n",
    "# Step 1: Persiapan Data\n",
    "data = fetch_20newsgroups(subset='all', categories=None, shuffle=True, random_state=42)\n",
    "\n",
    "# Step 2: Preprocessing Teks (dalam contoh ini, kami akan menggunakan TF-IDF)\n",
    "tfidf_vectorizer = TfidfVectorizer(max_features=5000)\n",
    "X = tfidf_vectorizer.fit_transform(data.data)\n",
    "y = data.target\n",
    "\n",
    "# Step 3: Pembagian Data\n",
    "X_train, X_test, y_train, y_test = train_test_split(X, y, test_size=0.2, random_state=42)\n",
    "\n",
    "# Step 4: Pembuatan Model\n",
    "model = LogisticRegression(multi_class='ovr')  # One-vs-Rest strategy\n",
    "\n",
    "# Step 5: Pelatihan Model\n",
    "model.fit(X_train, y_train)\n",
    "\n",
    "# Step 6: Evaluasi Model\n",
    "y_pred = model.predict(X_test)\n",
    "print(classification_report(y_test, y_pred, target_names=data.target_names))"
   ]
  },
  {
   "cell_type": "markdown",
   "metadata": {},
   "source": [
    "#### 2. Support Vector Machine (SVM)"
   ]
  },
  {
   "cell_type": "code",
   "execution_count": 36,
   "metadata": {},
   "outputs": [
    {
     "name": "stdout",
     "output_type": "stream",
     "text": [
      "              precision    recall  f1-score   support\n",
      "\n",
      "           0       0.73      0.91      0.81        35\n",
      "           1       0.81      0.52      0.63        25\n",
      "\n",
      "    accuracy                           0.75        60\n",
      "   macro avg       0.77      0.72      0.72        60\n",
      "weighted avg       0.76      0.75      0.74        60\n",
      "\n"
     ]
    },
    {
     "data": {
      "image/png": "[encoded data removed]",
      "text/plain": [
       "<Figure size 640x480 with 2 Axes>"
      ]
     },
     "metadata": {},
     "output_type": "display_data"
    }
   ],
   "source": [
    "# Implementasi SVM\n",
    "import pandas as pd\n",
    "import matplotlib.pyplot as plt\n",
    "import seaborn as sn\n",
    "from sklearn import svm\n",
    "from sklearn.metrics import classification_report, confusion_matrix\n",
    "from sklearn.model_selection import train_test_split\n",
    "\n",
    "# Load dataset\n",
    "data = pd.read_csv(\"heart_failure_clinical_records_dataset.csv\")\n",
    "\n",
    "# Split dataset into features (X) and target (y)\n",
    "X = data.drop(columns=[\"DEATH_EVENT\"])\n",
    "y = data[\"DEATH_EVENT\"]\n",
    "\n",
    "# Split data into training and testing sets\n",
    "X_train, X_test, y_train, y_test = train_test_split(X, y, test_size=0.2, random_state=42)\n",
    "\n",
    "# Create SVM Classifier\n",
    "clf = svm.SVC(kernel=\"linear\")\n",
    "clf.fit(X_train, y_train)\n",
    "\n",
    "# Predictions\n",
    "y_pred = clf.predict(X_test)\n",
    "\n",
    "# Classification report\n",
    "print(classification_report(y_test, y_pred))\n",
    "\n",
    "# Confusion matrix\n",
    "cm = confusion_matrix(y_test, y_pred)\n",
    "sn.heatmap(cm, annot=True, fmt=\"d\")\n",
    "plt.show()"
   ]
  },
  {
   "cell_type": "markdown",
   "metadata": {},
   "source": [
    "#### 3. Decision Tree"
   ]
  },
  {
   "cell_type": "code",
   "execution_count": 37,
   "metadata": {},
   "outputs": [
    {
     "name": "stdout",
     "output_type": "stream",
     "text": [
      "Akurasi model: 1.00\n"
     ]
    }
   ],
   "source": [
    "# Impor Library yang Diperlukan\n",
    "import pandas as pd\n",
    "from sklearn.datasets import load_iris\n",
    "from sklearn.model_selection import train_test_split\n",
    "from sklearn.tree import DecisionTreeClassifier\n",
    "from sklearn.metrics import accuracy_score\n",
    "\n",
    "# Muat dataset Iris\n",
    "iris = load_iris()\n",
    "X = iris.data\n",
    "y = iris.target\n",
    "\n",
    "# Bagi dataset menjadi set pelatihan dan pengujian\n",
    "X_train, X_test, y_train, y_test = train_test_split(X, y, test_size=0.3, random_state=42)\n",
    "\n",
    "# Buat model Decision Tree\n",
    "clf = DecisionTreeClassifier()\n",
    "clf.fit(X_train, y_train)\n",
    "\n",
    "# Prediksi kelas pada data pengujian\n",
    "y_pred = clf.predict(X_test)\n",
    "\n",
    "# Evaluasi kinerja model\n",
    "accuracy = accuracy_score(y_test, y_pred)\n",
    "print(f\"Akurasi model: {accuracy:.2f}\")"
   ]
  },
  {
   "cell_type": "markdown",
   "metadata": {},
   "source": [
    "#### 4. Naive Bayes"
   ]
  },
  {
   "cell_type": "code",
   "execution_count": 40,
   "metadata": {},
   "outputs": [
    {
     "name": "stdout",
     "output_type": "stream",
     "text": [
      "              precision    recall  f1-score   support\n",
      "\n",
      "         ham       0.99      0.99      0.99       968\n",
      "        spam       0.91      0.93      0.92       147\n",
      "\n",
      "    accuracy                           0.98      1115\n",
      "   macro avg       0.95      0.96      0.95      1115\n",
      "weighted avg       0.98      0.98      0.98      1115\n",
      "\n"
     ]
    }
   ],
   "source": [
    "# Import Library\n",
    "import numpy as np\n",
    "import pandas as pd\n",
    "import matplotlib.pyplot as plt\n",
    "import matplotlib.style\n",
    "import seaborn as sns\n",
    "import nltk\n",
    "import warnings\n",
    "warnings.filterwarnings('ignore')\n",
    "from sklearn.metrics import accuracy_score, precision_score, recall_score, f1_score\n",
    "\n",
    "# Muat dataset\n",
    "df = pd.read_csv(\"spam.csv\", encoding='latin-1')\n",
    "df.head()\n",
    "\n",
    "# Preprocessing data\n",
    "from sklearn.feature_extraction.text import CountVectorizer\n",
    "from sklearn.model_selection import train_test_split\n",
    "\n",
    "count = CountVectorizer()\n",
    "text = count.fit_transform(df['Message'])\n",
    "\n",
    "x_train, x_test, y_train, y_test = train_test_split(text, df['Category'], test_size=0.20, random_state=100)\n",
    "\n",
    "# Membuat dan melatih model MultinomialNB\n",
    "from sklearn.naive_bayes import MultinomialNB\n",
    "from sklearn.metrics import classification_report\n",
    "\n",
    "multinomial_nb_model = MultinomialNB()\n",
    "multinomial_nb_model.fit(x_train, y_train)\n",
    "prediction = multinomial_nb_model.predict(x_test)\n",
    "\n",
    "# Evaluasi model\n",
    "print(classification_report(y_test, prediction))"
   ]
  },
  {
   "cell_type": "markdown",
   "metadata": {},
   "source": [
    "#### 5. Artificial Neural Network"
   ]
  },
  {
   "cell_type": "code",
   "execution_count": 41,
   "metadata": {},
   "outputs": [
    {
     "name": "stdout",
     "output_type": "stream",
     "text": [
      "Akurasi model: 1.00\n"
     ]
    }
   ],
   "source": [
    "# Impor Library yang Diperlukan\n",
    "import pandas as pd\n",
    "import numpy as np\n",
    "from sklearn.model_selection import train_test_split\n",
    "from sklearn.preprocessing import StandardScaler\n",
    "from sklearn.neural_network import MLPClassifier\n",
    "from sklearn.metrics import accuracy_score\n",
    "from sklearn.datasets import load_iris\n",
    "\n",
    "# Muat dataset Titanic (contoh: menggunakan dataset Iris dari Scikit-learn)\n",
    "titanic = load_iris()\n",
    "X = titanic.data\n",
    "y = titanic.target\n",
    "\n",
    "# Bagi dataset menjadi set pelatihan dan pengujian\n",
    "X_train, X_test, y_train, y_test = train_test_split(X, y, test_size=0.3, random_state=42)\n",
    "\n",
    "# Normalisasi data\n",
    "scaler = StandardScaler()\n",
    "X_train_scaled = scaler.fit_transform(X_train)\n",
    "X_test_scaled = scaler.transform(X_test)\n",
    "\n",
    "# Buat model ANN\n",
    "clf = MLPClassifier(hidden_layer_sizes=(10,), max_iter=1000, random_state=42)\n",
    "clf.fit(X_train_scaled, y_train)\n",
    "\n",
    "# Prediksi kelas pada data pengujian\n",
    "y_pred = clf.predict(X_test_scaled)\n",
    "\n",
    "# Evaluasi kinerja model\n",
    "accuracy = accuracy_score(y_test, y_pred)\n",
    "print(f\"Akurasi model: {accuracy:.2f}\")"
   ]
  },
  {
   "cell_type": "markdown",
   "metadata": {},
   "source": [
    "### **BAB 7** - Implementasi Deep Learning pada NLP\n",
    "\n",
    "Bab ini menguraikan konsep penting mengenai penerapan Deep Learning dalam bidang Natural Language Processing (NLP). Penekanannya adalah pada berbagai jenis jaringan saraf yang dirancang untuk memahami, memproses, dan menghasilkan bahasa manusia."
   ]
  },
  {
   "cell_type": "markdown",
   "metadata": {},
   "source": [
    "#### 1. Jaringan Saraf Tiruan (ANN)"
   ]
  },
  {
   "cell_type": "code",
   "execution_count": 44,
   "metadata": {},
   "outputs": [
    {
     "name": "stdout",
     "output_type": "stream",
     "text": [
      "Epoch 1/10\n",
      "\u001b[1m24/24\u001b[0m \u001b[32m━━━━━━━━━━━━━━━━━━━━\u001b[0m\u001b[37m\u001b[0m \u001b[1m2s\u001b[0m 14ms/step - accuracy: 0.3182 - loss: 1.2424 - val_accuracy: 0.4000 - val_loss: 1.1178\n",
      "Epoch 2/10\n",
      "\u001b[1m24/24\u001b[0m \u001b[32m━━━━━━━━━━━━━━━━━━━━\u001b[0m\u001b[37m\u001b[0m \u001b[1m0s\u001b[0m 4ms/step - accuracy: 0.3161 - loss: 1.1281 - val_accuracy: 0.5333 - val_loss: 1.0475\n",
      "Epoch 3/10\n",
      "\u001b[1m24/24\u001b[0m \u001b[32m━━━━━━━━━━━━━━━━━━━━\u001b[0m\u001b[37m\u001b[0m \u001b[1m0s\u001b[0m 4ms/step - accuracy: 0.3893 - loss: 1.0734 - val_accuracy: 0.5667 - val_loss: 0.9880\n",
      "Epoch 4/10\n",
      "\u001b[1m24/24\u001b[0m \u001b[32m━━━━━━━━━━━━━━━━━━━━\u001b[0m\u001b[37m\u001b[0m \u001b[1m0s\u001b[0m 5ms/step - accuracy: 0.3486 - loss: 1.0896 - val_accuracy: 0.6000 - val_loss: 0.9346\n",
      "Epoch 5/10\n",
      "\u001b[1m24/24\u001b[0m \u001b[32m━━━━━━━━━━━━━━━━━━━━\u001b[0m\u001b[37m\u001b[0m \u001b[1m0s\u001b[0m 5ms/step - accuracy: 0.4342 - loss: 1.0119 - val_accuracy: 0.7000 - val_loss: 0.8869\n",
      "Epoch 6/10\n",
      "\u001b[1m24/24\u001b[0m \u001b[32m━━━━━━━━━━━━━━━━━━━━\u001b[0m\u001b[37m\u001b[0m \u001b[1m0s\u001b[0m 4ms/step - accuracy: 0.6311 - loss: 0.9407 - val_accuracy: 0.7333 - val_loss: 0.8400\n",
      "Epoch 7/10\n",
      "\u001b[1m24/24\u001b[0m \u001b[32m━━━━━━━━━━━━━━━━━━━━\u001b[0m\u001b[37m\u001b[0m \u001b[1m0s\u001b[0m 4ms/step - accuracy: 0.6660 - loss: 0.9068 - val_accuracy: 0.8000 - val_loss: 0.7913\n",
      "Epoch 8/10\n",
      "\u001b[1m24/24\u001b[0m \u001b[32m━━━━━━━━━━━━━━━━━━━━\u001b[0m\u001b[37m\u001b[0m \u001b[1m0s\u001b[0m 4ms/step - accuracy: 0.7687 - loss: 0.8454 - val_accuracy: 0.8333 - val_loss: 0.7425\n",
      "Epoch 9/10\n",
      "\u001b[1m24/24\u001b[0m \u001b[32m━━━━━━━━━━━━━━━━━━━━\u001b[0m\u001b[37m\u001b[0m \u001b[1m0s\u001b[0m 4ms/step - accuracy: 0.7758 - loss: 0.7926 - val_accuracy: 0.8667 - val_loss: 0.6947\n",
      "Epoch 10/10\n",
      "\u001b[1m24/24\u001b[0m \u001b[32m━━━━━━━━━━━━━━━━━━━━\u001b[0m\u001b[37m\u001b[0m \u001b[1m0s\u001b[0m 4ms/step - accuracy: 0.7451 - loss: 0.7549 - val_accuracy: 0.8667 - val_loss: 0.6472\n",
      "\u001b[1m1/1\u001b[0m \u001b[32m━━━━━━━━━━━━━━━━━━━━\u001b[0m\u001b[37m\u001b[0m \u001b[1m0s\u001b[0m 199ms/step - accuracy: 0.8667 - loss: 0.6472\n",
      "Test loss: 0.65\n",
      "Test accuracy: 0.87\n"
     ]
    }
   ],
   "source": [
    "import numpy as np\n",
    "from keras.models import Sequential\n",
    "from keras.layers import Dense\n",
    "from sklearn.model_selection import train_test_split\n",
    "from sklearn.preprocessing import StandardScaler\n",
    "from sklearn.datasets import load_iris\n",
    "\n",
    "# Load dataset\n",
    "data = load_iris()\n",
    "X = data.data\n",
    "y = data.target\n",
    "\n",
    "# Split dataset into training and test sets\n",
    "X_train, X_test, y_train, y_test = train_test_split(X, y, test_size=0.2, random_state=42)\n",
    "\n",
    "# Standardize the data\n",
    "scaler = StandardScaler()\n",
    "X_train = scaler.fit_transform(X_train)\n",
    "X_test = scaler.transform(X_test)\n",
    "\n",
    "# Define the model\n",
    "model = Sequential()\n",
    "model.add(Dense(8, input_dim=X.shape[1], activation='relu'))\n",
    "model.add(Dense(8, activation='relu'))\n",
    "model.add(Dense(3, activation='softmax'))\n",
    "\n",
    "# Compile the model\n",
    "model.compile(loss='sparse_categorical_crossentropy', optimizer='adam', metrics=['accuracy'])\n",
    "\n",
    "model.fit(X_train, y_train, epochs=10, batch_size=5, validation_data=(X_test, y_test))\n",
    "\n",
    "#evaluate the model\n",
    "loss, accuracy = model.evaluate(X_test, y_test)\n",
    "print(f'Test loss: {loss:.2f}')\n",
    "print(f'Test accuracy: {accuracy:.2f}')"
   ]
  },
  {
   "cell_type": "markdown",
   "metadata": {},
   "source": [
    "#### 2. Jaringan Saraf Konvolusi (CNN)"
   ]
  },
  {
   "cell_type": "code",
   "execution_count": 45,
   "metadata": {},
   "outputs": [
    {
     "name": "stdout",
     "output_type": "stream",
     "text": [
      "Epoch 1/10\n",
      "\u001b[1m1/1\u001b[0m \u001b[32m━━━━━━━━━━━━━━━━━━━━\u001b[0m\u001b[37m\u001b[0m \u001b[1m4s\u001b[0m 4s/step - accuracy: 1.0000 - loss: 0.6906 - val_accuracy: 0.0000e+00 - val_loss: 0.7199\n",
      "Epoch 2/10\n",
      "\u001b[1m1/1\u001b[0m \u001b[32m━━━━━━━━━━━━━━━━━━━━\u001b[0m\u001b[37m\u001b[0m \u001b[1m0s\u001b[0m 123ms/step - accuracy: 1.0000 - loss: 0.6724 - val_accuracy: 0.0000e+00 - val_loss: 0.7363\n",
      "Epoch 3/10\n",
      "\u001b[1m1/1\u001b[0m \u001b[32m━━━━━━━━━━━━━━━━━━━━\u001b[0m\u001b[37m\u001b[0m \u001b[1m0s\u001b[0m 115ms/step - accuracy: 1.0000 - loss: 0.6543 - val_accuracy: 0.0000e+00 - val_loss: 0.7569\n",
      "Epoch 4/10\n",
      "\u001b[1m1/1\u001b[0m \u001b[32m━━━━━━━━━━━━━━━━━━━━\u001b[0m\u001b[37m\u001b[0m \u001b[1m0s\u001b[0m 127ms/step - accuracy: 1.0000 - loss: 0.6336 - val_accuracy: 0.0000e+00 - val_loss: 0.7814\n",
      "Epoch 5/10\n",
      "\u001b[1m1/1\u001b[0m \u001b[32m━━━━━━━━━━━━━━━━━━━━\u001b[0m\u001b[37m\u001b[0m \u001b[1m0s\u001b[0m 123ms/step - accuracy: 1.0000 - loss: 0.6091 - val_accuracy: 0.0000e+00 - val_loss: 0.8106\n",
      "Epoch 6/10\n",
      "\u001b[1m1/1\u001b[0m \u001b[32m━━━━━━━━━━━━━━━━━━━━\u001b[0m\u001b[37m\u001b[0m \u001b[1m0s\u001b[0m 113ms/step - accuracy: 1.0000 - loss: 0.5801 - val_accuracy: 0.0000e+00 - val_loss: 0.8486\n",
      "Epoch 7/10\n",
      "\u001b[1m1/1\u001b[0m \u001b[32m━━━━━━━━━━━━━━━━━━━━\u001b[0m\u001b[37m\u001b[0m \u001b[1m0s\u001b[0m 113ms/step - accuracy: 1.0000 - loss: 0.5456 - val_accuracy: 0.0000e+00 - val_loss: 0.8982\n",
      "Epoch 8/10\n",
      "\u001b[1m1/1\u001b[0m \u001b[32m━━━━━━━━━━━━━━━━━━━━\u001b[0m\u001b[37m\u001b[0m \u001b[1m0s\u001b[0m 108ms/step - accuracy: 1.0000 - loss: 0.5050 - val_accuracy: 0.0000e+00 - val_loss: 0.9634\n",
      "Epoch 9/10\n",
      "\u001b[1m1/1\u001b[0m \u001b[32m━━━━━━━━━━━━━━━━━━━━\u001b[0m\u001b[37m\u001b[0m \u001b[1m0s\u001b[0m 111ms/step - accuracy: 1.0000 - loss: 0.4581 - val_accuracy: 0.0000e+00 - val_loss: 1.0485\n",
      "Epoch 10/10\n",
      "\u001b[1m1/1\u001b[0m \u001b[32m━━━━━━━━━━━━━━━━━━━━\u001b[0m\u001b[37m\u001b[0m \u001b[1m0s\u001b[0m 106ms/step - accuracy: 1.0000 - loss: 0.4049 - val_accuracy: 0.0000e+00 - val_loss: 1.1597\n",
      "\u001b[1m1/1\u001b[0m \u001b[32m━━━━━━━━━━━━━━━━━━━━\u001b[0m\u001b[37m\u001b[0m \u001b[1m0s\u001b[0m 177ms/step\n",
      "Prediksi: [0.7022568]\n"
     ]
    }
   ],
   "source": [
    "from tensorflow.keras.preprocessing.text import Tokenizer\n",
    "from tensorflow.keras.preprocessing.sequence import pad_sequences\n",
    "from tensorflow.keras.models import Sequential\n",
    "from tensorflow.keras.layers import Embedding, Conv1D, MaxPooling1D, Flatten, Dense\n",
    "import numpy as np\n",
    "\n",
    "# Contoh data latih dan label\n",
    "texts = [\n",
    "    'Ini adalah contoh kalimat pertama',\n",
    "    'Ini adalah kalimat kedua',\n",
    "    'Ini adalah kalimat ketiga',\n",
    "    'Kalimat keempat ini berbeda dari yang lain'\n",
    "]\n",
    "\n",
    "labels = np.array([1, 1, 1, 0])  # 1 untuk kalimat positif, 0 untuk kalimat negatif\n",
    "\n",
    "# Hyperparameters\n",
    "max_words = 10000  # Jumlah kata yang akan dipertimbangkan\n",
    "max_len = 20       # Panjang maksimum kalimat yang diizinkan\n",
    "embedding_dim = 50 # Dimensi vektor embedding\n",
    "\n",
    "# Tokenisasi teks\n",
    "tokenizer = Tokenizer(num_words=max_words)\n",
    "tokenizer.fit_on_texts(texts)\n",
    "sequences = tokenizer.texts_to_sequences(texts)\n",
    "\n",
    "# Padding sekuen agar memiliki panjang yang sama\n",
    "data = pad_sequences(sequences, maxlen=max_len)\n",
    "\n",
    "# Membangun model CNN\n",
    "model = Sequential()\n",
    "model.add(Embedding(max_words, embedding_dim, input_length=max_len))\n",
    "model.add(Conv1D(32, 5, activation='relu'))\n",
    "model.add(MaxPooling1D(2))\n",
    "model.add(Conv1D(64, 5, activation='relu'))\n",
    "model.add(MaxPooling1D(2))\n",
    "model.add(Flatten())\n",
    "model.add(Dense(64, activation='relu'))\n",
    "model.add(Dense(1, activation='sigmoid'))\n",
    "\n",
    "# Kompilasi model\n",
    "model.compile(optimizer='adam', loss='binary_crossentropy', metrics=['accuracy'])\n",
    "\n",
    "# Melatih model\n",
    "model.fit(data, labels, epochs=10, batch_size=32, validation_split=0.2)\n",
    "\n",
    "# Contoh pengujian\n",
    "test_texts = ['Ini adalah kalimat yang baru']\n",
    "test_sequences = tokenizer.texts_to_sequences(test_texts)\n",
    "test_data = pad_sequences(test_sequences, maxlen=max_len)\n",
    "predictions = model.predict(test_data)\n",
    "print(\"Prediksi:\", predictions[0])"
   ]
  },
  {
   "cell_type": "markdown",
   "metadata": {},
   "source": [
    "#### 3. Jaringan Saraf Rekursif (RNN)"
   ]
  },
  {
   "cell_type": "code",
   "execution_count": 46,
   "metadata": {},
   "outputs": [
    {
     "name": "stdout",
     "output_type": "stream",
     "text": [
      "Epoch 1/10\n",
      "\u001b[1m3/3\u001b[0m \u001b[32m━━━━━━━━━━━━━━━━━━━━\u001b[0m\u001b[37m\u001b[0m \u001b[1m3s\u001b[0m 6ms/step - accuracy: 0.8333 - loss: 0.6969\n",
      "Epoch 2/10\n",
      "\u001b[1m3/3\u001b[0m \u001b[32m━━━━━━━━━━━━━━━━━━━━\u001b[0m\u001b[37m\u001b[0m \u001b[1m0s\u001b[0m 3ms/step - accuracy: 0.7083 - loss: 0.6550  \n",
      "Epoch 3/10\n",
      "\u001b[1m3/3\u001b[0m \u001b[32m━━━━━━━━━━━━━━━━━━━━\u001b[0m\u001b[37m\u001b[0m \u001b[1m0s\u001b[0m 7ms/step - accuracy: 1.0000 - loss: 0.6089\n",
      "Epoch 4/10\n",
      "\u001b[1m3/3\u001b[0m \u001b[32m━━━━━━━━━━━━━━━━━━━━\u001b[0m\u001b[37m\u001b[0m \u001b[1m0s\u001b[0m 6ms/step - accuracy: 1.0000 - loss: 0.5425\n",
      "Epoch 5/10\n",
      "\u001b[1m3/3\u001b[0m \u001b[32m━━━━━━━━━━━━━━━━━━━━\u001b[0m\u001b[37m\u001b[0m \u001b[1m0s\u001b[0m 6ms/step - accuracy: 1.0000 - loss: 0.5205\n",
      "Epoch 6/10\n",
      "\u001b[1m3/3\u001b[0m \u001b[32m━━━━━━━━━━━━━━━━━━━━\u001b[0m\u001b[37m\u001b[0m \u001b[1m0s\u001b[0m 3ms/step - accuracy: 1.0000 - loss: 0.4771\n",
      "Epoch 7/10\n",
      "\u001b[1m3/3\u001b[0m \u001b[32m━━━━━━━━━━━━━━━━━━━━\u001b[0m\u001b[37m\u001b[0m \u001b[1m0s\u001b[0m 6ms/step - accuracy: 1.0000 - loss: 0.4187\n",
      "Epoch 8/10\n",
      "\u001b[1m3/3\u001b[0m \u001b[32m━━━━━━━━━━━━━━━━━━━━\u001b[0m\u001b[37m\u001b[0m \u001b[1m0s\u001b[0m 7ms/step - accuracy: 1.0000 - loss: 0.3482\n",
      "Epoch 9/10\n",
      "\u001b[1m3/3\u001b[0m \u001b[32m━━━━━━━━━━━━━━━━━━━━\u001b[0m\u001b[37m\u001b[0m \u001b[1m0s\u001b[0m 5ms/step - accuracy: 1.0000 - loss: 0.2983\n",
      "Epoch 10/10\n",
      "\u001b[1m3/3\u001b[0m \u001b[32m━━━━━━━━━━━━━━━━━━━━\u001b[0m\u001b[37m\u001b[0m \u001b[1m0s\u001b[0m 6ms/step - accuracy: 1.0000 - loss: 0.2347\n",
      "\u001b[1m1/1\u001b[0m \u001b[32m━━━━━━━━━━━━━━━━━━━━\u001b[0m\u001b[37m\u001b[0m \u001b[1m0s\u001b[0m 257ms/step\n",
      "Predicted Class: 1\n"
     ]
    }
   ],
   "source": [
    "import numpy as np\n",
    "import tensorflow as tf\n",
    "from tensorflow.keras.preprocessing.text import Tokenizer\n",
    "from tensorflow.keras.preprocessing.sequence import pad_sequences\n",
    "\n",
    "# Contoh data teks yang baru\n",
    "texts = [\n",
    "    \"Buah-buahan segar sangat baik untuk kesehatan.\",\n",
    "    \"Sayuran hijau mengandung banyak nutrisi penting.\",\n",
    "    \"Makanan ringan seringkali mengandung banyak gula dan lemak.\"\n",
    "]\n",
    "\n",
    "# Label kelas (binary classification)\n",
    "labels = np.array([1, 0, 1])  # 1: sehat, 0: tidak sehat\n",
    "\n",
    "# Tokenisasi teks\n",
    "tokenizer = Tokenizer()\n",
    "tokenizer.fit_on_texts(texts)\n",
    "word_index = tokenizer.word_index\n",
    "sequences = tokenizer.texts_to_sequences(texts)\n",
    "\n",
    "# Padding sequence\n",
    "max_len = max([len(seq) for seq in sequences])\n",
    "padded_sequences = pad_sequences(sequences, maxlen=max_len, padding='post')\n",
    "\n",
    "# Membuat model RNN\n",
    "num_classes = 2\n",
    "model = tf.keras.Sequential([\n",
    "    tf.keras.layers.Embedding(len(word_index) + 1, 16),\n",
    "    tf.keras.layers.SimpleRNN(32),\n",
    "    tf.keras.layers.Dense(num_classes, activation='softmax')\n",
    "])\n",
    "\n",
    "# Compile model\n",
    "model.compile(loss='sparse_categorical_crossentropy', optimizer='adam', metrics=['accuracy'])\n",
    "\n",
    "# Melatih model\n",
    "model.fit(padded_sequences, labels, epochs=10, batch_size=1)\n",
    "\n",
    "# Memprediksi dengan model\n",
    "test_text = [\"Makanan sehat merupakan kunci utama untuk hidup yang baik.\"]\n",
    "test_sequence = tokenizer.texts_to_sequences(test_text)\n",
    "padded_test_sequence = pad_sequences(test_sequence, maxlen=max_len, padding='post')\n",
    "prediction = model.predict(padded_test_sequence)\n",
    "predicted_class = np.argmax(prediction)\n",
    "print(\"Predicted Class:\", predicted_class)"
   ]
  },
  {
   "cell_type": "markdown",
   "metadata": {},
   "source": [
    "#### 4. Jaringan Saraf Transformer"
   ]
  },
  {
   "cell_type": "code",
   "execution_count": 49,
   "metadata": {},
   "outputs": [
    {
     "name": "stdout",
     "output_type": "stream",
     "text": [
      "WARNING:tensorflow:From c:\\Users\\ASUS\\AppData\\Local\\Programs\\Python\\Python311\\Lib\\site-packages\\tf_keras\\src\\losses.py:2976: The name tf.losses.sparse_softmax_cross_entropy is deprecated. Please use tf.compat.v1.losses.sparse_softmax_cross_entropy instead.\n",
      "\n",
      "tf version=2.18.0\n",
      "huggingface/transformer version=4.47.0\n"
     ]
    }
   ],
   "source": [
    "import tensorflow as tf\n",
    "import transformers\n",
    "from numpy import random\n",
    "from transformers import TFGPT2LMHeadModel, GPT2Tokenizer, GPT2Config\n",
    "\n",
    "# Menampilkan versi TensorFlow dan Transformers\n",
    "print(\"tf version={}\".format(tf.__version__))\n",
    "print(\"huggingface/transformer version={}\".format(transformers.__version__))"
   ]
  },
  {
   "cell_type": "code",
   "execution_count": 50,
   "metadata": {},
   "outputs": [
    {
     "name": "stdout",
     "output_type": "stream",
     "text": [
      "WARNING:tensorflow:From c:\\Users\\ASUS\\AppData\\Local\\Programs\\Python\\Python311\\Lib\\site-packages\\tf_keras\\src\\backend.py:873: The name tf.get_default_graph is deprecated. Please use tf.compat.v1.get_default_graph instead.\n",
      "\n"
     ]
    },
    {
     "name": "stderr",
     "output_type": "stream",
     "text": [
      "All PyTorch model weights were used when initializing TFGPT2LMHeadModel.\n",
      "\n",
      "All the weights of TFGPT2LMHeadModel were initialized from the PyTorch model.\n",
      "If your task is similar to the task the model of the checkpoint was trained on, you can already use TFGPT2LMHeadModel for predictions without further training.\n"
     ]
    }
   ],
   "source": [
    "# Model Setup\n",
    "from transformers import GPT2Config, GPT2Tokenizer, TFGPT2LMHeadModel\n",
    "\n",
    "model_name = \"gpt2-medium\"\n",
    "config = GPT2Config.from_pretrained(model_name)\n",
    "tokenizer = GPT2Tokenizer.from_pretrained(model_name)\n",
    "model = TFGPT2LMHeadModel.from_pretrained(model_name, config=config)"
   ]
  },
  {
   "cell_type": "code",
   "execution_count": 51,
   "metadata": {},
   "outputs": [
    {
     "data": {
      "text/plain": [
       "<tf.Tensor: shape=(1, 6), dtype=int32, numpy=array([[10919,   318,  1962,  1384, 20265,    30]])>"
      ]
     },
     "execution_count": 51,
     "metadata": {},
     "output_type": "execute_result"
    }
   ],
   "source": [
    "# Generate Text\n",
    "# Encode context the generation is conditioned on\n",
    "input_ids = tokenizer.encode('what is Guided Democracy?', return_tensors='tf')\n",
    "input_ids"
   ]
  },
  {
   "cell_type": "code",
   "execution_count": 52,
   "metadata": {},
   "outputs": [
    {
     "name": "stderr",
     "output_type": "stream",
     "text": [
      "The attention mask and the pad token id were not set. As a consequence, you may observe unexpected behavior. Please pass your input's `attention_mask` to obtain reliable results.\n",
      "Setting `pad_token_id` to `eos_token_id`:50256 for open-end generation.\n"
     ]
    },
    {
     "name": "stdout",
     "output_type": "stream",
     "text": [
      "Output:\n",
      "--------------------------------------------------------------------------------------------------------------\n",
      "what is Guided Democracy?\n",
      "\n",
      "Guided Democracy is a new way of thinking about democracy. It is a way of thinking about democracy that is grounded in the idea that democracy is about the people, not the party. It is a way of thinking about democracy that is grounded in the idea that democracy is about the people, not the party. It is a way of thinking about democracy that is grounded in the idea that democracy is about the people, not the party. It is a way of\n"
     ]
    }
   ],
   "source": [
    "# Greedy Decoding\n",
    "# Generate text until the output length (which includes the context length) reaches 50 tokens\n",
    "greedy_output = model.generate(input_ids, max_length=100)\n",
    "\n",
    "print(\"Output:\\n\" + 110 * '-')\n",
    "print(tokenizer.decode(greedy_output[0], skip_special_tokens=True))"
   ]
  },
  {
   "cell_type": "code",
   "execution_count": 53,
   "metadata": {},
   "outputs": [
    {
     "name": "stderr",
     "output_type": "stream",
     "text": [
      "The attention mask and the pad token id were not set. As a consequence, you may observe unexpected behavior. Please pass your input's `attention_mask` to obtain reliable results.\n",
      "Setting `pad_token_id` to `eos_token_id`:50256 for open-end generation.\n"
     ]
    },
    {
     "name": "stdout",
     "output_type": "stream",
     "text": [
      "Output:\n",
      "--------------------------------------------------------------------------------------------------------------\n",
      "0: what is Guided Democracy?\n",
      "\n",
      "Guided Democracy is an experiment at the MIT Media Lab that\n",
      "--------------------------------------------------------------------------------------------------------------\n",
      "1: what is Guided Democracy? What is Guided Democracy's Promise? Who is Guided Democracy's\n",
      "--------------------------------------------------------------------------------------------------------------\n",
      "2: what is Guided Democracy?\n",
      "\n",
      "The Guided Democracy Project is a joint initiative between the City\n",
      "--------------------------------------------------------------------------------------------------------------\n"
     ]
    }
   ],
   "source": [
    "tf.random.set_seed(0)\n",
    "\n",
    "# Use a combination of decoding techniques\n",
    "sample_outputs = model.generate(\n",
    "    input_ids,\n",
    "    do_sample=True,\n",
    "    max_length=20,\n",
    "    top_k=50,\n",
    "    top_p=0.95,\n",
    "    num_return_sequences=3\n",
    ")\n",
    "\n",
    "print(\"Output:\\n\" + 110 * '-')\n",
    "for i, sample_output in enumerate(sample_outputs):\n",
    "    print(\"{}: {}\".format(i, tokenizer.decode(sample_output, skip_special_tokens=True)))\n",
    "    print(\"-\" * 110)"
   ]
  },
  {
   "cell_type": "markdown",
   "metadata": {},
   "source": [
    "### **BAB 8** - PoS (Part-of-Speech) Tagging\n",
    "\n",
    "Bab ini membahas dasar-dasar dan aplikasi Part-of-Speech (PoS) Tagging, yaitu teknik untuk memberikan kategori tata bahasa pada setiap kata dalam teks, seperti kata benda, kata kerja, atau kata sifat. PoS Tagging adalah salah satu tugas fundamental dalam Natural Language Processing (NLP) yang berperan penting dalam pemahaman struktur tata bahasa oleh mesin."
   ]
  },
  {
   "cell_type": "markdown",
   "metadata": {},
   "source": [
    "#### Contoh kode "
   ]
  },
  {
   "cell_type": "code",
   "execution_count": 57,
   "metadata": {},
   "outputs": [
    {
     "name": "stdout",
     "output_type": "stream",
     "text": [
      "John: NNP\n",
      "likes: VBZ\n",
      "to: TO\n",
      "watch: VB\n",
      "movies: NNS\n",
      ".: .\n",
      "Mary: NNP\n",
      "likes: VBZ\n",
      "too: RB\n",
      ".: .\n"
     ]
    }
   ],
   "source": [
    "import nltk\n",
    "from nltk.tokenize import word_tokenize\n",
    "\n",
    "# Tokenisasi teks\n",
    "sentence = \"John likes to watch movies. Mary likes too.\"\n",
    "tokens = word_tokenize(sentence)\n",
    "\n",
    "# PoS Tagging\n",
    "pos_tags = nltk.pos_tag(tokens)\n",
    "\n",
    "# Output hasil tagging\n",
    "for word, tag in pos_tags:\n",
    "    print(f\"{word}: {tag}\")"
   ]
  },
  {
   "cell_type": "markdown",
   "metadata": {},
   "source": [
    "### **BAB 9** - Aplikasi NLP Dalam Dunia Nyata\n",
    "\n",
    "Bab ini membahas bagaimana teknologi Natural Language Processing (NLP) digunakan dalam pengembangan chatbot, yang kini menjadi salah satu aplikasi NLP paling populer dalam dunia nyata. Penjelasannya mencakup dasar teori, implementasi teknis, dan berbagai manfaat praktis chatbot."
   ]
  },
  {
   "cell_type": "markdown",
   "metadata": {},
   "source": [
    "#### Chatbot"
   ]
  },
  {
   "cell_type": "code",
   "execution_count": 66,
   "metadata": {},
   "outputs": [
    {
     "data": {
      "text/plain": [
       "True"
      ]
     },
     "execution_count": 66,
     "metadata": {},
     "output_type": "execute_result"
    }
   ],
   "source": [
    "import io\n",
    "import random\n",
    "import string\n",
    "import warnings\n",
    "import numpy as np\n",
    "from sklearn.feature_extraction.text import TfidfVectorizer\n",
    "from sklearn.metrics.pairwise import cosine_similarity\n",
    "import warnings\n",
    "warnings.filterwarnings('ignore')\n",
    "\n",
    "import nltk\n",
    "from nltk.stem import WordNetLemmatizer\n",
    "nltk.download('popular', quiet=True)"
   ]
  },
  {
   "cell_type": "code",
   "execution_count": 68,
   "metadata": {},
   "outputs": [
    {
     "name": "stdout",
     "output_type": "stream",
     "text": [
      "Teks chatbot yang telah dinormalisasi:\n",
      "\n",
      "halo, bagaimana saya bisa membantu anda hari ini?\n",
      "saya dapat membantu anda dengan pertanyaan tentang produk, layanan, atau informasi umum.\n",
      "jika anda membutuhkan bantuan teknis, beri tahu saya masalah yang anda alami.\n",
      "terima kasih telah menghubungi kami, semoga hari anda menyenangkan!\n",
      "\n"
     ]
    }
   ],
   "source": [
    "# Definisi teks chatbot langsung dalam kode\n",
    "raw = \"\"\"\n",
    "Halo, bagaimana saya bisa membantu Anda hari ini?\n",
    "Saya dapat membantu Anda dengan pertanyaan tentang produk, layanan, atau informasi umum.\n",
    "Jika Anda membutuhkan bantuan teknis, beri tahu saya masalah yang Anda alami.\n",
    "Terima kasih telah menghubungi kami, semoga hari Anda menyenangkan!\n",
    "\"\"\"\n",
    "\n",
    "# Proses normalisasi\n",
    "raw = raw.lower()\n",
    "\n",
    "print(\"Teks chatbot yang telah dinormalisasi:\")\n",
    "print(raw)"
   ]
  },
  {
   "cell_type": "code",
   "execution_count": 69,
   "metadata": {},
   "outputs": [],
   "source": [
    "sent_tokens = nltk.sent_tokenize(raw)\n",
    "word_tokens = nltk.word_tokenize(raw)"
   ]
  },
  {
   "cell_type": "code",
   "execution_count": 70,
   "metadata": {},
   "outputs": [],
   "source": [
    "lemmer = nltk.stem.WordNetLemmatizer()\n",
    "#WordNet is a semantically-oriented dictionary of English included in NLTK.\n",
    "def LemTokens(tokens):\n",
    "    return [lemmer.lemmatize(token) for token in tokens]\n",
    "remove_punct_dict = dict((ord(punct), None) for punct in string.punctuation)\n",
    "\n",
    "def LemNormalize(text):\n",
    "    return LemTokens(nltk.word_tokenize(text.lower().translate(remove_punct_dict)))"
   ]
  },
  {
   "cell_type": "code",
   "execution_count": 71,
   "metadata": {},
   "outputs": [],
   "source": [
    "GREETING_INPUTS = (\"halo\", \"hai\", \"siang\", \"pagi\", \"sore\", \"malam\")\n",
    "GREETING_RESPONSES = [\"Hai juga!\", \"Selamat siang!\", \"Selamat pagi!\", \"Selamat sore!\", \"Selamat malam!\", \"Apa kabar?\"]\n",
    "QUESTION_RESPONSES = {\n",
    "    \"apa kabar?\": [\"Saya baik, terima kasih.\", \"Baik-baik saja, terima kasih.\", \"Saya sedang berfungsi dengan baik.\"],\n",
    "    \"siapa nama kamu?\": [\"Saya adalah Robot.\", \"Anda bisa memanggil saya Robot.\", \"Nama saya adalah Robot.\"],\n",
    "    \"apa yang bisa kamu lakukan?\": [\"Saya dapat membantu Anda dengan pertanyaan yang Anda miliki.\", \"Anda bisa bertanya apa saja.\"]\n",
    "    # Tambahkan lebih banyak pertanyaan dan jawaban sesuai kebutuhan\n",
    "}\n",
    "\n",
    "def greeting(kalimat):\n",
    "    for kata in kalimat.split():\n",
    "        if kata. lower() in GREETING_INPUTS:\n",
    "            return random.choice(GREETING_RESPONSES)\n",
    "\n",
    "    # Cek apakah pertanyaan ada dalam daftar pertanyaan dan berikan jawaban jika ada\n",
    "    for pertanyaan, jawaban in QUESTION_RESPONSES.items():\n",
    "        if kalimat.lower() == pertanyaan:\n",
    "            return random.choice(jawaban)\n",
    "\n",
    "    # Jika tidak ada pertanyaan yang cocok, kembalikan None\n",
    "    return None"
   ]
  },
  {
   "cell_type": "code",
   "execution_count": 72,
   "metadata": {},
   "outputs": [],
   "source": [
    "def response(user_response):\n",
    "    robo_response=''\n",
    "    sent_tokens.append(user_response)\n",
    "    TfidfVec = TfidfVectorizer(tokenizer=LemNormalize, stop_words='english')\n",
    "    tfidf = TfidfVec.fit_transform(sent_tokens)\n",
    "    vals = cosine_similarity(tfidf[-1], tfidf)\n",
    "    idx=vals.argsort()[0][-2]\n",
    "    flat = vals. flatten()\n",
    "    flat.sort()\n",
    "    req_tfidf = flat[-2]\n",
    "    if(req_tfidf == 0):\n",
    "        robo_response=robo_response+\"Sorry! Aku tidak faham\"\n",
    "        return robo_response\n",
    "    else:\n",
    "        robo_response = robo_response+sent_tokens[idx]\n",
    "        return robo_response"
   ]
  },
  {
   "cell_type": "code",
   "execution_count": 74,
   "metadata": {},
   "outputs": [
    {
     "name": "stdout",
     "output_type": "stream",
     "text": [
      "ROBOT: Perkenalkan Nama saya Robot, Semoga hari - hari mu menyenangkan !! \n",
      "ROBOT: Hai juga!\n",
      "ROBOT: Sorry! Aku tidak faham\n",
      "ROBOT: Sorry! Aku tidak faham\n",
      "ROBOT: Sorry! Aku tidak faham\n",
      "ROBOT: Sorry! Aku tidak faham\n",
      "ROBOT: Sorry! Aku tidak faham\n",
      "ROBOT: Sorry! Aku tidak faham\n"
     ]
    },
    {
     "ename": "KeyboardInterrupt",
     "evalue": "Interrupted by user",
     "output_type": "error",
     "traceback": [
      "\u001b[1;31m---------------------------------------------------------------------------\u001b[0m",
      "\u001b[1;31mKeyboardInterrupt\u001b[0m                         Traceback (most recent call last)",
      "Cell \u001b[1;32mIn[74], line 4\u001b[0m\n\u001b[0;32m      2\u001b[0m \u001b[38;5;28mprint\u001b[39m(\u001b[38;5;124m\"\u001b[39m\u001b[38;5;124mROBOT: Perkenalkan Nama saya Robot, Semoga hari - hari mu menyenangkan !! \u001b[39m\u001b[38;5;124m\"\u001b[39m)\n\u001b[0;32m      3\u001b[0m \u001b[38;5;28;01mwhile\u001b[39;00m(flag \u001b[38;5;241m==\u001b[39m \u001b[38;5;28;01mTrue\u001b[39;00m):\n\u001b[1;32m----> 4\u001b[0m     user_response \u001b[38;5;241m=\u001b[39m \u001b[38;5;28;43minput\u001b[39;49m\u001b[43m(\u001b[49m\u001b[43m)\u001b[49m\n\u001b[0;32m      5\u001b[0m     user_response\u001b[38;5;241m=\u001b[39muser_response\u001b[38;5;241m.\u001b[39mlower()\n\u001b[0;32m      6\u001b[0m     \u001b[38;5;28;01mif\u001b[39;00m(user_response \u001b[38;5;241m!=\u001b[39m \u001b[38;5;124m'\u001b[39m\u001b[38;5;124mbye\u001b[39m\u001b[38;5;124m'\u001b[39m):\n",
      "File \u001b[1;32mc:\\Users\\ASUS\\AppData\\Local\\Programs\\Python\\Python311\\Lib\\site-packages\\ipykernel\\kernelbase.py:1202\u001b[0m, in \u001b[0;36mKernel.raw_input\u001b[1;34m(self, prompt)\u001b[0m\n\u001b[0;32m   1200\u001b[0m     msg \u001b[38;5;241m=\u001b[39m \u001b[38;5;124m\"\u001b[39m\u001b[38;5;124mraw_input was called, but this frontend does not support input requests.\u001b[39m\u001b[38;5;124m\"\u001b[39m\n\u001b[0;32m   1201\u001b[0m     \u001b[38;5;28;01mraise\u001b[39;00m StdinNotImplementedError(msg)\n\u001b[1;32m-> 1202\u001b[0m \u001b[38;5;28;01mreturn\u001b[39;00m \u001b[38;5;28;43mself\u001b[39;49m\u001b[38;5;241;43m.\u001b[39;49m\u001b[43m_input_request\u001b[49m\u001b[43m(\u001b[49m\n\u001b[0;32m   1203\u001b[0m \u001b[43m    \u001b[49m\u001b[38;5;28;43mstr\u001b[39;49m\u001b[43m(\u001b[49m\u001b[43mprompt\u001b[49m\u001b[43m)\u001b[49m\u001b[43m,\u001b[49m\n\u001b[0;32m   1204\u001b[0m \u001b[43m    \u001b[49m\u001b[38;5;28;43mself\u001b[39;49m\u001b[38;5;241;43m.\u001b[39;49m\u001b[43m_parent_ident\u001b[49m\u001b[43m[\u001b[49m\u001b[38;5;124;43m\"\u001b[39;49m\u001b[38;5;124;43mshell\u001b[39;49m\u001b[38;5;124;43m\"\u001b[39;49m\u001b[43m]\u001b[49m\u001b[43m,\u001b[49m\n\u001b[0;32m   1205\u001b[0m \u001b[43m    \u001b[49m\u001b[38;5;28;43mself\u001b[39;49m\u001b[38;5;241;43m.\u001b[39;49m\u001b[43mget_parent\u001b[49m\u001b[43m(\u001b[49m\u001b[38;5;124;43m\"\u001b[39;49m\u001b[38;5;124;43mshell\u001b[39;49m\u001b[38;5;124;43m\"\u001b[39;49m\u001b[43m)\u001b[49m\u001b[43m,\u001b[49m\n\u001b[0;32m   1206\u001b[0m \u001b[43m    \u001b[49m\u001b[43mpassword\u001b[49m\u001b[38;5;241;43m=\u001b[39;49m\u001b[38;5;28;43;01mFalse\u001b[39;49;00m\u001b[43m,\u001b[49m\n\u001b[0;32m   1207\u001b[0m \u001b[43m\u001b[49m\u001b[43m)\u001b[49m\n",
      "File \u001b[1;32mc:\\Users\\ASUS\\AppData\\Local\\Programs\\Python\\Python311\\Lib\\site-packages\\ipykernel\\kernelbase.py:1245\u001b[0m, in \u001b[0;36mKernel._input_request\u001b[1;34m(self, prompt, ident, parent, password)\u001b[0m\n\u001b[0;32m   1242\u001b[0m \u001b[38;5;28;01mexcept\u001b[39;00m \u001b[38;5;167;01mKeyboardInterrupt\u001b[39;00m:\n\u001b[0;32m   1243\u001b[0m     \u001b[38;5;66;03m# re-raise KeyboardInterrupt, to truncate traceback\u001b[39;00m\n\u001b[0;32m   1244\u001b[0m     msg \u001b[38;5;241m=\u001b[39m \u001b[38;5;124m\"\u001b[39m\u001b[38;5;124mInterrupted by user\u001b[39m\u001b[38;5;124m\"\u001b[39m\n\u001b[1;32m-> 1245\u001b[0m     \u001b[38;5;28;01mraise\u001b[39;00m \u001b[38;5;167;01mKeyboardInterrupt\u001b[39;00m(msg) \u001b[38;5;28;01mfrom\u001b[39;00m \u001b[38;5;28;01mNone\u001b[39;00m\n\u001b[0;32m   1246\u001b[0m \u001b[38;5;28;01mexcept\u001b[39;00m \u001b[38;5;167;01mException\u001b[39;00m:\n\u001b[0;32m   1247\u001b[0m     \u001b[38;5;28mself\u001b[39m\u001b[38;5;241m.\u001b[39mlog\u001b[38;5;241m.\u001b[39mwarning(\u001b[38;5;124m\"\u001b[39m\u001b[38;5;124mInvalid Message:\u001b[39m\u001b[38;5;124m\"\u001b[39m, exc_info\u001b[38;5;241m=\u001b[39m\u001b[38;5;28;01mTrue\u001b[39;00m)\n",
      "\u001b[1;31mKeyboardInterrupt\u001b[0m: Interrupted by user"
     ]
    }
   ],
   "source": [
    "flag=True\n",
    "print(\"ROBOT: Perkenalkan Nama saya Robot, Semoga hari - hari mu menyenangkan !! \")\n",
    "while(flag == True):\n",
    "    user_response = input()\n",
    "    user_response=user_response.lower()\n",
    "    if(user_response != 'bye'):\n",
    "        if(user_response == 'Makasih' or user_response == 'Terima Kasih' ):\n",
    "            flag=False\n",
    "            print(\"ROBOT: You are welcome .. \")\n",
    "        else:\n",
    "            if(greeting(user_response) != None):\n",
    "                print(\"ROBOT: \"+greeting(user_response))\n",
    "            else:\n",
    "                print(\"ROBOT: \",end=\"\")\n",
    "                print(response(user_response))\n",
    "                sent_tokens.remove(user_response)\n",
    "    else:\n",
    "        flag=False\n",
    "        print(\"ROBOT: Bye! Selamat Berjuang! !\")"
   ]
  }
 ],
 "metadata": {
  "kernelspec": {
   "display_name": "Python 3",
   "language": "python",
   "name": "python3"
  },
  "language_info": {
   "codemirror_mode": {
    "name": "ipython",
    "version": 3
   },
   "file_extension": ".py",
   "mimetype": "text/x-python",
   "name": "python",
   "nbconvert_exporter": "python",
   "pygments_lexer": "ipython3",
   "version": "3.11.4"
  }
 },
 "nbformat": 4,
 "nbformat_minor": 2
}
